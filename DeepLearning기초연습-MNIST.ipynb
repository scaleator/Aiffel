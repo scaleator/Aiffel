{
 "cells": [
  {
   "cell_type": "code",
   "execution_count": 2,
   "metadata": {},
   "outputs": [
    {
     "name": "stdout",
     "output_type": "stream",
     "text": [
      "Epoch 1/10\n",
      "1875/1875 [==============================] - 1s 781us/step - loss: 0.4975 - accuracy: 0.8812\n",
      "Epoch 2/10\n",
      "1875/1875 [==============================] - 1s 788us/step - loss: 0.2317 - accuracy: 0.9346\n",
      "Epoch 3/10\n",
      "1875/1875 [==============================] - 1s 782us/step - loss: 0.1821 - accuracy: 0.9489\n",
      "Epoch 4/10\n",
      "1875/1875 [==============================] - 1s 780us/step - loss: 0.1519 - accuracy: 0.9572\n",
      "Epoch 5/10\n",
      "1875/1875 [==============================] - 1s 784us/step - loss: 0.1311 - accuracy: 0.9633\n",
      "Epoch 6/10\n",
      "1875/1875 [==============================] - 1s 793us/step - loss: 0.1156 - accuracy: 0.9683\n",
      "Epoch 7/10\n",
      "1875/1875 [==============================] - 1s 786us/step - loss: 0.1035 - accuracy: 0.9706\n",
      "Epoch 8/10\n",
      "1875/1875 [==============================] - 1s 776us/step - loss: 0.0932 - accuracy: 0.9739\n",
      "Epoch 9/10\n",
      "1875/1875 [==============================] - 1s 788us/step - loss: 0.0846 - accuracy: 0.9762\n",
      "Epoch 10/10\n",
      "1875/1875 [==============================] - 1s 789us/step - loss: 0.0772 - accuracy: 0.9789\n",
      "313/313 - 0s - loss: 0.1103 - accuracy: 0.9671\n",
      "test_loss: 0.11029526591300964\n",
      "test_accuracy: 0.9671000242233276\n"
     ]
    }
   ],
   "source": [
    "import tensorflow as tf\n",
    "from tensorflow import keras\n",
    "import numpy as np\n",
    "import matplotlib.pyplot as plt\n",
    "\n",
    "# MNIST 데이터를 로드. 다운로드하지 않았다면 다운로드까지 자동으로 진행됩니다. \n",
    "\n",
    "mnist = keras.datasets.mnist\n",
    "(x_train, y_train), (x_test, y_test) = mnist.load_data()\n",
    "\n",
    "# 모델에 맞게 데이터 가공\n",
    "\n",
    "x_train_norm, x_test_norm = x_train / 255.0, x_test/255.0\n",
    "x_train_reshaped = x_train_norm.reshape(-1, x_train_norm.shape[1] * x_train_norm.shape[2])\n",
    "x_test_reshaped = x_test_norm.reshape(-1, x_test_norm.shape[1] * x_test_norm.shape[2])\n",
    "\n",
    "# 딥러닝 모델 구성 - 2 Layer Perceptron\n",
    "\n",
    "model = keras.models.Sequential()\n",
    "model.add(keras.layers.Dense(50, activation = 'sigmoid', input_shape = (784,))) # 입력층 d=784, 레이어 H= 50\n",
    "model.add(keras.layers.Dense(10, activation = 'softmax')) #출력층 레이어 K=10\n",
    "\n",
    "# 모델 구성과 학습\n",
    "\n",
    "model.compile(optimizer = 'adam', loss='sparse_categorical_crossentropy', metrics = ['accuracy'])\n",
    "model.fit(x_train_reshaped, y_train, epochs = 10)\n",
    "\n",
    "# 모델 테스트 결과\n",
    "\n",
    "test_loss, test_accuracy = model.evaluate(x_test_reshaped, y_test, verbose = 2)\n",
    "print(\"test_loss: {}\".format(test_loss))\n",
    "print(\"test_accuracy: {}\".format(test_accuracy))"
   ]
  },
  {
   "cell_type": "markdown",
   "metadata": {},
   "source": [
    "Conv2D 같은 이미지 분류에 특화된 모델을 사용하지 않아도 가장 기본적인 신경망형태인 다중 퍼셉트론만을 이용하여 더욱 간단하게 구현.\n",
    "\n",
    "뇌속의 뉴런이 1000억개라지만 위에서 만든 모델은 굳이 Conv2D 를 사용하지 않았는데도 39,760 개의 파라미터만으로 테스트 성능이 97%에 육박하고 있다."
   ]
  },
  {
   "cell_type": "code",
   "execution_count": 3,
   "metadata": {},
   "outputs": [
    {
     "name": "stdout",
     "output_type": "stream",
     "text": [
      "(60000, 784)\n",
      "(5, 784)\n"
     ]
    }
   ],
   "source": [
    "# 입력층 데이터의 모양(shape)\n",
    "print(x_train_reshaped.shape)\n",
    "\n",
    "# 테스트를 위해 x_train_reshaped의 앞 5개의 데이터를 가져온다.\n",
    "X = x_train_reshaped[:5]\n",
    "print(X.shape)"
   ]
  },
  {
   "cell_type": "code",
   "execution_count": 4,
   "metadata": {},
   "outputs": [
    {
     "name": "stdout",
     "output_type": "stream",
     "text": [
      "(784, 50)\n",
      "(50,)\n",
      "(5, 50)\n"
     ]
    }
   ],
   "source": [
    "weight_init_std = 0.1\n",
    "input_size = 784\n",
    "hidden_size = 50\n",
    "\n",
    "# 인접 레이어간 관계를 나타내는 파라미터 W를 생성하고 random 초기화\n",
    "\n",
    "W1 = weight_init_std * np.random.randn(input_size, hidden_size)\n",
    "\n",
    "# 바이어스 파라미터 b를 생성하고 Zero로 초기화\n",
    "\n",
    "b1 = np.zeros(hidden_size)\n",
    "a1 = np.dot(X, W1) +b1 #은닉충 출력\n",
    "\n",
    "\n",
    "print(W1.shape)\n",
    "print(b1.shape)\n",
    "print(a1.shape)"
   ]
  },
  {
   "cell_type": "code",
   "execution_count": 5,
   "metadata": {},
   "outputs": [
    {
     "data": {
      "text/plain": [
       "array([-0.50120586, -0.33421405,  0.9906413 ,  0.87633092, -0.20340676,\n",
       "       -0.71607405,  0.14319528, -0.55338482,  1.42735114,  0.01935346,\n",
       "       -0.3486795 , -0.1154462 ,  0.31895904, -0.52975189,  0.83908988,\n",
       "        1.12569938, -2.01602405,  0.88303237, -0.34483075,  1.20240123,\n",
       "        0.45473529,  0.2797401 ,  1.206846  , -0.79663409, -0.32704411,\n",
       "       -1.09174294,  0.13924165, -0.84746096,  1.26966567, -0.48782434,\n",
       "        1.8751357 ,  1.17884173, -0.23909727, -0.35211207,  0.05556479,\n",
       "        0.34746726,  0.53470158,  0.12921133, -1.44716005, -2.89017923,\n",
       "       -1.21854027,  0.13391244, -0.38999727, -2.22883926, -0.10460123,\n",
       "       -0.99071815,  0.33413813,  0.15880629, -0.49124938, -0.81830715])"
      ]
     },
     "execution_count": 5,
     "metadata": {},
     "output_type": "execute_result"
    }
   ],
   "source": [
    "a1[0]"
   ]
  },
  {
   "cell_type": "code",
   "execution_count": 6,
   "metadata": {},
   "outputs": [
    {
     "name": "stdout",
     "output_type": "stream",
     "text": [
      "[0.37725733 0.41721563 0.72921457 0.70606132 0.44932292 0.32825809\n",
      " 0.53573777 0.36507946 0.80648826 0.50483821 0.41370268 0.47117046\n",
      " 0.57907054 0.37057476 0.6982735  0.75504436 0.11753074 0.70745021\n",
      " 0.41463651 0.76895167 0.6117645  0.5694825  0.76974041 0.31074598\n",
      " 0.41896001 0.25129021 0.53475428 0.29996575 0.78068551 0.38040623\n",
      " 0.8670514  0.76473948 0.44050883 0.41287034 0.51388762 0.58600326\n",
      " 0.63057901 0.53225796 0.19043902 0.05264118 0.22819344 0.53342817\n",
      " 0.40371796 0.09719044 0.47387351 0.27077025 0.5827659  0.53961834\n",
      " 0.37959929 0.30612312]\n"
     ]
    }
   ],
   "source": [
    "# Sigmoid 함수 구현\n",
    "\n",
    "def sigmoid(x):\n",
    "    return 1/ (1+np.exp(-x))\n",
    "\n",
    "z1 = sigmoid(a1)\n",
    "print(z1[0])        #sigmoid 의 출력은 모든 엘리먼트가 0에서 1사이"
   ]
  },
  {
   "cell_type": "code",
   "execution_count": 7,
   "metadata": {},
   "outputs": [
    {
     "name": "stdout",
     "output_type": "stream",
     "text": [
      "[-0.90959744  0.65503514  0.5077947   0.28573633  0.51663969  0.44677395\n",
      "  0.33199071 -0.52759298  0.02316838  0.33841303]\n"
     ]
    }
   ],
   "source": [
    "#단일 레이어 구현 함수\n",
    "\n",
    "def affine_layer_forward(X,W,b):\n",
    "    y =np.dot(X,W) +b\n",
    "    cache = (X, W, b)\n",
    "    return y, cache\n",
    "\n",
    "\n",
    "input_size = 784\n",
    "hidden_size = 50\n",
    "output_size = 10\n",
    "\n",
    "W1 = weight_init_std*np.random.randn(input_size, hidden_size)\n",
    "b1 = np.zeros(hidden_size)\n",
    "W2 = weight_init_std*np.random.randn(hidden_size, output_size)\n",
    "b2 = np.zeros(output_size)\n",
    "\n",
    "a1, cache1 = affine_layer_forward(X,W1,b1)\n",
    "z1 = sigmoid(a1)\n",
    "a2, cache2 = affine_layer_forward(z1, W2, b2) #z1 이 다시 두번째 레이어의 입력이됌\n",
    "\n",
    "print(a2[0]) # 최종 출력이 output_size 만큼 벡터가됌"
   ]
  },
  {
   "cell_type": "code",
   "execution_count": 9,
   "metadata": {},
   "outputs": [],
   "source": [
    "# 최종출력인 a2 에 softmax 함수를 적용해보자. 그러면 모델의 출력은 입력 X 가 10가지 숫자 중 하나일 확률의 형태로 가공됌\n",
    "\n",
    "def softmax(x):\n",
    "    if x.ndim==2:\n",
    "        x = x.T\n",
    "        x = x - np.max(x, axis =0)\n",
    "        y = np.exp(x) / np.sum(np.exp(x), axis = 0)\n",
    "        return y.T\n",
    "    \n",
    "    x = x - np.max(x) #오버플로우 대책\n",
    "    return np.exp(x) / np.sum(np.exp(x))"
   ]
  },
  {
   "cell_type": "code",
   "execution_count": 11,
   "metadata": {},
   "outputs": [
    {
     "data": {
      "text/plain": [
       "array([0.03104793, 0.1484376 , 0.12811447, 0.10260286, 0.12925267,\n",
       "       0.12053057, 0.10746016, 0.045492  , 0.0789092 , 0.10815253])"
      ]
     },
     "execution_count": 11,
     "metadata": {},
     "output_type": "execute_result"
    }
   ],
   "source": [
    "y_hat = softmax(a2)\n",
    "y_hat[0]"
   ]
  },
  {
   "cell_type": "code",
   "execution_count": 12,
   "metadata": {},
   "outputs": [
    {
     "data": {
      "text/plain": [
       "array([[0., 0., 0., 0., 0., 1., 0., 0., 0., 0.],\n",
       "       [1., 0., 0., 0., 0., 0., 0., 0., 0., 0.],\n",
       "       [0., 0., 0., 0., 1., 0., 0., 0., 0., 0.],\n",
       "       [0., 1., 0., 0., 0., 0., 0., 0., 0., 0.],\n",
       "       [0., 0., 0., 0., 0., 0., 0., 0., 0., 1.]])"
      ]
     },
     "execution_count": 12,
     "metadata": {},
     "output_type": "execute_result"
    }
   ],
   "source": [
    "# 정답 라벨을 One-hot 인코딩하는 함수\n",
    "\n",
    "def _change_one_hot_label (X, num_category):\n",
    "    T = np.zeros((X.size, num_category))\n",
    "    for idx, row in enumerate(T):\n",
    "        row[X[idx]] = 1\n",
    "    return T\n",
    "\n",
    "Y_digit = y_train[:5]\n",
    "t = _change_one_hot_label(Y_digit, 10)\n",
    "t # 정답라벨의 One-hot 인코딩"
   ]
  },
  {
   "cell_type": "code",
   "execution_count": 14,
   "metadata": {},
   "outputs": [
    {
     "data": {
      "text/plain": [
       "2.3776196871580004"
      ]
     },
     "execution_count": 14,
     "metadata": {},
     "output_type": "execute_result"
    }
   ],
   "source": [
    "def cross_entropy_error(y,t):\n",
    "    if y.ndim ==1:\n",
    "        t = t.reshape(1, t.size)\n",
    "        y = y.reshape(1, y.size)\n",
    "        \n",
    "     # 훈련 데이터가 One-hot 벡터라면 정답 레이블의 인덱스로 반환\n",
    "    \n",
    "    if t.size == y.size:\n",
    "        t = t.argmax(axis =1)\n",
    "        \n",
    "    batch_size = y.shape[0]\n",
    "    return -np.sum(np.log(y[np.arange(batch_size), t])) / batch_size\n",
    "\n",
    "Loss = cross_entropy_error(y_hat, t)\n",
    "Loss\n",
    "        "
   ]
  },
  {
   "cell_type": "code",
   "execution_count": 15,
   "metadata": {},
   "outputs": [
    {
     "data": {
      "text/plain": [
       "array([[ 0.00620959,  0.02968752,  0.02562289,  0.02052057,  0.02585053,\n",
       "        -0.17589389,  0.02149203,  0.0090984 ,  0.01578184,  0.02163051],\n",
       "       [-0.19409704,  0.0274832 ,  0.02708296,  0.01976781,  0.03174374,\n",
       "         0.02181044,  0.01988723,  0.0080726 ,  0.01561451,  0.02263455],\n",
       "       [ 0.00604094,  0.0263846 ,  0.02798451,  0.02260798, -0.18021132,\n",
       "         0.01889301,  0.02266072,  0.00930526,  0.02011263,  0.02622166],\n",
       "       [ 0.00673061, -0.17015387,  0.02680114,  0.02413317,  0.02330325,\n",
       "         0.02008647,  0.02292896,  0.00958179,  0.01445454,  0.02213394],\n",
       "       [ 0.00613033,  0.02728627,  0.02700857,  0.02387341,  0.02310296,\n",
       "         0.01758119,  0.0218305 ,  0.00861027,  0.01841203, -0.17383552]])"
      ]
     },
     "execution_count": 15,
     "metadata": {},
     "output_type": "execute_result"
    }
   ],
   "source": [
    "batch_num = y_hat.shape[0]\n",
    "dy = (y_hat - t) / batch_num\n",
    "dy    # softmax값의 출력으로 Loss를 미분한 값"
   ]
  },
  {
   "cell_type": "code",
   "execution_count": 16,
   "metadata": {},
   "outputs": [
    {
     "data": {
      "text/plain": [
       "array([[-0.15406078, -0.0012691 ,  0.07565229,  0.06105353, -0.00612512,\n",
       "        -0.08822708,  0.06053789,  0.02489705,  0.04675176, -0.01921045],\n",
       "       [-0.02245543, -0.0478202 ,  0.05223369,  0.04397947, -0.04138911,\n",
       "        -0.03302869,  0.04282194,  0.01758982,  0.03300289, -0.04493438],\n",
       "       [-0.14903064, -0.05373624,  0.08218959,  0.06690136, -0.00680316,\n",
       "        -0.0892844 ,  0.06626083,  0.02734282,  0.05009115,  0.00606869],\n",
       "       [-0.1618733 , -0.02229848,  0.09267935,  0.07563432, -0.04074074,\n",
       "        -0.05774459,  0.07435877,  0.03049289,  0.05788133, -0.04838956],\n",
       "       [-0.10455904, -0.03175407,  0.07120906,  0.05864769, -0.06280546,\n",
       "        -0.00811451,  0.05727745,  0.02343681,  0.0449622 , -0.04830012],\n",
       "       [-0.09251042, -0.0135894 ,  0.0602715 ,  0.04953527, -0.01014565,\n",
       "        -0.04597705,  0.04851005,  0.01987033,  0.03767848, -0.05364311],\n",
       "       [-0.02001007, -0.03311494,  0.04645908,  0.03890843, -0.08548573,\n",
       "        -0.00104785,  0.03791705,  0.01554441,  0.03004936, -0.02921975],\n",
       "       [-0.03731394, -0.01569755,  0.05165619,  0.04274764, -0.09921332,\n",
       "        -0.01033135,  0.04191221,  0.01718466,  0.03354767, -0.02449221],\n",
       "       [-0.05047785, -0.01174713,  0.04871224,  0.04012008, -0.04755589,\n",
       "        -0.03963692,  0.03946913,  0.01621228,  0.03096619, -0.02606215],\n",
       "       [-0.08672715,  0.01669168,  0.05377479,  0.04322304, -0.00974573,\n",
       "        -0.11358444,  0.04335658,  0.01792581,  0.03346594,  0.00161947],\n",
       "       [-0.1450565 , -0.00842541,  0.07779215,  0.06354353, -0.02070695,\n",
       "        -0.0364227 ,  0.06220459,  0.02543116,  0.0486925 , -0.06705239],\n",
       "       [-0.1559744 ,  0.00364486,  0.07495129,  0.06051933,  0.0023952 ,\n",
       "        -0.08520721,  0.05990162,  0.02460491,  0.04634231, -0.0311779 ],\n",
       "       [-0.11570386, -0.02278439,  0.07975661,  0.06564334, -0.02336196,\n",
       "        -0.05697138,  0.06427583,  0.0263365 ,  0.04994835, -0.06713904],\n",
       "       [-0.12319703, -0.07546662,  0.08219196,  0.06833108, -0.0008567 ,\n",
       "        -0.02128577,  0.06637419,  0.02717816,  0.05062055, -0.07388981],\n",
       "       [-0.10092148, -0.03746936,  0.08635664,  0.07106154, -0.0403284 ,\n",
       "        -0.09776289,  0.07007154,  0.02885477,  0.05392986, -0.03379224],\n",
       "       [-0.09548292, -0.01582857,  0.06148077,  0.04994113, -0.07617632,\n",
       "        -0.03626864,  0.04945195,  0.02034563,  0.0388217 ,  0.00371525],\n",
       "       [-0.02662887,  0.01721204,  0.04758462,  0.03928017, -0.03014191,\n",
       "        -0.0841587 ,  0.03878194,  0.01593912,  0.03063381, -0.04850222],\n",
       "       [-0.13113878, -0.00575796,  0.08617241,  0.07008486, -0.04934633,\n",
       "        -0.09860708,  0.06942273,  0.0285673 ,  0.05403787, -0.02343501],\n",
       "       [-0.11645657, -0.02765871,  0.06759064,  0.05546531, -0.05216508,\n",
       "         0.00074227,  0.05414398,  0.02213191,  0.04251896, -0.0463127 ],\n",
       "       [-0.000191  , -0.02089754,  0.04673956,  0.03935341, -0.07700124,\n",
       "        -0.02661329,  0.03836849,  0.01573462,  0.03047739, -0.04597039],\n",
       "       [-0.08661092, -0.02495564,  0.07584064,  0.06296234, -0.00618966,\n",
       "        -0.06621275,  0.06142051,  0.0251523 ,  0.04757113, -0.08897797],\n",
       "       [-0.07130831, -0.08218065,  0.09113141,  0.0761849 , -0.04746371,\n",
       "        -0.06741199,  0.07442104,  0.03060076,  0.0569294 , -0.06090285],\n",
       "       [-0.02378385, -0.03492351,  0.04487361,  0.0377397 , -0.05427568,\n",
       "        -0.00514193,  0.03661022,  0.01498604,  0.02871752, -0.04480212],\n",
       "       [-0.10543234, -0.00529494,  0.07445859,  0.06093975, -0.08334384,\n",
       "        -0.02867595,  0.05983724,  0.02450097,  0.04752346, -0.04451296],\n",
       "       [-0.14582871, -0.06288705,  0.08557061,  0.07043992,  0.01212907,\n",
       "        -0.06002776,  0.06898317,  0.02832987,  0.05234649, -0.0490556 ],\n",
       "       [-0.04140877, -0.08522349,  0.05645597,  0.04732755, -0.04054757,\n",
       "        -0.03119671,  0.04631025,  0.01911523,  0.03479193, -0.00562438],\n",
       "       [-0.12310427, -0.01237135,  0.06686739,  0.05465492, -0.00740342,\n",
       "        -0.04175887,  0.05355937,  0.02192382,  0.04162757, -0.05399516],\n",
       "       [-0.11031658, -0.0515137 ,  0.06997736,  0.05789214, -0.04056972,\n",
       "         0.00622236,  0.0562798 ,  0.02301005,  0.04369863, -0.05468033],\n",
       "       [-0.0458945 , -0.00880166,  0.05823155,  0.04824354, -0.03753272,\n",
       "        -0.06680784,  0.04736917,  0.0194511 ,  0.03704771, -0.05130634],\n",
       "       [-0.12509009, -0.05050636,  0.089913  ,  0.07429229, -0.01087253,\n",
       "        -0.06747421,  0.07268465,  0.02982385,  0.05579017, -0.06856077],\n",
       "       [-0.10046863, -0.05189903,  0.0944286 ,  0.0783107 , -0.05293056,\n",
       "        -0.06567457,  0.07661929,  0.03144755,  0.05931787, -0.0691512 ],\n",
       "       [-0.06452217, -0.05139615,  0.05987462,  0.04941931, -0.00327901,\n",
       "        -0.09233709,  0.04889937,  0.020232  ,  0.03662154, -0.00351241],\n",
       "       [-0.129433  , -0.00862828,  0.08621304,  0.07075228, -0.05998675,\n",
       "        -0.03639622,  0.06923373,  0.02831112,  0.05465222, -0.07471815],\n",
       "       [-0.04746591, -0.00444719,  0.0444911 ,  0.03646637, -0.04482461,\n",
       "        -0.04691358,  0.03603987,  0.01482618,  0.02829626, -0.01646849],\n",
       "       [-0.08129043, -0.03381724,  0.07252463,  0.06002924, -0.02811613,\n",
       "        -0.06342645,  0.05881859,  0.02415119,  0.0454342 , -0.05430759],\n",
       "       [-0.11461516, -0.02622959,  0.08609422,  0.07085721, -0.03740826,\n",
       "        -0.07032075,  0.06953459,  0.02853124,  0.05401546, -0.06045898],\n",
       "       [-0.15901463, -0.0581337 ,  0.10868234,  0.08956516, -0.01055904,\n",
       "        -0.08943407,  0.08779378,  0.03604794,  0.06729743, -0.07224521],\n",
       "       [-0.02220726,  0.00688715,  0.05952496,  0.04976716, -0.09469265,\n",
       "        -0.02029348,  0.04837331,  0.01972917,  0.03926146, -0.08634983],\n",
       "       [-0.11442523,  0.01406357,  0.06574942,  0.05381719, -0.01652426,\n",
       "        -0.03371204,  0.05253145,  0.02141562,  0.04165227, -0.08456799],\n",
       "       [-0.0516705 , -0.07617448,  0.05856759,  0.04919969, -0.04057242,\n",
       "        -0.00588664,  0.04776659,  0.01960801,  0.03644027, -0.03727811],\n",
       "       [-0.09687285,  0.02616696,  0.06218901,  0.05085822, -0.01402275,\n",
       "        -0.05673521,  0.04981973,  0.02033762,  0.0395754 , -0.08131612],\n",
       "       [-0.07687872, -0.05574448,  0.06540315,  0.0545755 ,  0.02499602,\n",
       "        -0.06244196,  0.05318346,  0.02183754,  0.04011813, -0.06504865],\n",
       "       [-0.07676854, -0.05879167,  0.06685227,  0.05541536,  0.00494297,\n",
       "        -0.08128271,  0.05446779,  0.02246063,  0.04094731, -0.02824341],\n",
       "       [-0.14670853,  0.00418441,  0.07996319,  0.06529381, -0.01178584,\n",
       "        -0.05058584,  0.06393476,  0.0261265 ,  0.0501671 , -0.08058955],\n",
       "       [-0.13685456, -0.01505373,  0.07425523,  0.06011511, -0.03579837,\n",
       "        -0.0720802 ,  0.05959579,  0.02453142,  0.0461107 , -0.00482139],\n",
       "       [-0.02197467,  0.03155186,  0.05342521,  0.04382145, -0.0891376 ,\n",
       "        -0.08101937,  0.04349515,  0.01788666,  0.0351568 , -0.03320548],\n",
       "       [-0.08868703, -0.08338314,  0.07110488,  0.05932861, -0.01035008,\n",
       "        -0.02781415,  0.05775549,  0.02371965,  0.04365851, -0.04533274],\n",
       "       [-0.13790471, -0.03384213,  0.05066899,  0.04078893, -0.02920437,\n",
       "         0.01551317,  0.04010787,  0.01643579,  0.03098346,  0.00645301],\n",
       "       [-0.08429533, -0.04179444,  0.04932238,  0.04032082, -0.00575584,\n",
       "        -0.04818698,  0.03985368,  0.01644914,  0.03000432,  0.00408224],\n",
       "       [-0.09504459, -0.00647045,  0.04848347,  0.0393752 , -0.03149256,\n",
       "        -0.0170527 ,  0.03871018,  0.01585053,  0.03040626, -0.02276534]])"
      ]
     },
     "execution_count": 16,
     "metadata": {},
     "output_type": "execute_result"
    }
   ],
   "source": [
    "dW2 = np.dot(z1.T, dy)\n",
    "dW2"
   ]
  },
  {
   "cell_type": "code",
   "execution_count": 17,
   "metadata": {},
   "outputs": [],
   "source": [
    "dW2 = np.dot(z1.T, dy)\n",
    "db2 = np.sum(dy, axis = 0)"
   ]
  },
  {
   "cell_type": "code",
   "execution_count": 18,
   "metadata": {},
   "outputs": [],
   "source": [
    "def sigmoid_grad(x):\n",
    "    return (1.0 - sigmoid(x)) * sigmoid(x)"
   ]
  },
  {
   "cell_type": "code",
   "execution_count": 19,
   "metadata": {},
   "outputs": [],
   "source": [
    "dz1 = np.dot(dy, W2.T)\n",
    "da1 = sigmoid_grad(a1) * dz1\n",
    "dW1 = np.dot(X.T, da1)\n",
    "db1 = np.sum(dz1, axis = 0)"
   ]
  },
  {
   "cell_type": "code",
   "execution_count": 20,
   "metadata": {},
   "outputs": [],
   "source": [
    "learning_rate = 0.1\n",
    "\n",
    "def update_params(W1, b1, W2, b2, dW1, db1, dW2, db2, learning_rate):\n",
    "    W1 = W1 - learning_rate * dW1\n",
    "    b1 = b1 - learning_rate * db1\n",
    "    W2 = W2 - learning_rate * dW2\n",
    "    b2 = b2 - learning_rate * db2\n",
    "    return W1, b1, W2, b2"
   ]
  },
  {
   "cell_type": "code",
   "execution_count": 21,
   "metadata": {},
   "outputs": [],
   "source": [
    "def affine_layer_backward(dy, cache):\n",
    "    X, W, b = cache\n",
    "    dX = np.dot(dy, W.T)\n",
    "    dW = np.dot(X.T, dy)\n",
    "    db = np.sum(dy, axis = 0)\n",
    "    return dX, dW, db"
   ]
  },
  {
   "cell_type": "code",
   "execution_count": 23,
   "metadata": {},
   "outputs": [
    {
     "name": "stdout",
     "output_type": "stream",
     "text": [
      "[[0.20229836 0.08511644 0.05339525 0.11092513 0.06296547 0.0578014\n",
      "  0.13214022 0.07249416 0.12630773 0.09655583]\n",
      " [0.18095343 0.09854119 0.06843188 0.10417631 0.07519754 0.05896438\n",
      "  0.13021927 0.06755193 0.10163133 0.11433273]\n",
      " [0.17256424 0.09297659 0.06504417 0.09723255 0.08843298 0.05576089\n",
      "  0.13481726 0.06093972 0.12267679 0.10955482]\n",
      " [0.2086332  0.09954734 0.07259867 0.10003687 0.07445808 0.05332927\n",
      "  0.12215851 0.07313077 0.11143844 0.08466886]\n",
      " [0.183794   0.08649794 0.06633788 0.12141765 0.07245802 0.05119243\n",
      "  0.12392633 0.06894281 0.12861867 0.09681425]]\n",
      "[[0. 0. 0. 0. 0. 1. 0. 0. 0. 0.]\n",
      " [1. 0. 0. 0. 0. 0. 0. 0. 0. 0.]\n",
      " [0. 0. 0. 0. 1. 0. 0. 0. 0. 0.]\n",
      " [0. 1. 0. 0. 0. 0. 0. 0. 0. 0.]\n",
      " [0. 0. 0. 0. 0. 0. 0. 0. 0. 1.]]\n",
      "Loss:  2.3255702556794287\n"
     ]
    }
   ],
   "source": [
    "# 파라미터 초기화\n",
    "\n",
    "W1 = weight_init_std * np.random.randn(input_size, hidden_size)\n",
    "b1 = np.zeros(hidden_size)\n",
    "W2 = weight_init_std * np.random.randn(hidden_size, output_size)\n",
    "b2 = np.zeros(output_size)\n",
    "\n",
    "# Forward Propagation\n",
    "\n",
    "a1, cache1 = affine_layer_forward(X, W1, b1)\n",
    "z1 = sigmoid(a1)\n",
    "a2, cache2 = affine_layer_forward(z1, W2, b2)\n",
    "\n",
    "# 추론과 오차(Loss) 계산\n",
    "\n",
    "y_hat = softmax(a2)\n",
    "t = _change_one_hot_label(Y_digit, 10)   # 정답 One-hot 인코딩\n",
    "Loss = cross_entropy_error(y_hat, t)\n",
    "\n",
    "print(y_hat)\n",
    "print(t)\n",
    "print('Loss: ', Loss)\n",
    "        \n",
    "dy = (y_hat - t) / X.shape[0]\n",
    "dz1, dW2, db2 = affine_layer_backward(dy, cache2)\n",
    "da1 = sigmoid_grad(a1) * dz1\n",
    "dX, dW1, db1 = affine_layer_backward(da1, cache1)\n",
    "\n",
    "# 경사하강법을 통한 파라미터 업데이트  \n",
    "\n",
    "learning_rate = 0.1\n",
    "W1, b1, W2, b2 = update_params(W1, b1, W2, b2, dW1, db1, dW2, db2, learning_rate)"
   ]
  },
  {
   "cell_type": "code",
   "execution_count": 26,
   "metadata": {},
   "outputs": [],
   "source": [
    "W1 = weight_init_std * np.random.randn(input_size, hidden_size)\n",
    "b1 = np.zeros(hidden_size)\n",
    "W2 = weight_init_std * np.random.randn(hidden_size, output_size)\n",
    "b2 = np.zeros(output_size)\n",
    "\n",
    "def train_step(X, Y, W1, b1, W2, b2, learning_rate=0.1, verbose=False):\n",
    "    a1, cache1 = affine_layer_forward(X, W1, b1)\n",
    "    z1 = sigmoid(a1)\n",
    "    a2, cache2 = affine_layer_forward(z1, W2, b2)\n",
    "    y_hat = softmax(a2)\n",
    "    t = _change_one_hot_label(Y, 10)\n",
    "    Loss = cross_entropy_error(y_hat, t)\n",
    "\n",
    "    if verbose:\n",
    "        print('---------')\n",
    "        print(y_hat)\n",
    "        print(t)\n",
    "        print('Loss: ', Loss)\n",
    "        \n",
    "    dy = (y_hat - t) / X.shape[0]\n",
    "    dz1, dW2, db2 = affine_layer_backward(dy, cache2)\n",
    "    da1 = sigmoid_grad(a1) * dz1\n",
    "    dX, dW1, db1 = affine_layer_backward(da1, cache1)\n",
    "    \n",
    "    W1, b1, W2, b2 = update_params(W1, b1, W2, b2, dW1, db1, dW2, db2, learning_rate)\n",
    "    \n",
    "    return W1, b1, W2, b2, Loss"
   ]
  },
  {
   "cell_type": "code",
   "execution_count": 27,
   "metadata": {},
   "outputs": [
    {
     "name": "stdout",
     "output_type": "stream",
     "text": [
      "---------\n",
      "[[0.15199425 0.06704658 0.11595881 0.05348691 0.0894438  0.14555739\n",
      "  0.12654431 0.14451011 0.05614628 0.04931156]\n",
      " [0.14202017 0.07207926 0.09303317 0.06163956 0.09947529 0.16158349\n",
      "  0.12723885 0.14868789 0.05824267 0.03599966]\n",
      " [0.12508453 0.07818689 0.09230085 0.05560064 0.077099   0.1520256\n",
      "  0.13963371 0.18450238 0.06122734 0.03433905]\n",
      " [0.12963244 0.07164732 0.11489912 0.06038244 0.08107747 0.11976229\n",
      "  0.14651138 0.16640473 0.06652339 0.04315943]\n",
      " [0.13385968 0.06774961 0.10110619 0.06458059 0.07987505 0.13171486\n",
      "  0.14513517 0.17409921 0.06082632 0.04105332]]\n",
      "[[0. 0. 0. 0. 0. 1. 0. 0. 0. 0.]\n",
      " [1. 0. 0. 0. 0. 0. 0. 0. 0. 0.]\n",
      " [0. 0. 0. 0. 1. 0. 0. 0. 0. 0.]\n",
      " [0. 1. 0. 0. 0. 0. 0. 0. 0. 0.]\n",
      " [0. 0. 0. 0. 0. 0. 0. 0. 0. 1.]]\n",
      "Loss:  2.4541038494718794\n",
      "---------\n",
      "[[0.16909416 0.08084885 0.0974143  0.04915491 0.1069722  0.16694404\n",
      "  0.1029169  0.11219597 0.05104649 0.06341217]\n",
      " [0.16525866 0.0879868  0.0778316  0.05612281 0.11954743 0.17764074\n",
      "  0.1023245  0.1141047  0.05272883 0.04645393]\n",
      " [0.14090097 0.09750099 0.07997785 0.05204832 0.09987893 0.16800192\n",
      "  0.11490504 0.14432352 0.05648927 0.04597319]\n",
      " [0.14615768 0.0924006  0.0996647  0.05694909 0.09976159 0.13247064\n",
      "  0.12155099 0.13229893 0.06234055 0.05640522]\n",
      " [0.1510251  0.08398562 0.08808804 0.06061717 0.09972252 0.14762248\n",
      "  0.11870745 0.13628802 0.05637518 0.05756843]]\n",
      "[[0. 0. 0. 0. 0. 1. 0. 0. 0. 0.]\n",
      " [1. 0. 0. 0. 0. 0. 0. 0. 0. 0.]\n",
      " [0. 0. 0. 0. 1. 0. 0. 0. 0. 0.]\n",
      " [0. 1. 0. 0. 0. 0. 0. 0. 0. 0.]\n",
      " [0. 0. 0. 0. 0. 0. 0. 0. 0. 1.]]\n",
      "Loss:  2.2261078550004947\n",
      "---------\n",
      "[[0.17905981 0.09252706 0.08203536 0.0443877  0.12101675 0.1822112\n",
      "  0.08508871 0.09013762 0.04573027 0.07780552]\n",
      " [0.18249937 0.10172265 0.06530823 0.05023745 0.13565854 0.18572933\n",
      "  0.08384584 0.09083979 0.04703499 0.0571238 ]\n",
      " [0.14995324 0.11469334 0.069019   0.04760532 0.12159075 0.17567642\n",
      "  0.09572791 0.11633787 0.05105935 0.05833681]\n",
      " [0.15613898 0.11266372 0.08621342 0.05254611 0.11571368 0.1389442\n",
      "  0.10212521 0.10836635 0.05728238 0.07000595]\n",
      " [0.16077389 0.09803896 0.07652402 0.0555806  0.11666867 0.15633502\n",
      "  0.09842743 0.11012314 0.05121498 0.0763133 ]]\n",
      "[[0. 0. 0. 0. 0. 1. 0. 0. 0. 0.]\n",
      " [1. 0. 0. 0. 0. 0. 0. 0. 0. 0.]\n",
      " [0. 0. 0. 0. 1. 0. 0. 0. 0. 0.]\n",
      " [0. 1. 0. 0. 0. 0. 0. 0. 0. 0.]\n",
      " [0. 0. 0. 0. 0. 0. 0. 0. 0. 1.]]\n",
      "Loss:  2.0533895325426683\n",
      "---------\n",
      "[[0.1843684  0.10204446 0.0696821  0.03985164 0.13165064 0.1934983\n",
      "  0.07155891 0.07434001 0.04082052 0.09218503]\n",
      " [0.19567098 0.11320554 0.05533447 0.04476448 0.14790037 0.18904961\n",
      "  0.0700455  0.07440729 0.04183296 0.06778881]\n",
      " [0.15432463 0.12937959 0.05979605 0.04311681 0.14157267 0.17806176\n",
      "  0.08088637 0.095992   0.04579488 0.07107524]\n",
      " [0.16155049 0.13192178 0.07490595 0.04802785 0.12866033 0.14136719\n",
      "  0.08699396 0.09080074 0.05222783 0.08354389]\n",
      " [0.16536766 0.10961973 0.06678393 0.0504534  0.13031755 0.1603201\n",
      "  0.08283906 0.09115373 0.04618086 0.09696398]]\n",
      "[[0. 0. 0. 0. 0. 1. 0. 0. 0. 0.]\n",
      " [1. 0. 0. 0. 0. 0. 0. 0. 0. 0.]\n",
      " [0. 0. 0. 0. 1. 0. 0. 0. 0. 0.]\n",
      " [0. 1. 0. 0. 0. 0. 0. 0. 0. 0.]\n",
      " [0. 0. 0. 0. 0. 0. 0. 0. 0. 1.]]\n",
      "Loss:  1.9175422591636544\n",
      "---------\n",
      "[[0.18692101 0.10949203 0.05978985 0.03577149 0.13922075 0.20249922\n",
      "  0.06112418 0.06259469 0.03649073 0.10609606]\n",
      " [0.20640847 0.12248505 0.04741176 0.03993147 0.1566598  0.18982416\n",
      "  0.05954964 0.06233939 0.03728969 0.07810058]\n",
      " [0.15576289 0.14146063 0.05215256 0.0389317  0.15955928 0.17742441\n",
      "  0.06927027 0.08070058 0.04101055 0.08372713]\n",
      " [0.16407387 0.14988834 0.06553006 0.04376463 0.13872388 0.1414181\n",
      "  0.07507009 0.0774687  0.04753363 0.09652869]\n",
      " [0.16668635 0.11868742 0.05868199 0.04563808 0.14071724 0.16147364\n",
      "  0.07068322 0.07688939 0.04157481 0.11896786]]\n",
      "[[0. 0. 0. 0. 0. 1. 0. 0. 0. 0.]\n",
      " [1. 0. 0. 0. 0. 0. 0. 0. 0. 0.]\n",
      " [0. 0. 0. 0. 1. 0. 0. 0. 0. 0.]\n",
      " [0. 1. 0. 0. 0. 0. 0. 0. 0. 0.]\n",
      " [0. 0. 0. 0. 0. 0. 0. 0. 0. 1.]]\n",
      "Loss:  1.8074047522634138\n"
     ]
    }
   ],
   "source": [
    "X = x_train_reshaped[:5]\n",
    "Y = y_train[:5]\n",
    "\n",
    "# train_step을 다섯 번 반복 돌립니다.\n",
    "for i in range(5):\n",
    "    W1, b1, W2, b2, _ = train_step(X, Y, W1, b1, W2, b2, learning_rate=0.1, verbose=True)"
   ]
  },
  {
   "cell_type": "code",
   "execution_count": 30,
   "metadata": {},
   "outputs": [],
   "source": [
    "# 방금 5 스텝 학습한 파라미터 W1, b1, W2, b2 를 가지고도 우리는 숫자를 인식(Predict) 해보고 , 그 정확도(Accuracy) 를 측정할수 있음\n",
    "\n",
    "def predict(W1, b1, W2, b2, X):\n",
    "    a1 = np.dot(X, W1) + b1\n",
    "    z1 = sigmoid(a1)\n",
    "    a2 = np.dot(z1, W2) + b2\n",
    "    y= softmax(a2)\n",
    "    \n",
    "    return y"
   ]
  },
  {
   "cell_type": "code",
   "execution_count": 35,
   "metadata": {},
   "outputs": [
    {
     "data": {
      "text/plain": [
       "array([0.1879887 , 0.11507469, 0.05181953, 0.03219065, 0.14424412,\n",
       "       0.2103695 , 0.05293586, 0.0536013 , 0.03274435, 0.11903129])"
      ]
     },
     "execution_count": 35,
     "metadata": {},
     "output_type": "execute_result"
    }
   ],
   "source": [
    "X = x_train_reshaped[:100]\n",
    "Y = y_test[:100]\n",
    "result = predict(W1, b1, W2, b2, X)\n",
    "result[0]"
   ]
  },
  {
   "cell_type": "code",
   "execution_count": 36,
   "metadata": {},
   "outputs": [],
   "source": [
    "def accuracy(W1, b1, W2, b2, x, y):\n",
    "    y_hat = predict(W1, b1, W2, b2, x)\n",
    "    y_hat = np.argmax(y_hat, axis =1)\n",
    "    \n",
    "    #t = np.argmax(t, axis =1)\n",
    "    \n",
    "    accuracy = np.sum(y_hat ==y) / float(x.shape[0])\n",
    "    return accuracy"
   ]
  },
  {
   "cell_type": "code",
   "execution_count": 37,
   "metadata": {},
   "outputs": [
    {
     "name": "stdout",
     "output_type": "stream",
     "text": [
      "[0.1879887  0.11507469 0.05181953 0.03219065 0.14424412 0.2103695\n",
      " 0.05293586 0.0536013  0.03274435 0.11903129]\n",
      "[0. 0. 0. 0. 0. 0. 0. 1. 0. 0.]\n",
      "0.06\n"
     ]
    }
   ],
   "source": [
    "acc = accuracy(W1, b1, W2, b2, X, Y)\n",
    "\n",
    "t = _change_one_hot_label(Y, 10)\n",
    "print(result[0])\n",
    "print(t[0])\n",
    "print(acc)"
   ]
  },
  {
   "cell_type": "code",
   "execution_count": 38,
   "metadata": {},
   "outputs": [],
   "source": [
    "def init_params(input_size, hidden_size, output_size, weight_init_std=0.01):\n",
    "\n",
    "    W1 = weight_init_std * np.random.randn(input_size, hidden_size)\n",
    "    b1 = np.zeros(hidden_size)\n",
    "    W2 = weight_init_std * np.random.randn(hidden_size, output_size)\n",
    "    b2 = np.zeros(output_size)\n",
    "\n",
    "    print(W1.shape)\n",
    "    print(b1.shape)\n",
    "    print(W2.shape)\n",
    "    print(b2.shape)\n",
    "    \n",
    "    return W1, b1, W2, b2"
   ]
  },
  {
   "cell_type": "code",
   "execution_count": 42,
   "metadata": {},
   "outputs": [
    {
     "name": "stdout",
     "output_type": "stream",
     "text": [
      "(784, 50)\n",
      "(50,)\n",
      "(50, 10)\n",
      "(10,)\n",
      "Loss:  2.301360332998868\n",
      "train acc, test acc | 0.09736666666666667, 0.0982\n",
      "Loss:  0.715425168555235\n",
      "train acc, test acc | 0.7829833333333334, 0.7927\n",
      "Loss:  0.313234124329534\n",
      "train acc, test acc | 0.8789, 0.882\n",
      "Loss:  0.366603925025774\n",
      "train acc, test acc | 0.8980833333333333, 0.9016\n",
      "Loss:  0.25651707225579456\n",
      "train acc, test acc | 0.9067333333333333, 0.9101\n",
      "Loss:  0.25679063403214036\n",
      "train acc, test acc | 0.9130833333333334, 0.916\n",
      "Loss:  0.22050090930204946\n",
      "train acc, test acc | 0.9191666666666667, 0.9215\n",
      "Loss:  0.3448325674232127\n",
      "train acc, test acc | 0.9234166666666667, 0.9255\n",
      "Loss:  0.1710914750329529\n",
      "train acc, test acc | 0.9279166666666666, 0.9277\n"
     ]
    }
   ],
   "source": [
    "# 하이퍼파라미터\n",
    "iters_num = 5000 # 반복 횟수를 적절히 설정한다.\n",
    "train_size = x_train.shape[0]\n",
    "batch_size = 100   # 미니배치 크기\n",
    "learning_rate = 0.1\n",
    "\n",
    "train_loss_list = []\n",
    "train_acc_list = []\n",
    "test_acc_list = []\n",
    "\n",
    "# 1에폭당 반복 수\n",
    "iter_per_epoch = max(train_size / batch_size, 1)\n",
    "\n",
    "W1, b1, W2, b2 = init_params(784, 50, 10)\n",
    "\n",
    "for i in range(iters_num):\n",
    "    # 미니배치 획득\n",
    "    batch_mask = np.random.choice(train_size, batch_size)\n",
    "    x_batch = x_train_reshaped[batch_mask]\n",
    "    y_batch = y_train[batch_mask]\n",
    "    \n",
    "    W1, b1, W2, b2, Loss = train_step(x_batch, y_batch, W1, b1, W2, b2, learning_rate=0.1, verbose=False)\n",
    "\n",
    "    # 학습 경과 기록\n",
    "    train_loss_list.append(Loss)\n",
    "    \n",
    "    # 1에폭당 정확도 계산\n",
    "    if i % iter_per_epoch == 0:\n",
    "        print('Loss: ', Loss)\n",
    "        train_acc = accuracy(W1, b1, W2, b2, x_train_reshaped, y_train)\n",
    "        test_acc = accuracy(W1, b1, W2, b2, x_test_reshaped, y_test)\n",
    "        train_acc_list.append(train_acc)\n",
    "        test_acc_list.append(test_acc)\n",
    "        print(\"train acc, test acc | \" + str(train_acc) + \", \" + str(test_acc))"
   ]
  },
  {
   "cell_type": "code",
   "execution_count": 43,
   "metadata": {},
   "outputs": [
    {
     "data": {
      "image/png": "[encoded data removed]",
      "text/plain": [
       "<Figure size 864x432 with 1 Axes>"
      ]
     },
     "metadata": {
      "needs_background": "light"
     },
     "output_type": "display_data"
    }
   ],
   "source": [
    "from matplotlib.pylab import rcParams\n",
    "rcParams['figure.figsize'] = 12, 6 \n",
    "\n",
    "# Accuracy 그래프 그리기\n",
    "markers = {'train': 'o', 'test': 's'}\n",
    "x = np.arange(len(train_acc_list))\n",
    "plt.plot(x, train_acc_list, label='train acc')\n",
    "plt.plot(x, test_acc_list, label='test acc', linestyle='--')\n",
    "plt.xlabel(\"epochs\")\n",
    "plt.ylabel(\"accuracy\")\n",
    "plt.ylim(0, 1.0)\n",
    "plt.legend(loc='lower right')\n",
    "plt.show()"
   ]
  },
  {
   "cell_type": "code",
   "execution_count": 44,
   "metadata": {},
   "outputs": [
    {
     "data": {
      "image/png": "[encoded data removed]",
      "text/plain": [
       "<Figure size 864x432 with 1 Axes>"
      ]
     },
     "metadata": {
      "needs_background": "light"
     },
     "output_type": "display_data"
    }
   ],
   "source": [
    "# Loss 그래프 그리기\n",
    "x = np.arange(len(train_loss_list))\n",
    "plt.plot(x, train_loss_list, label='train acc')\n",
    "plt.xlabel(\"epochs\")\n",
    "plt.ylabel(\"Loss\")\n",
    "plt.ylim(0, 3.0)\n",
    "plt.legend(loc='best')\n",
    "plt.show()"
   ]
  },
  {
   "cell_type": "code",
   "execution_count": null,
   "metadata": {},
   "outputs": [],
   "source": []
  }
 ],
 "metadata": {
  "kernelspec": {
   "display_name": "aiffel",
   "language": "python",
   "name": "aiffel"
  },
  "language_info": {
   "codemirror_mode": {
    "name": "ipython",
    "version": 3
   },
   "file_extension": ".py",
   "mimetype": "text/x-python",
   "name": "python",
   "nbconvert_exporter": "python",
   "pygments_lexer": "ipython3",
   "version": "3.7.6"
  }
 },
 "nbformat": 4,
 "nbformat_minor": 4
}
