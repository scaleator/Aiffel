{
 "cells": [
  {
   "cell_type": "markdown",
   "metadata": {},
   "source": [
    "# Amazon food data 를 이용해 food 추천모델 만들기\n",
    "# 데이터 url: https://nijianmo.github.io/amazon/index.html"
   ]
  },
  {
   "cell_type": "code",
   "execution_count": 1,
   "metadata": {},
   "outputs": [
    {
     "data": {
      "text/html": [
       "<div>\n",
       "<style scoped>\n",
       "    .dataframe tbody tr th:only-of-type {\n",
       "        vertical-align: middle;\n",
       "    }\n",
       "\n",
       "    .dataframe tbody tr th {\n",
       "        vertical-align: top;\n",
       "    }\n",
       "\n",
       "    .dataframe thead th {\n",
       "        text-align: right;\n",
       "    }\n",
       "</style>\n",
       "<table border=\"1\" class=\"dataframe\">\n",
       "  <thead>\n",
       "    <tr style=\"text-align: right;\">\n",
       "      <th></th>\n",
       "      <th>ProductId</th>\n",
       "      <th>UserId</th>\n",
       "      <th>Rating</th>\n",
       "      <th>TimeStamp</th>\n",
       "    </tr>\n",
       "  </thead>\n",
       "  <tbody>\n",
       "    <tr>\n",
       "      <th>5074155</th>\n",
       "      <td>B01HJHSVG6</td>\n",
       "      <td>AGOPF2VTEOP57</td>\n",
       "      <td>5.0</td>\n",
       "      <td>1538611200</td>\n",
       "    </tr>\n",
       "    <tr>\n",
       "      <th>5074156</th>\n",
       "      <td>B01HJHSVG6</td>\n",
       "      <td>A5X5TI4JCH9CN</td>\n",
       "      <td>3.0</td>\n",
       "      <td>1538524800</td>\n",
       "    </tr>\n",
       "    <tr>\n",
       "      <th>5074157</th>\n",
       "      <td>B01HJHSVG6</td>\n",
       "      <td>A1WMQQLC3TVAFI</td>\n",
       "      <td>4.0</td>\n",
       "      <td>1538438400</td>\n",
       "    </tr>\n",
       "    <tr>\n",
       "      <th>5074158</th>\n",
       "      <td>B01HJHSVG6</td>\n",
       "      <td>ALVP6JZRTEDY6</td>\n",
       "      <td>5.0</td>\n",
       "      <td>1538265600</td>\n",
       "    </tr>\n",
       "    <tr>\n",
       "      <th>5074159</th>\n",
       "      <td>B01HJHSVG6</td>\n",
       "      <td>AZFPVUZOVGBYR</td>\n",
       "      <td>5.0</td>\n",
       "      <td>1538179200</td>\n",
       "    </tr>\n",
       "  </tbody>\n",
       "</table>\n",
       "</div>"
      ],
      "text/plain": [
       "          ProductId          UserId  Rating   TimeStamp\n",
       "5074155  B01HJHSVG6   AGOPF2VTEOP57     5.0  1538611200\n",
       "5074156  B01HJHSVG6   A5X5TI4JCH9CN     3.0  1538524800\n",
       "5074157  B01HJHSVG6  A1WMQQLC3TVAFI     4.0  1538438400\n",
       "5074158  B01HJHSVG6   ALVP6JZRTEDY6     5.0  1538265600\n",
       "5074159  B01HJHSVG6   AZFPVUZOVGBYR     5.0  1538179200"
      ]
     },
     "execution_count": 1,
     "metadata": {},
     "output_type": "execute_result"
    }
   ],
   "source": [
    "import matplotlib.pyplot as plt\n",
    "import seaborn as sns\n",
    "import pandas as pd\n",
    "import numpy as np\n",
    "import warnings\n",
    "import os\n",
    "\n",
    "\n",
    "rating_file_path = os.getenv('HOME') +'/aiffel/H3/foodrating/amazondata.csv'\n",
    "#ratings_cols = ['ProductId', 'ProfileName', 'Score', 'Summary']\n",
    "data1 = pd.read_csv(rating_file_path, header = None, index_col = None)\n",
    "data1.columns = ['ProductId','UserId','Rating','TimeStamp']\n",
    "data1.head()\n",
    "data1.tail()"
   ]
  },
  {
   "cell_type": "code",
   "execution_count": 2,
   "metadata": {},
   "outputs": [
    {
     "data": {
      "text/plain": [
       "283507"
      ]
     },
     "execution_count": 2,
     "metadata": {},
     "output_type": "execute_result"
    }
   ],
   "source": [
    "data1[\"ProductId\"].nunique()"
   ]
  },
  {
   "cell_type": "markdown",
   "metadata": {},
   "source": [
    "# 크게 두가지 모델로 나눌수 있습니다 : \n",
    "# 1) 아이템 기반 추천시스템 2) 유저 기반 추천시스템\n",
    "\n",
    "\n",
    "# 1. 아이템(ProductId) 기반 추천"
   ]
  },
  {
   "cell_type": "code",
   "execution_count": 3,
   "metadata": {},
   "outputs": [
    {
     "data": {
      "text/html": [
       "<div>\n",
       "<style scoped>\n",
       "    .dataframe tbody tr th:only-of-type {\n",
       "        vertical-align: middle;\n",
       "    }\n",
       "\n",
       "    .dataframe tbody tr th {\n",
       "        vertical-align: top;\n",
       "    }\n",
       "\n",
       "    .dataframe thead th {\n",
       "        text-align: right;\n",
       "    }\n",
       "</style>\n",
       "<table border=\"1\" class=\"dataframe\">\n",
       "  <thead>\n",
       "    <tr style=\"text-align: right;\">\n",
       "      <th></th>\n",
       "      <th>ProductId</th>\n",
       "      <th>UserId</th>\n",
       "      <th>A</th>\n",
       "      <th>Rating</th>\n",
       "      <th>TimeStamp</th>\n",
       "    </tr>\n",
       "  </thead>\n",
       "  <tbody>\n",
       "    <tr>\n",
       "      <th>5074155</th>\n",
       "      <td>B01HJHSVG6</td>\n",
       "      <td>AGOPF2VTEOP57</td>\n",
       "      <td>B01HJHSVG6</td>\n",
       "      <td>5.0</td>\n",
       "      <td>1538611200</td>\n",
       "    </tr>\n",
       "    <tr>\n",
       "      <th>5074156</th>\n",
       "      <td>B01HJHSVG6</td>\n",
       "      <td>A5X5TI4JCH9CN</td>\n",
       "      <td>B01HJHSVG6</td>\n",
       "      <td>3.0</td>\n",
       "      <td>1538524800</td>\n",
       "    </tr>\n",
       "    <tr>\n",
       "      <th>5074157</th>\n",
       "      <td>B01HJHSVG6</td>\n",
       "      <td>A1WMQQLC3TVAFI</td>\n",
       "      <td>B01HJHSVG6</td>\n",
       "      <td>4.0</td>\n",
       "      <td>1538438400</td>\n",
       "    </tr>\n",
       "    <tr>\n",
       "      <th>5074158</th>\n",
       "      <td>B01HJHSVG6</td>\n",
       "      <td>ALVP6JZRTEDY6</td>\n",
       "      <td>B01HJHSVG6</td>\n",
       "      <td>5.0</td>\n",
       "      <td>1538265600</td>\n",
       "    </tr>\n",
       "    <tr>\n",
       "      <th>5074159</th>\n",
       "      <td>B01HJHSVG6</td>\n",
       "      <td>AZFPVUZOVGBYR</td>\n",
       "      <td>B01HJHSVG6</td>\n",
       "      <td>5.0</td>\n",
       "      <td>1538179200</td>\n",
       "    </tr>\n",
       "  </tbody>\n",
       "</table>\n",
       "</div>"
      ],
      "text/plain": [
       "          ProductId          UserId           A  Rating   TimeStamp\n",
       "5074155  B01HJHSVG6   AGOPF2VTEOP57  B01HJHSVG6     5.0  1538611200\n",
       "5074156  B01HJHSVG6   A5X5TI4JCH9CN  B01HJHSVG6     3.0  1538524800\n",
       "5074157  B01HJHSVG6  A1WMQQLC3TVAFI  B01HJHSVG6     4.0  1538438400\n",
       "5074158  B01HJHSVG6   ALVP6JZRTEDY6  B01HJHSVG6     5.0  1538265600\n",
       "5074159  B01HJHSVG6   AZFPVUZOVGBYR  B01HJHSVG6     5.0  1538179200"
      ]
     },
     "execution_count": 3,
     "metadata": {},
     "output_type": "execute_result"
    }
   ],
   "source": [
    "data1.insert(loc=2, column = 'A', value = data1['ProductId'])\n",
    "data1.tail()"
   ]
  },
  {
   "cell_type": "code",
   "execution_count": 4,
   "metadata": {},
   "outputs": [
    {
     "data": {
      "text/html": [
       "<div>\n",
       "<style scoped>\n",
       "    .dataframe tbody tr th:only-of-type {\n",
       "        vertical-align: middle;\n",
       "    }\n",
       "\n",
       "    .dataframe tbody tr th {\n",
       "        vertical-align: top;\n",
       "    }\n",
       "\n",
       "    .dataframe thead th {\n",
       "        text-align: right;\n",
       "    }\n",
       "</style>\n",
       "<table border=\"1\" class=\"dataframe\">\n",
       "  <thead>\n",
       "    <tr style=\"text-align: right;\">\n",
       "      <th></th>\n",
       "      <th>ProductId</th>\n",
       "      <th>Rating</th>\n",
       "      <th>TimeStamp</th>\n",
       "    </tr>\n",
       "  </thead>\n",
       "  <tbody>\n",
       "    <tr>\n",
       "      <th>0</th>\n",
       "      <td>0681727810</td>\n",
       "      <td>5.000000</td>\n",
       "      <td>1.451477e+09</td>\n",
       "    </tr>\n",
       "    <tr>\n",
       "      <th>1</th>\n",
       "      <td>0853347867</td>\n",
       "      <td>5.000000</td>\n",
       "      <td>1.508069e+09</td>\n",
       "    </tr>\n",
       "    <tr>\n",
       "      <th>2</th>\n",
       "      <td>1888861118</td>\n",
       "      <td>4.375000</td>\n",
       "      <td>1.427944e+09</td>\n",
       "    </tr>\n",
       "    <tr>\n",
       "      <th>3</th>\n",
       "      <td>1888861207</td>\n",
       "      <td>4.000000</td>\n",
       "      <td>1.337429e+09</td>\n",
       "    </tr>\n",
       "    <tr>\n",
       "      <th>4</th>\n",
       "      <td>1888861339</td>\n",
       "      <td>5.000000</td>\n",
       "      <td>1.322698e+09</td>\n",
       "    </tr>\n",
       "    <tr>\n",
       "      <th>...</th>\n",
       "      <td>...</td>\n",
       "      <td>...</td>\n",
       "      <td>...</td>\n",
       "    </tr>\n",
       "    <tr>\n",
       "      <th>283502</th>\n",
       "      <td>B01HJF6FRA</td>\n",
       "      <td>4.761905</td>\n",
       "      <td>1.490412e+09</td>\n",
       "    </tr>\n",
       "    <tr>\n",
       "      <th>283503</th>\n",
       "      <td>B01HJFBN9A</td>\n",
       "      <td>4.500000</td>\n",
       "      <td>1.526947e+09</td>\n",
       "    </tr>\n",
       "    <tr>\n",
       "      <th>283504</th>\n",
       "      <td>B01HJFC704</td>\n",
       "      <td>3.500000</td>\n",
       "      <td>1.517918e+09</td>\n",
       "    </tr>\n",
       "    <tr>\n",
       "      <th>283505</th>\n",
       "      <td>B01HJFRDDA</td>\n",
       "      <td>5.000000</td>\n",
       "      <td>1.520770e+09</td>\n",
       "    </tr>\n",
       "    <tr>\n",
       "      <th>283506</th>\n",
       "      <td>B01HJHSVG6</td>\n",
       "      <td>4.150000</td>\n",
       "      <td>1.531773e+09</td>\n",
       "    </tr>\n",
       "  </tbody>\n",
       "</table>\n",
       "<p>283507 rows × 3 columns</p>\n",
       "</div>"
      ],
      "text/plain": [
       "         ProductId    Rating     TimeStamp\n",
       "0       0681727810  5.000000  1.451477e+09\n",
       "1       0853347867  5.000000  1.508069e+09\n",
       "2       1888861118  4.375000  1.427944e+09\n",
       "3       1888861207  4.000000  1.337429e+09\n",
       "4       1888861339  5.000000  1.322698e+09\n",
       "...            ...       ...           ...\n",
       "283502  B01HJF6FRA  4.761905  1.490412e+09\n",
       "283503  B01HJFBN9A  4.500000  1.526947e+09\n",
       "283504  B01HJFC704  3.500000  1.517918e+09\n",
       "283505  B01HJFRDDA  5.000000  1.520770e+09\n",
       "283506  B01HJHSVG6  4.150000  1.531773e+09\n",
       "\n",
       "[283507 rows x 3 columns]"
      ]
     },
     "execution_count": 4,
     "metadata": {},
     "output_type": "execute_result"
    }
   ],
   "source": [
    "data1 = data1.groupby(['ProductId'], as_index=False).mean()\n",
    "data1"
   ]
  },
  {
   "cell_type": "code",
   "execution_count": 5,
   "metadata": {},
   "outputs": [
    {
     "data": {
      "text/html": [
       "<div>\n",
       "<style scoped>\n",
       "    .dataframe tbody tr th:only-of-type {\n",
       "        vertical-align: middle;\n",
       "    }\n",
       "\n",
       "    .dataframe tbody tr th {\n",
       "        vertical-align: top;\n",
       "    }\n",
       "\n",
       "    .dataframe thead th {\n",
       "        text-align: right;\n",
       "    }\n",
       "</style>\n",
       "<table border=\"1\" class=\"dataframe\">\n",
       "  <thead>\n",
       "    <tr style=\"text-align: right;\">\n",
       "      <th></th>\n",
       "      <th>ProductId</th>\n",
       "      <th>Rating</th>\n",
       "      <th>TimeStamp</th>\n",
       "      <th>newId</th>\n",
       "    </tr>\n",
       "  </thead>\n",
       "  <tbody>\n",
       "    <tr>\n",
       "      <th>0</th>\n",
       "      <td>0681727810</td>\n",
       "      <td>5.000000</td>\n",
       "      <td>1.451477e+09</td>\n",
       "      <td>1</td>\n",
       "    </tr>\n",
       "    <tr>\n",
       "      <th>1</th>\n",
       "      <td>0853347867</td>\n",
       "      <td>5.000000</td>\n",
       "      <td>1.508069e+09</td>\n",
       "      <td>2</td>\n",
       "    </tr>\n",
       "    <tr>\n",
       "      <th>2</th>\n",
       "      <td>1888861118</td>\n",
       "      <td>4.375000</td>\n",
       "      <td>1.427944e+09</td>\n",
       "      <td>3</td>\n",
       "    </tr>\n",
       "    <tr>\n",
       "      <th>3</th>\n",
       "      <td>1888861207</td>\n",
       "      <td>4.000000</td>\n",
       "      <td>1.337429e+09</td>\n",
       "      <td>4</td>\n",
       "    </tr>\n",
       "    <tr>\n",
       "      <th>4</th>\n",
       "      <td>1888861339</td>\n",
       "      <td>5.000000</td>\n",
       "      <td>1.322698e+09</td>\n",
       "      <td>5</td>\n",
       "    </tr>\n",
       "    <tr>\n",
       "      <th>...</th>\n",
       "      <td>...</td>\n",
       "      <td>...</td>\n",
       "      <td>...</td>\n",
       "      <td>...</td>\n",
       "    </tr>\n",
       "    <tr>\n",
       "      <th>283502</th>\n",
       "      <td>B01HJF6FRA</td>\n",
       "      <td>4.761905</td>\n",
       "      <td>1.490412e+09</td>\n",
       "      <td>283503</td>\n",
       "    </tr>\n",
       "    <tr>\n",
       "      <th>283503</th>\n",
       "      <td>B01HJFBN9A</td>\n",
       "      <td>4.500000</td>\n",
       "      <td>1.526947e+09</td>\n",
       "      <td>283504</td>\n",
       "    </tr>\n",
       "    <tr>\n",
       "      <th>283504</th>\n",
       "      <td>B01HJFC704</td>\n",
       "      <td>3.500000</td>\n",
       "      <td>1.517918e+09</td>\n",
       "      <td>283505</td>\n",
       "    </tr>\n",
       "    <tr>\n",
       "      <th>283505</th>\n",
       "      <td>B01HJFRDDA</td>\n",
       "      <td>5.000000</td>\n",
       "      <td>1.520770e+09</td>\n",
       "      <td>283506</td>\n",
       "    </tr>\n",
       "    <tr>\n",
       "      <th>283506</th>\n",
       "      <td>B01HJHSVG6</td>\n",
       "      <td>4.150000</td>\n",
       "      <td>1.531773e+09</td>\n",
       "      <td>283507</td>\n",
       "    </tr>\n",
       "  </tbody>\n",
       "</table>\n",
       "<p>283507 rows × 4 columns</p>\n",
       "</div>"
      ],
      "text/plain": [
       "         ProductId    Rating     TimeStamp   newId\n",
       "0       0681727810  5.000000  1.451477e+09       1\n",
       "1       0853347867  5.000000  1.508069e+09       2\n",
       "2       1888861118  4.375000  1.427944e+09       3\n",
       "3       1888861207  4.000000  1.337429e+09       4\n",
       "4       1888861339  5.000000  1.322698e+09       5\n",
       "...            ...       ...           ...     ...\n",
       "283502  B01HJF6FRA  4.761905  1.490412e+09  283503\n",
       "283503  B01HJFBN9A  4.500000  1.526947e+09  283504\n",
       "283504  B01HJFC704  3.500000  1.517918e+09  283505\n",
       "283505  B01HJFRDDA  5.000000  1.520770e+09  283506\n",
       "283506  B01HJHSVG6  4.150000  1.531773e+09  283507\n",
       "\n",
       "[283507 rows x 4 columns]"
      ]
     },
     "execution_count": 5,
     "metadata": {},
     "output_type": "execute_result"
    }
   ],
   "source": [
    "data1['newId'] = range(1, len(data1) + 1)\n",
    "data1"
   ]
  },
  {
   "cell_type": "markdown",
   "metadata": {},
   "source": [
    "# 끝으로 가면 알파벳과 숫자가 섞인 상품 일련번호들이 나옵니다. 이것들을 숫자로 변경해줍니다.\n",
    "def is_integer(n):\n",
    "       try:\n",
    "           int(n)\n",
    "           return True\n",
    "       except ValueError:\n",
    "           return False\n",
    "        \n",
    "def string2int (a):\n",
    "    b = []\n",
    "    c = []\n",
    "    for i in range(len(a)):\n",
    "        if is_integer(int(a[i])) == False:\n",
    "            x = ord(a[i])\n",
    "            b.append(x)\n",
    "        else:\n",
    "            y = int(a[i])\n",
    "            c.append(y)     \n",
    "    new = b + c\n",
    "    number = int(''.join(str(i) for i in new))\n",
    "    return number\n",
    "\n",
    "\n",
    "#for i in data1[\"ProductId\"]:\n",
    "   # a= []\n",
    "   # if is_integer(int(data1[\"ProductId\"][i])) == True:\n",
    "        # a.append(data1[\"ProductId\"])\n",
    "# print(len(a))"
   ]
  },
  {
   "cell_type": "markdown",
   "metadata": {},
   "source": [
    "from tqdm import tqdm\n",
    "\n",
    "for i in tqdm(range(len(data1['ProductId']))):\n",
    "              \n",
    "              data1['ProductId'][i] = string2int(data1['ProductId'][i])"
   ]
  },
  {
   "cell_type": "code",
   "execution_count": 6,
   "metadata": {},
   "outputs": [],
   "source": [
    "data1 = data1.drop(columns = ['ProductId', 'TimeStamp'])"
   ]
  },
  {
   "cell_type": "markdown",
   "metadata": {},
   "source": [
    "# 유사한 아이템 = 평점이 비슷한 아이템\n",
    "\n",
    "from sklearn.metrics.pairwise import cosine_similarity\n",
    "\n",
    "product_based = cosine_similarity(data1)\n",
    "product_based"
   ]
  },
  {
   "cell_type": "code",
   "execution_count": 7,
   "metadata": {},
   "outputs": [
    {
     "data": {
      "text/plain": [
       "(283507, 1)"
      ]
     },
     "execution_count": 7,
     "metadata": {},
     "output_type": "execute_result"
    }
   ],
   "source": [
    "from sklearn.decomposition import TruncatedSVD\n",
    "from scipy.sparse.linalg import svds\n",
    "\n",
    "SVD = TruncatedSVD(n_components = 1)\n",
    "matrix = SVD.fit_transform(data1)\n",
    "matrix.shape"
   ]
  },
  {
   "cell_type": "code",
   "execution_count": 8,
   "metadata": {},
   "outputs": [
    {
     "data": {
      "text/plain": [
       "array([1.00011053])"
      ]
     },
     "execution_count": 8,
     "metadata": {},
     "output_type": "execute_result"
    }
   ],
   "source": [
    "matrix[0]"
   ]
  },
  {
   "cell_type": "code",
   "execution_count": 9,
   "metadata": {},
   "outputs": [
    {
     "data": {
      "text/html": [
       "<div>\n",
       "<style scoped>\n",
       "    .dataframe tbody tr th:only-of-type {\n",
       "        vertical-align: middle;\n",
       "    }\n",
       "\n",
       "    .dataframe tbody tr th {\n",
       "        vertical-align: top;\n",
       "    }\n",
       "\n",
       "    .dataframe thead th {\n",
       "        text-align: right;\n",
       "    }\n",
       "</style>\n",
       "<table border=\"1\" class=\"dataframe\">\n",
       "  <thead>\n",
       "    <tr style=\"text-align: right;\">\n",
       "      <th></th>\n",
       "      <th>Rating</th>\n",
       "      <th>newId</th>\n",
       "    </tr>\n",
       "  </thead>\n",
       "  <tbody>\n",
       "    <tr>\n",
       "      <th>0</th>\n",
       "      <td>5.0</td>\n",
       "      <td>1</td>\n",
       "    </tr>\n",
       "    <tr>\n",
       "      <th>1</th>\n",
       "      <td>5.0</td>\n",
       "      <td>2</td>\n",
       "    </tr>\n",
       "    <tr>\n",
       "      <th>4</th>\n",
       "      <td>5.0</td>\n",
       "      <td>5</td>\n",
       "    </tr>\n",
       "    <tr>\n",
       "      <th>6</th>\n",
       "      <td>5.0</td>\n",
       "      <td>7</td>\n",
       "    </tr>\n",
       "    <tr>\n",
       "      <th>7</th>\n",
       "      <td>5.0</td>\n",
       "      <td>8</td>\n",
       "    </tr>\n",
       "    <tr>\n",
       "      <th>...</th>\n",
       "      <td>...</td>\n",
       "      <td>...</td>\n",
       "    </tr>\n",
       "    <tr>\n",
       "      <th>283490</th>\n",
       "      <td>5.0</td>\n",
       "      <td>283491</td>\n",
       "    </tr>\n",
       "    <tr>\n",
       "      <th>283494</th>\n",
       "      <td>5.0</td>\n",
       "      <td>283495</td>\n",
       "    </tr>\n",
       "    <tr>\n",
       "      <th>283496</th>\n",
       "      <td>5.0</td>\n",
       "      <td>283497</td>\n",
       "    </tr>\n",
       "    <tr>\n",
       "      <th>283501</th>\n",
       "      <td>5.0</td>\n",
       "      <td>283502</td>\n",
       "    </tr>\n",
       "    <tr>\n",
       "      <th>283505</th>\n",
       "      <td>5.0</td>\n",
       "      <td>283506</td>\n",
       "    </tr>\n",
       "  </tbody>\n",
       "</table>\n",
       "<p>99195 rows × 2 columns</p>\n",
       "</div>"
      ],
      "text/plain": [
       "        Rating   newId\n",
       "0          5.0       1\n",
       "1          5.0       2\n",
       "4          5.0       5\n",
       "6          5.0       7\n",
       "7          5.0       8\n",
       "...        ...     ...\n",
       "283490     5.0  283491\n",
       "283494     5.0  283495\n",
       "283496     5.0  283497\n",
       "283501     5.0  283502\n",
       "283505     5.0  283506\n",
       "\n",
       "[99195 rows x 2 columns]"
      ]
     },
     "execution_count": 9,
     "metadata": {},
     "output_type": "execute_result"
    }
   ],
   "source": [
    "data2 = data1[data1['Rating']==5]\n",
    "data2"
   ]
  },
  {
   "cell_type": "code",
   "execution_count": 10,
   "metadata": {},
   "outputs": [],
   "source": [
    "#item_based = cosine_similarity"
   ]
  },
  {
   "cell_type": "markdown",
   "metadata": {},
   "source": [
    "# 2. 유저기반 추천시스템"
   ]
  },
  {
   "cell_type": "code",
   "execution_count": 11,
   "metadata": {},
   "outputs": [
    {
     "data": {
      "text/html": [
       "<div>\n",
       "<style scoped>\n",
       "    .dataframe tbody tr th:only-of-type {\n",
       "        vertical-align: middle;\n",
       "    }\n",
       "\n",
       "    .dataframe tbody tr th {\n",
       "        vertical-align: top;\n",
       "    }\n",
       "\n",
       "    .dataframe thead th {\n",
       "        text-align: right;\n",
       "    }\n",
       "</style>\n",
       "<table border=\"1\" class=\"dataframe\">\n",
       "  <thead>\n",
       "    <tr style=\"text-align: right;\">\n",
       "      <th></th>\n",
       "      <th>ProductId</th>\n",
       "      <th>UserId</th>\n",
       "      <th>Rating</th>\n",
       "      <th>TimeStamp</th>\n",
       "    </tr>\n",
       "  </thead>\n",
       "  <tbody>\n",
       "    <tr>\n",
       "      <th>0</th>\n",
       "      <td>1888861614</td>\n",
       "      <td>ALP49FBWT4I7V</td>\n",
       "      <td>5.0</td>\n",
       "      <td>1370304000</td>\n",
       "    </tr>\n",
       "    <tr>\n",
       "      <th>1</th>\n",
       "      <td>1888861614</td>\n",
       "      <td>A1KPIZOCLB9FZ8</td>\n",
       "      <td>4.0</td>\n",
       "      <td>1400803200</td>\n",
       "    </tr>\n",
       "    <tr>\n",
       "      <th>2</th>\n",
       "      <td>1888861614</td>\n",
       "      <td>A2W0FA06IYAYQE</td>\n",
       "      <td>4.0</td>\n",
       "      <td>1399593600</td>\n",
       "    </tr>\n",
       "    <tr>\n",
       "      <th>3</th>\n",
       "      <td>1888861614</td>\n",
       "      <td>A2PTZTCH2QUYBC</td>\n",
       "      <td>5.0</td>\n",
       "      <td>1397952000</td>\n",
       "    </tr>\n",
       "    <tr>\n",
       "      <th>4</th>\n",
       "      <td>1888861614</td>\n",
       "      <td>A2VNHGJ59N4Z90</td>\n",
       "      <td>4.0</td>\n",
       "      <td>1397606400</td>\n",
       "    </tr>\n",
       "  </tbody>\n",
       "</table>\n",
       "</div>"
      ],
      "text/plain": [
       "    ProductId          UserId  Rating   TimeStamp\n",
       "0  1888861614   ALP49FBWT4I7V     5.0  1370304000\n",
       "1  1888861614  A1KPIZOCLB9FZ8     4.0  1400803200\n",
       "2  1888861614  A2W0FA06IYAYQE     4.0  1399593600\n",
       "3  1888861614  A2PTZTCH2QUYBC     5.0  1397952000\n",
       "4  1888861614  A2VNHGJ59N4Z90     4.0  1397606400"
      ]
     },
     "execution_count": 11,
     "metadata": {},
     "output_type": "execute_result"
    }
   ],
   "source": [
    "user_df = pd.read_csv(rating_file_path, header = None, index_col = None)\n",
    "user_df.columns = ['ProductId','UserId','Rating','TimeStamp']\n",
    "user_df.head()"
   ]
  },
  {
   "cell_type": "code",
   "execution_count": 12,
   "metadata": {},
   "outputs": [
    {
     "data": {
      "text/plain": [
       "2695974"
      ]
     },
     "execution_count": 12,
     "metadata": {},
     "output_type": "execute_result"
    }
   ],
   "source": [
    "user_df[\"UserId\"].nunique()"
   ]
  },
  {
   "cell_type": "markdown",
   "metadata": {},
   "source": [
    "# 인기 많은 음식들 (top 30)"
   ]
  },
  {
   "cell_type": "code",
   "execution_count": 13,
   "metadata": {},
   "outputs": [
    {
     "data": {
      "text/plain": [
       "ProductId\n",
       "B00BUKL666    11526\n",
       "B00542YXFW     9083\n",
       "B008QMX2SG     8903\n",
       "B00D3M2QP4     8880\n",
       "B000YN2GVY     7400\n",
       "B000X3TPHS     7310\n",
       "B01E5XTW24     7001\n",
       "B000F4DKAI     6862\n",
       "B0001LO3FG     6858\n",
       "B000EVMNMI     6323\n",
       "B002HQCWYM     6179\n",
       "B00DS842HS     6131\n",
       "B000Z93FQC     5980\n",
       "B00CPZPYLS     5591\n",
       "B000H2XXRS     5562\n",
       "B00PFDH0IC     5507\n",
       "B00EDHW7K2     5393\n",
       "B00C1LXBFC     5311\n",
       "B00M2OGS08     5251\n",
       "B003OGKCDC     5012\n",
       "B00XA8XWGS     4870\n",
       "B005K4Q1T0     4838\n",
       "B007JINB0W     4738\n",
       "B006CNTR6W     4670\n",
       "B00KCCKV8W     4635\n",
       "B006IOKA9S     4631\n",
       "B00WBUX2UM     4622\n",
       "B00R7PWK7W     4617\n",
       "B0014WYXYW     4550\n",
       "B0010BQB6A     4320\n",
       "Name: UserId, dtype: int64"
      ]
     },
     "execution_count": 13,
     "metadata": {},
     "output_type": "execute_result"
    }
   ],
   "source": [
    "product_count = user_df.groupby('ProductId')['UserId'].count()\n",
    "product_count.sort_values(ascending = False).head(30)"
   ]
  },
  {
   "cell_type": "markdown",
   "metadata": {},
   "source": [
    "# ----------------------------------------------------------------------\n",
    "\n",
    "# 1 위 https://www.amazon.com/dp/B00BUKL666\n",
    "# 2 위 https://www.amazon.com/dp/B00542YXFW\n",
    "# 3 위 https://www.amazon.com/dp/B008QMX2SG\n",
    "\n",
    "# ----------------------------------------------------------------------"
   ]
  },
  {
   "cell_type": "markdown",
   "metadata": {},
   "source": [
    "# 3. 내가 선호하는 식품 5가지 골라서 rating 에 추가"
   ]
  },
  {
   "cell_type": "code",
   "execution_count": 14,
   "metadata": {},
   "outputs": [
    {
     "data": {
      "text/html": [
       "<div>\n",
       "<style scoped>\n",
       "    .dataframe tbody tr th:only-of-type {\n",
       "        vertical-align: middle;\n",
       "    }\n",
       "\n",
       "    .dataframe tbody tr th {\n",
       "        vertical-align: top;\n",
       "    }\n",
       "\n",
       "    .dataframe thead th {\n",
       "        text-align: right;\n",
       "    }\n",
       "</style>\n",
       "<table border=\"1\" class=\"dataframe\">\n",
       "  <thead>\n",
       "    <tr style=\"text-align: right;\">\n",
       "      <th></th>\n",
       "      <th>ProductId</th>\n",
       "      <th>UserId</th>\n",
       "      <th>Rating</th>\n",
       "      <th>TimeStamp</th>\n",
       "    </tr>\n",
       "  </thead>\n",
       "  <tbody>\n",
       "    <tr>\n",
       "      <th>5074155</th>\n",
       "      <td>B01HJHSVG6</td>\n",
       "      <td>AGOPF2VTEOP57</td>\n",
       "      <td>5.0</td>\n",
       "      <td>1538611200</td>\n",
       "    </tr>\n",
       "    <tr>\n",
       "      <th>5074156</th>\n",
       "      <td>B01HJHSVG6</td>\n",
       "      <td>A5X5TI4JCH9CN</td>\n",
       "      <td>3.0</td>\n",
       "      <td>1538524800</td>\n",
       "    </tr>\n",
       "    <tr>\n",
       "      <th>5074157</th>\n",
       "      <td>B01HJHSVG6</td>\n",
       "      <td>A1WMQQLC3TVAFI</td>\n",
       "      <td>4.0</td>\n",
       "      <td>1538438400</td>\n",
       "    </tr>\n",
       "    <tr>\n",
       "      <th>5074158</th>\n",
       "      <td>B01HJHSVG6</td>\n",
       "      <td>ALVP6JZRTEDY6</td>\n",
       "      <td>5.0</td>\n",
       "      <td>1538265600</td>\n",
       "    </tr>\n",
       "    <tr>\n",
       "      <th>5074159</th>\n",
       "      <td>B01HJHSVG6</td>\n",
       "      <td>AZFPVUZOVGBYR</td>\n",
       "      <td>5.0</td>\n",
       "      <td>1538179200</td>\n",
       "    </tr>\n",
       "    <tr>\n",
       "      <th>0</th>\n",
       "      <td>B00WBUX2UM</td>\n",
       "      <td>kyuhwan</td>\n",
       "      <td>5.0</td>\n",
       "      <td>12345678</td>\n",
       "    </tr>\n",
       "    <tr>\n",
       "      <th>1</th>\n",
       "      <td>B00BUKL666</td>\n",
       "      <td>kyuhwan</td>\n",
       "      <td>5.0</td>\n",
       "      <td>12345678</td>\n",
       "    </tr>\n",
       "    <tr>\n",
       "      <th>2</th>\n",
       "      <td>B008QMX2SG</td>\n",
       "      <td>kyuhwan</td>\n",
       "      <td>5.0</td>\n",
       "      <td>12345678</td>\n",
       "    </tr>\n",
       "    <tr>\n",
       "      <th>3</th>\n",
       "      <td>B00PFDH0IC</td>\n",
       "      <td>kyuhwan</td>\n",
       "      <td>5.0</td>\n",
       "      <td>12345678</td>\n",
       "    </tr>\n",
       "    <tr>\n",
       "      <th>4</th>\n",
       "      <td>B000H2XXRS</td>\n",
       "      <td>kyuhwan</td>\n",
       "      <td>5.0</td>\n",
       "      <td>12345678</td>\n",
       "    </tr>\n",
       "  </tbody>\n",
       "</table>\n",
       "</div>"
      ],
      "text/plain": [
       "          ProductId          UserId  Rating   TimeStamp\n",
       "5074155  B01HJHSVG6   AGOPF2VTEOP57     5.0  1538611200\n",
       "5074156  B01HJHSVG6   A5X5TI4JCH9CN     3.0  1538524800\n",
       "5074157  B01HJHSVG6  A1WMQQLC3TVAFI     4.0  1538438400\n",
       "5074158  B01HJHSVG6   ALVP6JZRTEDY6     5.0  1538265600\n",
       "5074159  B01HJHSVG6   AZFPVUZOVGBYR     5.0  1538179200\n",
       "0        B00WBUX2UM         kyuhwan     5.0    12345678\n",
       "1        B00BUKL666         kyuhwan     5.0    12345678\n",
       "2        B008QMX2SG         kyuhwan     5.0    12345678\n",
       "3        B00PFDH0IC         kyuhwan     5.0    12345678\n",
       "4        B000H2XXRS         kyuhwan     5.0    12345678"
      ]
     },
     "execution_count": 14,
     "metadata": {},
     "output_type": "execute_result"
    }
   ],
   "source": [
    "\n",
    "my_favorite = ['B00WBUX2UM', 'B00BUKL666', 'B008QMX2SG',\n",
    "              'B00PFDH0IC', 'B000H2XXRS']\n",
    "\n",
    "my_foodlist = pd.DataFrame({'UserId': ['kyuhwan']*5,  'Rating':[5]*5,'TimeStamp' : [12345678]*5,\n",
    "                           'ProductId': ['B00WBUX2UM', 'B00BUKL666', 'B008QMX2SG','B00PFDH0IC', 'B000H2XXRS']})\n",
    "\n",
    "if not user_df.isin({'UserId': ['kyuhwan']})['UserId'].any():\n",
    "    user_df = user_df.append(my_foodlist)\n",
    "user_df.tail(10)"
   ]
  },
  {
   "cell_type": "code",
   "execution_count": 15,
   "metadata": {},
   "outputs": [
    {
     "name": "stdout",
     "output_type": "stream",
     "text": [
      "2695974\n"
     ]
    }
   ],
   "source": [
    "# 고유한 유저, 프로덕트 찾기\n",
    "user_unique = user_df['UserId'].unique()\n",
    "product_unique = user_df['ProductId'].unique()\n",
    "\n",
    "# 유저, 프로덕트를 indexing 하는 코드 idx는 index의 약자입니다.\n",
    "user_to_idx = {v:k for k,v in enumerate(user_unique)}\n",
    "product_to_idx = {v:k for k,v in enumerate(product_unique)}\n",
    "\n",
    "print(user_to_idx['kyuhwan'])"
   ]
  },
  {
   "cell_type": "code",
   "execution_count": 16,
   "metadata": {},
   "outputs": [
    {
     "name": "stdout",
     "output_type": "stream",
     "text": [
      "UserId column indexing OK!!\n",
      "Product column indexing OK!!\n"
     ]
    },
    {
     "data": {
      "text/html": [
       "<div>\n",
       "<style scoped>\n",
       "    .dataframe tbody tr th:only-of-type {\n",
       "        vertical-align: middle;\n",
       "    }\n",
       "\n",
       "    .dataframe tbody tr th {\n",
       "        vertical-align: top;\n",
       "    }\n",
       "\n",
       "    .dataframe thead th {\n",
       "        text-align: right;\n",
       "    }\n",
       "</style>\n",
       "<table border=\"1\" class=\"dataframe\">\n",
       "  <thead>\n",
       "    <tr style=\"text-align: right;\">\n",
       "      <th></th>\n",
       "      <th>ProductId</th>\n",
       "      <th>UserId</th>\n",
       "      <th>Rating</th>\n",
       "      <th>TimeStamp</th>\n",
       "    </tr>\n",
       "  </thead>\n",
       "  <tbody>\n",
       "    <tr>\n",
       "      <th>0</th>\n",
       "      <td>0</td>\n",
       "      <td>0</td>\n",
       "      <td>5.0</td>\n",
       "      <td>1370304000</td>\n",
       "    </tr>\n",
       "    <tr>\n",
       "      <th>1</th>\n",
       "      <td>0</td>\n",
       "      <td>1</td>\n",
       "      <td>4.0</td>\n",
       "      <td>1400803200</td>\n",
       "    </tr>\n",
       "    <tr>\n",
       "      <th>2</th>\n",
       "      <td>0</td>\n",
       "      <td>2</td>\n",
       "      <td>4.0</td>\n",
       "      <td>1399593600</td>\n",
       "    </tr>\n",
       "    <tr>\n",
       "      <th>3</th>\n",
       "      <td>0</td>\n",
       "      <td>3</td>\n",
       "      <td>5.0</td>\n",
       "      <td>1397952000</td>\n",
       "    </tr>\n",
       "    <tr>\n",
       "      <th>4</th>\n",
       "      <td>0</td>\n",
       "      <td>4</td>\n",
       "      <td>4.0</td>\n",
       "      <td>1397606400</td>\n",
       "    </tr>\n",
       "    <tr>\n",
       "      <th>...</th>\n",
       "      <td>...</td>\n",
       "      <td>...</td>\n",
       "      <td>...</td>\n",
       "      <td>...</td>\n",
       "    </tr>\n",
       "    <tr>\n",
       "      <th>0</th>\n",
       "      <td>52430</td>\n",
       "      <td>2695974</td>\n",
       "      <td>5.0</td>\n",
       "      <td>12345678</td>\n",
       "    </tr>\n",
       "    <tr>\n",
       "      <th>1</th>\n",
       "      <td>32660</td>\n",
       "      <td>2695974</td>\n",
       "      <td>5.0</td>\n",
       "      <td>12345678</td>\n",
       "    </tr>\n",
       "    <tr>\n",
       "      <th>2</th>\n",
       "      <td>36542</td>\n",
       "      <td>2695974</td>\n",
       "      <td>5.0</td>\n",
       "      <td>12345678</td>\n",
       "    </tr>\n",
       "    <tr>\n",
       "      <th>3</th>\n",
       "      <td>48734</td>\n",
       "      <td>2695974</td>\n",
       "      <td>5.0</td>\n",
       "      <td>12345678</td>\n",
       "    </tr>\n",
       "    <tr>\n",
       "      <th>4</th>\n",
       "      <td>3548</td>\n",
       "      <td>2695974</td>\n",
       "      <td>5.0</td>\n",
       "      <td>12345678</td>\n",
       "    </tr>\n",
       "  </tbody>\n",
       "</table>\n",
       "<p>5074165 rows × 4 columns</p>\n",
       "</div>"
      ],
      "text/plain": [
       "    ProductId   UserId  Rating   TimeStamp\n",
       "0           0        0     5.0  1370304000\n",
       "1           0        1     4.0  1400803200\n",
       "2           0        2     4.0  1399593600\n",
       "3           0        3     5.0  1397952000\n",
       "4           0        4     4.0  1397606400\n",
       "..        ...      ...     ...         ...\n",
       "0       52430  2695974     5.0    12345678\n",
       "1       32660  2695974     5.0    12345678\n",
       "2       36542  2695974     5.0    12345678\n",
       "3       48734  2695974     5.0    12345678\n",
       "4        3548  2695974     5.0    12345678\n",
       "\n",
       "[5074165 rows x 4 columns]"
      ]
     },
     "execution_count": 16,
     "metadata": {},
     "output_type": "execute_result"
    }
   ],
   "source": [
    "# CSR Matrix 를 직접 만들어 보기\n",
    "\n",
    "\n",
    "# indexing을 통해 데이터 컬럼 내 값을 바꾸는 코드\n",
    "# user_to_idx.get을 통해 UserId 컬럼의 모든 값을 인덱싱한 Series를 구해 봅시다. \n",
    "\n",
    "temp_user_data = user_df['UserId'].map(user_to_idx.get).dropna()\n",
    "if len(temp_user_data) == len(user_df):   # 모든 row가 정상적으로 인덱싱되었다면\n",
    "    print('UserId column indexing OK!!')\n",
    "    user_df['UserId'] = temp_user_data   # data['UserId']을 인덱싱된 Series로 교체해 줍니다. \n",
    "else:\n",
    "    print('UserId column indexing Fail!!')\n",
    "\n",
    "# product_to_idx을 통해 product 컬럼도 동일한 방식으로 인덱싱해 줍니다.\n",
    "\n",
    "temp_product_data = user_df['ProductId'].map(product_to_idx.get).dropna()\n",
    "if len(temp_product_data) == len(user_df):\n",
    "    print('Product column indexing OK!!')\n",
    "    user_df['ProductId'] = temp_product_data\n",
    "else:\n",
    "    print('Product column indexing Fail!!')\n",
    "    \n",
    "\n",
    "user_df"
   ]
  },
  {
   "cell_type": "markdown",
   "metadata": {},
   "source": [
    "# Compressed Sparse Row Matrix\n",
    "\n",
    "유저 x 아이템 평가행렬 -> 어림잡아도 엄청난 메모리가 필요하다 (600GB 이상)\n",
    "\n",
    "유저가 좋아하지 않는 아이템에 대한 정보까지 모두 행렬에 포함되어 계산되기 때문.\n",
    "\n",
    "평가행렬 내의 대부분의 공간은 0으로 채워짐. 이를 Sparse Matrix 라고 부름.\n",
    "\n",
    "이런 메모리 낭비를 최소화 하기 위해 유저가 좋아하는 아이템에 대해서만 정보만을 저장하면서\n",
    "\n",
    "전체 행렬 형태를 유추할 수있는 데이터 구조가 필요"
   ]
  },
  {
   "cell_type": "markdown",
   "metadata": {},
   "source": [
    "# Sparse Matrix 에 관한 URL :\n",
    "\n",
    "1) https://stackoverflow.com/questions/53254104/cant-understand-scipy-sparse-csr-matrix-example/62118005#62118005\n",
    "\n",
    "2)https://lovit.github.io/nlp/machine%20learning/2018/04/09/sparse_mtarix_handling/#csr-matrix"
   ]
  },
  {
   "cell_type": "code",
   "execution_count": 17,
   "metadata": {},
   "outputs": [
    {
     "data": {
      "text/plain": [
       "<2695975x283507 sparse matrix of type '<class 'numpy.float64'>'\n",
       "\twith 4889629 stored elements in Compressed Sparse Row format>"
      ]
     },
     "execution_count": 17,
     "metadata": {},
     "output_type": "execute_result"
    }
   ],
   "source": [
    "#CSR MATRIX 만들기\n",
    "from scipy.sparse import csr_matrix\n",
    "\n",
    "num_user = user_df['UserId'].nunique()\n",
    "num_product = user_df['ProductId'].nunique()\n",
    "\n",
    "csr_data = csr_matrix((user_df['Rating'], (user_df.UserId, user_df.ProductId)), shape= (num_user, num_product))\n",
    "csr_data"
   ]
  },
  {
   "cell_type": "markdown",
   "metadata": {},
   "source": [
    "# Matrix Factorization 모델 학습\n",
    "\n",
    "implict 라는 패키지를 이용\n",
    "\n",
    "als(AlternatingLeastSqaures) 모델을 사용. Matrix Factorization 에서 쪼개진 두 Feature Matrix 를 한꺼번에 훈련하는것은 잘 수렴하지 않기 때문에,\n",
    "한쪽을 고정시키고 다른 쪽을 학습하는 방식을 번갈아 수행하는 ALS 방식이 효과적임"
   ]
  },
  {
   "cell_type": "code",
   "execution_count": 32,
   "metadata": {},
   "outputs": [
    {
     "data": {
      "text/plain": [
       "<283507x2695975 sparse matrix of type '<class 'numpy.float64'>'\n",
       "\twith 4889629 stored elements in Compressed Sparse Column format>"
      ]
     },
     "execution_count": 32,
     "metadata": {},
     "output_type": "execute_result"
    }
   ],
   "source": [
    "from implicit.als import AlternatingLeastSquares\n",
    "import os\n",
    "import numpy as np\n",
    "\n",
    "#implict 에서 권장하고 있는 부분\n",
    "os.environ['OPENBLAS_NUM_THREAD'] = '1'\n",
    "os.environ['KMP_DUPLICATE_LIB_OK'] = 'True'\n",
    "os.environ['MKL_NUM_THREADS'] = '1'\n",
    "\n",
    "#implict AlternatingLeastSquares 모델의 선언\n",
    "\n",
    "\n",
    "#ALS 클래스의 __init__ 파라미터 살펴보기\n",
    "# 1. factors : 유저와 아이템의 벡터를 몇 차원으로 할것인지\n",
    "# 2. regularization : 과적합 방지하기 위해 정규화 값을 얼마나 사용할 것인지\n",
    "# 3. use_gpu : GPU 를 사용할 것잉ㄴ지\n",
    "# 4. iterations : epoch 과 같은 의미. 데이터를 몇 번 반복해서 학습할 것인지\n",
    "als_model = AlternatingLeastSquares(factors = 100, regularization = 0.01, use_gpu = False, iterations = 15,\n",
    "                                   dtype = np.float32)\n",
    "\n",
    "#als 모델은 input 으로 (item X user 꼴의 matrix 를 받기 때문에 Transpose 해줍니다.)\n",
    "\n",
    "csr_data_transpose = csr_data.T\n",
    "csr_data_transpose"
   ]
  },
  {
   "cell_type": "code",
   "execution_count": 20,
   "metadata": {},
   "outputs": [
    {
     "data": {
      "application/vnd.jupyter.widget-view+json": {
       "model_id": "5194dcaba1c74a7c887b63cc0d096c4a",
       "version_major": 2,
       "version_minor": 0
      },
      "text/plain": [
       "HBox(children=(FloatProgress(value=0.0, max=15.0), HTML(value='')))"
      ]
     },
     "metadata": {},
     "output_type": "display_data"
    },
    {
     "name": "stdout",
     "output_type": "stream",
     "text": [
      "\n"
     ]
    }
   ],
   "source": [
    "als_model.fit(csr_data_transpose)"
   ]
  },
  {
   "cell_type": "code",
   "execution_count": 21,
   "metadata": {},
   "outputs": [
    {
     "name": "stdout",
     "output_type": "stream",
     "text": [
      "2695974\n"
     ]
    }
   ],
   "source": [
    "print(user_to_idx['kyuhwan'])"
   ]
  },
  {
   "cell_type": "markdown",
   "metadata": {},
   "source": [
    "# 4.  내가 선호하는 5가지 음식 중 하나와 그 외의 음식 하나를 골라 훈련된 모델이 예측한 나의 선호도를 파악해보기"
   ]
  },
  {
   "cell_type": "code",
   "execution_count": 22,
   "metadata": {},
   "outputs": [],
   "source": [
    "kyuhwan, kindbar  = user_to_idx['kyuhwan'], product_to_idx['B00BUKL666']\n",
    "kyuhwan_vector, kindbar_vector = als_model.user_factors[kyuhwan], als_model.item_factors[kindbar]"
   ]
  },
  {
   "cell_type": "code",
   "execution_count": 23,
   "metadata": {},
   "outputs": [
    {
     "data": {
      "text/plain": [
       "array([ 0.01129489,  0.04096334, -0.00577985, -0.00590205,  0.07755878,\n",
       "       -0.06322526, -0.00510072, -0.00418894,  0.11207666,  0.01770949,\n",
       "       -0.01975668, -0.01212848,  0.00103267,  0.0133176 , -0.03333454,\n",
       "       -0.0363686 , -0.00903931, -0.07347597, -0.04957177,  0.00277478,\n",
       "        0.01253075,  0.05073196,  0.03608559,  0.05735427, -0.02375843,\n",
       "        0.01799873,  0.01340177,  0.02693825, -0.01712429, -0.0433847 ,\n",
       "        0.03641789, -0.01008456, -0.00330016, -0.00847558, -0.00263662,\n",
       "       -0.00396724,  0.00656064, -0.00924345,  0.04775057,  0.02061106,\n",
       "        0.00468099,  0.03317811, -0.01896046,  0.00097972, -0.04447523,\n",
       "        0.00487354,  0.0083517 ,  0.02071826,  0.06002178, -0.01761264,\n",
       "       -0.00336663, -0.00068119, -0.0123321 ,  0.00154238, -0.01348539,\n",
       "       -0.03668587,  0.01025478, -0.01293186,  0.02776764, -0.01906144,\n",
       "       -0.04083011,  0.00432826, -0.01512842, -0.05008803, -0.01569166,\n",
       "       -0.00785131, -0.004356  , -0.02313512, -0.00979655,  0.00413908,\n",
       "       -0.03048993, -0.01345924,  0.00062962,  0.0252825 , -0.05782413,\n",
       "       -0.01321006, -0.00563221,  0.00071757,  0.02414842,  0.01489374,\n",
       "        0.02550459,  0.01393986, -0.01355914, -0.01131976,  0.0005671 ,\n",
       "        0.03775095,  0.01482282,  0.00859844,  0.00817185, -0.04097661,\n",
       "       -0.03227265,  0.02642539,  0.03189656, -0.02496433, -0.03492945,\n",
       "        0.02276429, -0.00982474,  0.02037978, -0.02598828,  0.01003661],\n",
       "      dtype=float32)"
      ]
     },
     "execution_count": 23,
     "metadata": {},
     "output_type": "execute_result"
    }
   ],
   "source": [
    "kyuhwan_vector"
   ]
  },
  {
   "cell_type": "code",
   "execution_count": 24,
   "metadata": {},
   "outputs": [
    {
     "data": {
      "text/plain": [
       "array([ 0.57114923, -0.09055092,  0.44896844, -0.5552083 ,  1.3209987 ,\n",
       "       -0.4251691 , -1.271683  , -0.2908415 ,  1.35349   , -0.07170092,\n",
       "        0.4280137 , -0.30975282, -0.20632899, -0.25358474, -0.5318306 ,\n",
       "        0.4074585 , -0.79447085, -0.9576449 , -0.6319869 ,  0.5025351 ,\n",
       "        0.45968324,  0.7326911 ,  0.68397427, -0.5509796 , -0.42640266,\n",
       "        0.29005158,  0.8404033 ,  0.760751  , -0.09723096,  0.1352186 ,\n",
       "        0.7184506 ,  0.30158418,  0.16671288,  0.08700465, -0.1442102 ,\n",
       "        0.25285956,  0.7402699 ,  0.01570844,  0.10847622,  0.89266086,\n",
       "        0.59716946,  0.705307  , -0.25042567, -0.47973546, -1.3944639 ,\n",
       "        0.5355415 , -0.15178743,  0.5796125 ,  0.313731  , -1.0108156 ,\n",
       "        0.32240164,  0.63729715,  0.21237078, -0.11833993,  0.20344071,\n",
       "       -0.00333385, -0.5645638 ,  0.5032024 ,  0.30253834, -0.2504076 ,\n",
       "       -0.5174136 , -0.03737095, -1.073693  , -0.04242508, -0.8200378 ,\n",
       "       -1.3057884 ,  0.07404641, -0.52277184, -0.25162068, -1.2934691 ,\n",
       "        1.0823809 ,  0.39027706, -0.17890435, -0.23529832, -0.6077187 ,\n",
       "       -0.15793292, -0.58840114,  0.21149822,  0.59165555, -0.16660583,\n",
       "        0.699961  ,  0.45129532, -0.08284544, -0.33962056,  1.0215497 ,\n",
       "        0.65391254,  1.1470989 , -0.34313887, -0.4365231 , -1.3620809 ,\n",
       "        0.511924  ,  0.08947939,  0.10949256, -0.09747238, -0.3207794 ,\n",
       "        0.34465274, -1.2839779 ,  0.89908373, -0.08388225, -0.3391689 ],\n",
       "      dtype=float32)"
      ]
     },
     "execution_count": 24,
     "metadata": {},
     "output_type": "execute_result"
    }
   ],
   "source": [
    "kindbar_vector"
   ]
  },
  {
   "cell_type": "code",
   "execution_count": 25,
   "metadata": {},
   "outputs": [
    {
     "data": {
      "text/plain": [
       "0.90133846"
      ]
     },
     "execution_count": 25,
     "metadata": {},
     "output_type": "execute_result"
    }
   ],
   "source": [
    "# Kyuhwan 과 Kind Bar 를 내적하는 코드\n",
    "\n",
    "np.dot(kyuhwan_vector, kindbar_vector)"
   ]
  },
  {
   "cell_type": "code",
   "execution_count": 26,
   "metadata": {},
   "outputs": [
    {
     "data": {
      "text/plain": [
       "0.83609337"
      ]
     },
     "execution_count": 26,
     "metadata": {},
     "output_type": "execute_result"
    }
   ],
   "source": [
    "# 나의 Coconut Oil 에 대한 선호도는 어떻게 예측할지\n",
    "\n",
    "coconut = product_to_idx['B000H2XXRS']\n",
    "coconut_vector = als_model.item_factors[coconut]\n",
    "np.dot(kyuhwan_vector, coconut_vector)"
   ]
  },
  {
   "cell_type": "markdown",
   "metadata": {},
   "source": [
    "# 5. 내가 좋아하는 음식과 비슷한 음식을 추천받아 봅시다."
   ]
  },
  {
   "cell_type": "code",
   "execution_count": 27,
   "metadata": {},
   "outputs": [
    {
     "data": {
      "text/plain": [
       "[(3548, 0.9999998),\n",
       " (100039, 0.99617106),\n",
       " (89510, 0.9961059),\n",
       " (134233, 0.9960929),\n",
       " (235822, 0.9955393),\n",
       " (207697, 0.99551946),\n",
       " (76432, 0.9954799),\n",
       " (176812, 0.9954417),\n",
       " (153831, 0.9954204),\n",
       " (61598, 0.99511987),\n",
       " (194043, 0.99485576),\n",
       " (157048, 0.9948324),\n",
       " (138715, 0.99476665),\n",
       " (125536, 0.9947575),\n",
       " (225286, 0.9947118)]"
      ]
     },
     "execution_count": 27,
     "metadata": {},
     "output_type": "execute_result"
    }
   ],
   "source": [
    "# coconut oil 과 비슷한 음식 추천받기\n",
    "\n",
    "favorite_food = 'B000H2XXRS'\n",
    "product_id = product_to_idx[favorite_food]\n",
    "\n",
    "similar_food = als_model.similar_items(product_id, N=15)\n",
    "similar_food"
   ]
  },
  {
   "cell_type": "code",
   "execution_count": 28,
   "metadata": {},
   "outputs": [
    {
     "data": {
      "text/plain": [
       "['B000H2XXRS',\n",
       " 'B003ZFL40W',\n",
       " 'B001SAU20E',\n",
       " 'B007Z91P62',\n",
       " 'B00SVS6VR4',\n",
       " 'B00KO9APFW',\n",
       " 'B0012AOJ22',\n",
       " 'B00FA8NKCM',\n",
       " 'B00BOUQHK2',\n",
       " 'B0000D9N8U',\n",
       " 'B00IBS0H0Q',\n",
       " 'B00C87I7U8',\n",
       " 'B0094EPG2A',\n",
       " 'B006J2T3C4',\n",
       " 'B00ONGQ4IO']"
      ]
     },
     "execution_count": 28,
     "metadata": {},
     "output_type": "execute_result"
    }
   ],
   "source": [
    "#ASIN 표시하기\n",
    "\n",
    "idx_to_product = {v:k for k,v in product_to_idx.items()}\n",
    "[idx_to_product[i[0]]for i in similar_food]"
   ]
  },
  {
   "cell_type": "markdown",
   "metadata": {},
   "source": [
    "# 그럴싸한 추천들:\n",
    "# https://www.amazon.com/dp/B007Z91P62\n",
    "# https://www.amazon.com/dp/B01D6CW1SW\n",
    "# https://www.amazon.com/dp/B006J2T3C4\n",
    "\n",
    "\n",
    "# 다소 이상한 추천들:\n",
    "# https://www.amazon.com/dp/B0094EPG2A\n",
    "# https://www.amazon.com/dp/B00FA8NKCM\n",
    "# https://www.amazon.com/dp/B00EMZZHWK\n",
    "# https://www.amazon.com/dp/B00IBS0H0Q\n"
   ]
  },
  {
   "cell_type": "markdown",
   "metadata": {},
   "source": [
    "# 6. 내가 좋아할만한 음식들을 추천받아보기"
   ]
  },
  {
   "cell_type": "code",
   "execution_count": 29,
   "metadata": {},
   "outputs": [
    {
     "data": {
      "text/plain": [
       "[(34929, 0.7286428),\n",
       " (49753, 0.57969815),\n",
       " (44800, 0.5617294),\n",
       " (50708, 0.35929188),\n",
       " (36231, 0.27760273),\n",
       " (42423, 0.23773493),\n",
       " (53622, 0.22054072),\n",
       " (40653, 0.21935567),\n",
       " (10085, 0.21340473),\n",
       " (3283, 0.20488684),\n",
       " (44736, 0.20325615),\n",
       " (24928, 0.18187878),\n",
       " (8487, 0.17946078),\n",
       " (40282, 0.15845677),\n",
       " (60627, 0.15500343),\n",
       " (2145, 0.14880371),\n",
       " (14073, 0.1423859),\n",
       " (22958, 0.14209083),\n",
       " (55248, 0.13939375),\n",
       " (39084, 0.1367101)]"
      ]
     },
     "execution_count": 29,
     "metadata": {},
     "output_type": "execute_result"
    }
   ],
   "source": [
    "\n",
    "# 음식 추천받기\n",
    "\n",
    "user = user_to_idx['kyuhwan']\n",
    "\n",
    "#recommend 에서는 user * item CSR Matrix 를 받습니다.\n",
    "\n",
    "food_recommended = als_model.recommend(user, csr_data, N=20, filter_already_liked_items = True)\n",
    "food_recommended"
   ]
  },
  {
   "cell_type": "code",
   "execution_count": 30,
   "metadata": {},
   "outputs": [
    {
     "data": {
      "text/plain": [
       "['B00D3M2QP4',\n",
       " 'B00R7PWK7W',\n",
       " 'B00KSN9TME',\n",
       " 'B00TBUHRRO',\n",
       " 'B00E1P4L1Y',\n",
       " 'B00IZL255O',\n",
       " 'B00ZEA5ESY',\n",
       " 'B00HNTPF7E',\n",
       " 'B001E5E0D8',\n",
       " 'B000GAT6NG',\n",
       " 'B00KRFLDBS',\n",
       " 'B006IOKA9S',\n",
       " 'B0015DGDR0',\n",
       " 'B00H889MGK',\n",
       " 'B01G0S3Y44',\n",
       " 'B000EDDS6Q',\n",
       " 'B0027Z5J6G',\n",
       " 'B005K4Q1YA',\n",
       " 'B014LT0712',\n",
       " 'B00G6I14Y6']"
      ]
     },
     "execution_count": 30,
     "metadata": {},
     "output_type": "execute_result"
    }
   ],
   "source": [
    "[idx_to_product[i[0]]for i in food_recommended]"
   ]
  },
  {
   "cell_type": "markdown",
   "metadata": {},
   "source": [
    "# 그럴싸한 추천들:\n",
    "\n",
    "# https://www.amazon.com/dp/B00R7PWK7W\n",
    "# https://www.amazon.com/dp/B00KSN9TME\n",
    "# https://www.amazon.com/dp/B00CZ2KYRU\n",
    "# https://www.amazon.com/dp/B00MYRXIIS\n",
    "# https://www.amazon.com/dp/B0027Z5J6G\n",
    "# https://www.amazon.com/dp/B000GW0U9I\n",
    "\n",
    "\n"
   ]
  },
  {
   "cell_type": "code",
   "execution_count": 31,
   "metadata": {},
   "outputs": [
    {
     "data": {
      "text/plain": [
       "[('B000H2XXRS', 0.836853716456697),\n",
       " ('B00BUKL666', 0.008877806120408088),\n",
       " ('B00WBUX2UM', 0.006538893398980163),\n",
       " ('B008QMX2SG', -0.005890761459414735),\n",
       " ('B00PFDH0IC', -0.011400553289685271)]"
      ]
     },
     "execution_count": 31,
     "metadata": {},
     "output_type": "execute_result"
    }
   ],
   "source": [
    "#이 추천에 기여한 정도 (Coconut Oil 의 경우)\n",
    "\n",
    "coconut = product_to_idx['B000H2XXRS']\n",
    "explain = als_model.explain(user, csr_data, itemid = coconut)\n",
    "\n",
    "[(idx_to_product[i[0]], i[1]) for i in explain [1]]"
   ]
  },
  {
   "cell_type": "code",
   "execution_count": null,
   "metadata": {},
   "outputs": [],
   "source": []
  }
 ],
 "metadata": {
  "kernelspec": {
   "display_name": "Python 3",
   "language": "python",
   "name": "python3"
  },
  "language_info": {
   "codemirror_mode": {
    "name": "ipython",
    "version": 3
   },
   "file_extension": ".py",
   "mimetype": "text/x-python",
   "name": "python",
   "nbconvert_exporter": "python",
   "pygments_lexer": "ipython3",
   "version": "3.7.6"
  }
 },
 "nbformat": 4,
 "nbformat_minor": 4
}
