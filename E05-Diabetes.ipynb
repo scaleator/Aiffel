{
 "cells": [
  {
   "cell_type": "code",
   "execution_count": 53,
   "metadata": {},
   "outputs": [
    {
     "name": "stdout",
     "output_type": "stream",
     "text": [
      "(353, 10) (353,)\n",
      "(89, 10) (89,)\n",
      "(442, 10)\n",
      "(442,)\n"
     ]
    }
   ],
   "source": [
    "from sklearn.datasets import load_diabetes\n",
    "import pandas as pd\n",
    "import numpy as np\n",
    "from sklearn.model_selection import train_test_split\n",
    "import matplotlib.pyplot as plt\n",
    "from sklearn.linear_model import LinearRegression\n",
    "\n",
    "\n",
    "diabetes = load_diabetes()\n",
    "\n",
    "\n",
    "df_X = diabetes.data\n",
    "df_y = diabetes.target\n",
    "\n",
    "df_X = np.array(df_X)\n",
    "df_y = np.array(df_y)\n",
    "\n",
    "X_train, X_test, y_train, y_test = train_test_split(df_X, df_y,test_size =0.2 ,random_state = 42)\n",
    "\n",
    "print(X_train.shape, y_train.shape)\n",
    "print(X_test.shape, y_test.shape)\n",
    "\n",
    "W = np.random.rand(10)\n",
    "b = np.random.rand()\n",
    "\n",
    "print(df_X.shape)\n",
    "print(df_y.shape)"
   ]
  },
  {
   "cell_type": "code",
   "execution_count": 54,
   "metadata": {},
   "outputs": [
    {
     "data": {
      "text/plain": [
       "array([0.14908934, 0.04058844, 0.80853507, 0.08822339, 0.72440136,\n",
       "       0.52874071, 0.57397647, 0.01867757, 0.66830586, 0.82686165])"
      ]
     },
     "execution_count": 54,
     "metadata": {},
     "output_type": "execute_result"
    }
   ],
   "source": [
    "W"
   ]
  },
  {
   "cell_type": "code",
   "execution_count": 55,
   "metadata": {},
   "outputs": [
    {
     "name": "stdout",
     "output_type": "stream",
     "text": [
      "[ -60.63045514  -13.87888898 -189.56497893 -142.70243249  -68.2277732\n",
      "  -55.99753801  127.7614565  -139.07750182 -182.86395459 -123.48859587]\n",
      "-303.4765437934239\n"
     ]
    }
   ],
   "source": [
    "def model (df_X, W, b):\n",
    "    predictions =0\n",
    "    for i in range(10):\n",
    "        predictions += df_X[:,i] * W[i]\n",
    "    predictions += b\n",
    "    return predictions\n",
    "\n",
    "def MSE (a,b):\n",
    "    mse = ((a-b)**2).mean()\n",
    "    return mse\n",
    "\n",
    "def loss(df_X,W,b,df_y):\n",
    "    predictions = model(df_X,W,b)\n",
    "    L = MSE(predictions, df_y)\n",
    "    return L\n",
    "\n",
    "def gradient(df_X,W,b,df_y):\n",
    "    N = len(W)\n",
    "    y_pred = model(df_X,W,b)\n",
    "    dW = 1/N*2*df_X.T.dot(y_pred - df_y)\n",
    "    db = 2*(y_pred-df_y).mean()\n",
    "    return dW,db\n",
    "\n",
    "dW, db = gradient(df_X,W,b,df_y)\n",
    "print(dW)\n",
    "print(db)"
   ]
  },
  {
   "cell_type": "code",
   "execution_count": 58,
   "metadata": {},
   "outputs": [
    {
     "name": "stdout",
     "output_type": "stream",
     "text": [
      "Iteration 10 : Loss 4342.4228\n",
      "Iteration 20 : Loss 4175.6862\n",
      "Iteration 30 : Loss 4046.3301\n",
      "Iteration 40 : Loss 3943.3499\n",
      "Iteration 50 : Loss 3859.2702\n",
      "Iteration 60 : Loss 3788.9822\n",
      "Iteration 70 : Loss 3728.9669\n",
      "Iteration 80 : Loss 3676.7766\n",
      "Iteration 90 : Loss 3630.6879\n",
      "Iteration 100 : Loss 3589.4696\n",
      "Iteration 110 : Loss 3552.2265\n",
      "Iteration 120 : Loss 3518.2955\n",
      "Iteration 130 : Loss 3487.1747\n",
      "Iteration 140 : Loss 3458.4756\n",
      "Iteration 150 : Loss 3431.8912\n",
      "Iteration 160 : Loss 3407.1736\n",
      "Iteration 170 : Loss 3384.1186\n",
      "Iteration 180 : Loss 3362.5551\n",
      "Iteration 190 : Loss 3342.3377\n",
      "Iteration 200 : Loss 3323.3413\n",
      "Iteration 210 : Loss 3305.4571\n",
      "Iteration 220 : Loss 3288.5896\n",
      "Iteration 230 : Loss 3272.6546\n",
      "Iteration 240 : Loss 3257.5772\n",
      "Iteration 250 : Loss 3243.2906\n",
      "Iteration 260 : Loss 3229.7352\n",
      "Iteration 270 : Loss 3216.8573\n",
      "Iteration 280 : Loss 3204.6084\n",
      "Iteration 290 : Loss 3192.9451\n",
      "Iteration 300 : Loss 3181.8276\n",
      "Iteration 310 : Loss 3171.2201\n",
      "Iteration 320 : Loss 3161.0901\n",
      "Iteration 330 : Loss 3151.4078\n",
      "Iteration 340 : Loss 3142.1460\n",
      "Iteration 350 : Loss 3133.2800\n",
      "Iteration 360 : Loss 3124.7869\n",
      "Iteration 370 : Loss 3116.6458\n",
      "Iteration 380 : Loss 3108.8375\n",
      "Iteration 390 : Loss 3101.3441\n",
      "Iteration 400 : Loss 3094.1494\n",
      "Iteration 410 : Loss 3087.2380\n",
      "Iteration 420 : Loss 3080.5958\n",
      "Iteration 430 : Loss 3074.2097\n",
      "Iteration 440 : Loss 3068.0674\n",
      "Iteration 450 : Loss 3062.1576\n",
      "Iteration 460 : Loss 3056.4696\n",
      "Iteration 470 : Loss 3050.9933\n",
      "Iteration 480 : Loss 3045.7193\n",
      "Iteration 490 : Loss 3040.6388\n",
      "Iteration 500 : Loss 3035.7436\n",
      "Iteration 510 : Loss 3031.0257\n",
      "Iteration 520 : Loss 3026.4777\n",
      "Iteration 530 : Loss 3022.0927\n",
      "Iteration 540 : Loss 3017.8640\n",
      "Iteration 550 : Loss 3013.7853\n",
      "Iteration 560 : Loss 3009.8506\n",
      "Iteration 570 : Loss 3006.0543\n",
      "Iteration 580 : Loss 3002.3910\n",
      "Iteration 590 : Loss 2998.8555\n",
      "Iteration 600 : Loss 2995.4429\n",
      "Iteration 610 : Loss 2992.1486\n",
      "Iteration 620 : Loss 2988.9681\n",
      "Iteration 630 : Loss 2985.8970\n",
      "Iteration 640 : Loss 2982.9314\n",
      "Iteration 650 : Loss 2980.0674\n",
      "Iteration 660 : Loss 2977.3011\n",
      "Iteration 670 : Loss 2974.6290\n",
      "Iteration 680 : Loss 2972.0477\n",
      "Iteration 690 : Loss 2969.5538\n",
      "Iteration 700 : Loss 2967.1443\n",
      "Iteration 710 : Loss 2964.8161\n",
      "Iteration 720 : Loss 2962.5662\n",
      "Iteration 730 : Loss 2960.3919\n",
      "Iteration 740 : Loss 2958.2905\n",
      "Iteration 750 : Loss 2956.2594\n",
      "Iteration 760 : Loss 2954.2962\n",
      "Iteration 770 : Loss 2952.3983\n",
      "Iteration 780 : Loss 2950.5636\n",
      "Iteration 790 : Loss 2948.7898\n",
      "Iteration 800 : Loss 2947.0747\n",
      "Iteration 810 : Loss 2945.4165\n",
      "Iteration 820 : Loss 2943.8129\n",
      "Iteration 830 : Loss 2942.2623\n",
      "Iteration 840 : Loss 2940.7627\n",
      "Iteration 850 : Loss 2939.3123\n",
      "Iteration 860 : Loss 2937.9096\n",
      "Iteration 870 : Loss 2936.5527\n",
      "Iteration 880 : Loss 2935.2403\n",
      "Iteration 890 : Loss 2933.9706\n",
      "Iteration 900 : Loss 2932.7423\n",
      "Iteration 910 : Loss 2931.5540\n",
      "Iteration 920 : Loss 2930.4043\n",
      "Iteration 930 : Loss 2929.2919\n",
      "Iteration 940 : Loss 2928.2155\n",
      "Iteration 950 : Loss 2927.1739\n",
      "Iteration 960 : Loss 2926.1659\n",
      "Iteration 970 : Loss 2925.1903\n",
      "Iteration 980 : Loss 2924.2462\n",
      "Iteration 990 : Loss 2923.3324\n",
      "Iteration 1000 : Loss 2922.4479\n"
     ]
    }
   ],
   "source": [
    "LEARNING_RATE = 0.01\n",
    "\n",
    "losses = []\n",
    "\n",
    "for i in range(1,1001):\n",
    "    dW, db = gradient(X_train, W, b, y_train)\n",
    "    W -= LEARNING_RATE * dW\n",
    "    b -= LEARNING_RATE * db\n",
    "    L = loss(df_X,W,b,df_y)\n",
    "    losses.append(L)\n",
    "    if i%10 ==0:\n",
    "        print('Iteration %d : Loss %0.4F'%(i,L))"
   ]
  },
  {
   "cell_type": "code",
   "execution_count": 59,
   "metadata": {},
   "outputs": [
    {
     "data": {
      "image/png": "[encoded data removed]",
      "text/plain": [
       "<Figure size 432x288 with 1 Axes>"
      ]
     },
     "metadata": {
      "needs_background": "light"
     },
     "output_type": "display_data"
    }
   ],
   "source": [
    "plt.plot(losses)\n",
    "plt.show()"
   ]
  },
  {
   "cell_type": "code",
   "execution_count": 60,
   "metadata": {},
   "outputs": [
    {
     "data": {
      "text/plain": [
       "array([139.5483133 , 179.52030578, 134.04133298, 291.41193598,\n",
       "       123.78723656,  92.17357677, 258.23409704, 181.33895238,\n",
       "        90.22217862, 108.63143298,  94.13938654, 168.43379636,\n",
       "        53.50669663, 206.63040068, 100.13238561, 130.66881649,\n",
       "       219.53270758, 250.78291772, 196.36682356, 218.57497401,\n",
       "       207.35002447,  88.48361667,  70.43428801, 188.95725301,\n",
       "       154.88720039, 159.35957695, 188.31587948, 180.38835506,\n",
       "        47.98988446, 108.97514644, 174.78080029,  86.36598906,\n",
       "       132.95890535, 184.5410226 , 173.83298051, 190.35863287,\n",
       "       124.41740796, 119.65426903, 147.95402494,  59.05311211,\n",
       "        71.62636914, 107.68722902, 165.45544477, 155.00784964,\n",
       "       171.04558668,  61.45763075,  71.66975626, 114.96330486,\n",
       "        51.57808027, 167.57781958, 152.52505798,  62.95827693,\n",
       "       103.49862017, 109.20495627, 175.63844013, 154.60247734,\n",
       "        94.41476124, 210.74244148, 120.25601864,  77.61590087,\n",
       "       187.93503183, 206.49543321, 140.63018684, 105.59463059,\n",
       "       130.704246  , 202.18650868, 171.1330116 , 164.91246096,\n",
       "       124.72637597, 144.81210187, 181.99631481, 199.41234515,\n",
       "       234.21402489, 145.96053305,  79.86349114, 157.36828831,\n",
       "       192.74737754, 208.8980067 , 158.58505486, 206.0226849 ,\n",
       "       107.47978402, 140.93428553,  54.81856678,  55.92807758,\n",
       "       115.00974554,  78.95886675,  81.55731377,  54.3774778 ,\n",
       "       166.25477778])"
      ]
     },
     "execution_count": 60,
     "metadata": {},
     "output_type": "execute_result"
    }
   ],
   "source": [
    "from sklearn.linear_model import LinearRegression\n",
    "\n",
    "model = LinearRegression()\n",
    "model.fit(X_train, y_train)\n",
    "predictions = model.predict(X_test)\n",
    "predictions"
   ]
  },
  {
   "cell_type": "code",
   "execution_count": 61,
   "metadata": {},
   "outputs": [
    {
     "data": {
      "text/plain": [
       "2900.1732878832318"
      ]
     },
     "execution_count": 61,
     "metadata": {},
     "output_type": "execute_result"
    }
   ],
   "source": [
    "from sklearn.metrics import mean_squared_error\n",
    "\n",
    "mse = mean_squared_error(y_test, predictions)\n",
    "mse"
   ]
  },
  {
   "cell_type": "code",
   "execution_count": 62,
   "metadata": {},
   "outputs": [
    {
     "data": {
      "image/png": "[encoded data removed]",
      "text/plain": [
       "<Figure size 432x288 with 1 Axes>"
      ]
     },
     "metadata": {
      "needs_background": "light"
     },
     "output_type": "display_data"
    }
   ],
   "source": [
    "plt.scatter(X_test[:,0],y_test, label = \"true\")\n",
    "plt.scatter(X_test[:,0], predictions, label = \"pred\")\n",
    "plt.legend()\n",
    "plt.show()"
   ]
  },
  {
   "cell_type": "code",
   "execution_count": null,
   "metadata": {},
   "outputs": [],
   "source": []
  }
 ],
 "metadata": {
  "kernelspec": {
   "display_name": "aiffel",
   "language": "python",
   "name": "aiffel"
  },
  "language_info": {
   "codemirror_mode": {
    "name": "ipython",
    "version": 3
   },
   "file_extension": ".py",
   "mimetype": "text/x-python",
   "name": "python",
   "nbconvert_exporter": "python",
   "pygments_lexer": "ipython3",
   "version": "3.7.6"
  }
 },
 "nbformat": 4,
 "nbformat_minor": 4
}
