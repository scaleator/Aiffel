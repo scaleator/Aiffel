{
 "cells": [
  {
   "cell_type": "markdown",
   "metadata": {},
   "source": [
    "# 한국 맛집 어플 데이터를 크롤링 후 학습"
   ]
  },
  {
   "cell_type": "code",
   "execution_count": 1,
   "metadata": {},
   "outputs": [
    {
     "data": {
      "text/html": [
       "<div>\n",
       "<style scoped>\n",
       "    .dataframe tbody tr th:only-of-type {\n",
       "        vertical-align: middle;\n",
       "    }\n",
       "\n",
       "    .dataframe tbody tr th {\n",
       "        vertical-align: top;\n",
       "    }\n",
       "\n",
       "    .dataframe thead th {\n",
       "        text-align: right;\n",
       "    }\n",
       "</style>\n",
       "<table border=\"1\" class=\"dataframe\">\n",
       "  <thead>\n",
       "    <tr style=\"text-align: right;\">\n",
       "      <th></th>\n",
       "      <th>userId</th>\n",
       "      <th>Menu</th>\n",
       "      <th>Rating</th>\n",
       "      <th>매운/안매운</th>\n",
       "      <th>한중일양</th>\n",
       "      <th>뜨거운/차가운</th>\n",
       "      <th>육해공</th>\n",
       "      <th>식사/디저트</th>\n",
       "    </tr>\n",
       "  </thead>\n",
       "  <tbody>\n",
       "    <tr>\n",
       "      <th>0</th>\n",
       "      <td>배고파</td>\n",
       "      <td>치킨</td>\n",
       "      <td>4</td>\n",
       "      <td>안매운거</td>\n",
       "      <td>한식</td>\n",
       "      <td>뜨거운거</td>\n",
       "      <td>공</td>\n",
       "      <td>식사</td>\n",
       "    </tr>\n",
       "    <tr>\n",
       "      <th>1</th>\n",
       "      <td>배고파</td>\n",
       "      <td>마라탕</td>\n",
       "      <td>5</td>\n",
       "      <td>매운거</td>\n",
       "      <td>중식</td>\n",
       "      <td>뜨거운거</td>\n",
       "      <td>육</td>\n",
       "      <td>식사</td>\n",
       "    </tr>\n",
       "    <tr>\n",
       "      <th>2</th>\n",
       "      <td>배고파</td>\n",
       "      <td>떡볶이</td>\n",
       "      <td>5</td>\n",
       "      <td>매운거</td>\n",
       "      <td>한식</td>\n",
       "      <td>뜨거운거</td>\n",
       "      <td>육</td>\n",
       "      <td>식사</td>\n",
       "    </tr>\n",
       "    <tr>\n",
       "      <th>3</th>\n",
       "      <td>배고파</td>\n",
       "      <td>피자</td>\n",
       "      <td>5</td>\n",
       "      <td>안매운거</td>\n",
       "      <td>양식</td>\n",
       "      <td>뜨거운거</td>\n",
       "      <td>육</td>\n",
       "      <td>식사</td>\n",
       "    </tr>\n",
       "    <tr>\n",
       "      <th>4</th>\n",
       "      <td>배고파</td>\n",
       "      <td>찜닭</td>\n",
       "      <td>5</td>\n",
       "      <td>안매운거</td>\n",
       "      <td>한식</td>\n",
       "      <td>뜨거운거</td>\n",
       "      <td>공</td>\n",
       "      <td>식사</td>\n",
       "    </tr>\n",
       "  </tbody>\n",
       "</table>\n",
       "</div>"
      ],
      "text/plain": [
       "  userId Menu  Rating 매운/안매운 한중일양 뜨거운/차가운 육해공 식사/디저트\n",
       "0    배고파   치킨       4   안매운거   한식    뜨거운거   공     식사\n",
       "1    배고파  마라탕       5    매운거   중식    뜨거운거   육     식사\n",
       "2    배고파  떡볶이       5    매운거   한식    뜨거운거   육     식사\n",
       "3    배고파   피자       5   안매운거   양식    뜨거운거   육     식사\n",
       "4    배고파   찜닭       5   안매운거   한식    뜨거운거   공     식사"
      ]
     },
     "execution_count": 1,
     "metadata": {},
     "output_type": "execute_result"
    }
   ],
   "source": [
    "import matplotlib.pyplot as plt\n",
    "import seaborn as sns\n",
    "import pandas as pd\n",
    "import numpy as np\n",
    "import warnings\n",
    "import os\n",
    "\n",
    "\n",
    "rating_file_path = os.getenv('HOME') +'/aiffel/H3/foodrating/app_db2.csv'\n",
    "#ratings_cols = ['ProductId', 'ProfileName', 'Score', 'Summary']\n",
    "data1 = pd.read_csv(rating_file_path, header = None, index_col = None)\n",
    "data1.columns = ['userId','Menu','Rating','매운/안매운','한중일양','뜨거운/차가운','육해공', '식사/디저트']\n",
    "data1.head()\n",
    "#data1.tail()"
   ]
  },
  {
   "cell_type": "code",
   "execution_count": 2,
   "metadata": {},
   "outputs": [
    {
     "data": {
      "text/plain": [
       "60"
      ]
     },
     "execution_count": 2,
     "metadata": {},
     "output_type": "execute_result"
    }
   ],
   "source": [
    "data1[\"userId\"].nunique()"
   ]
  },
  {
   "cell_type": "markdown",
   "metadata": {},
   "source": [
    "# 크게 두가지 모델로 나눌수 있습니다 : \n",
    "# 1) 아이템 기반 추천시스템 2) 유저 기반 추천시스템"
   ]
  },
  {
   "cell_type": "markdown",
   "metadata": {},
   "source": [
    "# 유저기반 추천시스템"
   ]
  },
  {
   "cell_type": "code",
   "execution_count": 3,
   "metadata": {},
   "outputs": [
    {
     "data": {
      "text/html": [
       "<div>\n",
       "<style scoped>\n",
       "    .dataframe tbody tr th:only-of-type {\n",
       "        vertical-align: middle;\n",
       "    }\n",
       "\n",
       "    .dataframe tbody tr th {\n",
       "        vertical-align: top;\n",
       "    }\n",
       "\n",
       "    .dataframe thead th {\n",
       "        text-align: right;\n",
       "    }\n",
       "</style>\n",
       "<table border=\"1\" class=\"dataframe\">\n",
       "  <thead>\n",
       "    <tr style=\"text-align: right;\">\n",
       "      <th></th>\n",
       "      <th>userId</th>\n",
       "      <th>Menu</th>\n",
       "      <th>Rating</th>\n",
       "      <th>hot</th>\n",
       "      <th>kcjw</th>\n",
       "      <th>hc</th>\n",
       "      <th>csa</th>\n",
       "      <th>md</th>\n",
       "    </tr>\n",
       "  </thead>\n",
       "  <tbody>\n",
       "    <tr>\n",
       "      <th>0</th>\n",
       "      <td>배고파</td>\n",
       "      <td>치킨</td>\n",
       "      <td>4</td>\n",
       "      <td>안매운거</td>\n",
       "      <td>한식</td>\n",
       "      <td>뜨거운거</td>\n",
       "      <td>공</td>\n",
       "      <td>식사</td>\n",
       "    </tr>\n",
       "    <tr>\n",
       "      <th>1</th>\n",
       "      <td>배고파</td>\n",
       "      <td>마라탕</td>\n",
       "      <td>5</td>\n",
       "      <td>매운거</td>\n",
       "      <td>중식</td>\n",
       "      <td>뜨거운거</td>\n",
       "      <td>육</td>\n",
       "      <td>식사</td>\n",
       "    </tr>\n",
       "    <tr>\n",
       "      <th>2</th>\n",
       "      <td>배고파</td>\n",
       "      <td>떡볶이</td>\n",
       "      <td>5</td>\n",
       "      <td>매운거</td>\n",
       "      <td>한식</td>\n",
       "      <td>뜨거운거</td>\n",
       "      <td>육</td>\n",
       "      <td>식사</td>\n",
       "    </tr>\n",
       "    <tr>\n",
       "      <th>3</th>\n",
       "      <td>배고파</td>\n",
       "      <td>피자</td>\n",
       "      <td>5</td>\n",
       "      <td>안매운거</td>\n",
       "      <td>양식</td>\n",
       "      <td>뜨거운거</td>\n",
       "      <td>육</td>\n",
       "      <td>식사</td>\n",
       "    </tr>\n",
       "    <tr>\n",
       "      <th>4</th>\n",
       "      <td>배고파</td>\n",
       "      <td>찜닭</td>\n",
       "      <td>5</td>\n",
       "      <td>안매운거</td>\n",
       "      <td>한식</td>\n",
       "      <td>뜨거운거</td>\n",
       "      <td>공</td>\n",
       "      <td>식사</td>\n",
       "    </tr>\n",
       "  </tbody>\n",
       "</table>\n",
       "</div>"
      ],
      "text/plain": [
       "  userId Menu  Rating   hot kcjw    hc csa  md\n",
       "0    배고파   치킨       4  안매운거   한식  뜨거운거   공  식사\n",
       "1    배고파  마라탕       5   매운거   중식  뜨거운거   육  식사\n",
       "2    배고파  떡볶이       5   매운거   한식  뜨거운거   육  식사\n",
       "3    배고파   피자       5  안매운거   양식  뜨거운거   육  식사\n",
       "4    배고파   찜닭       5  안매운거   한식  뜨거운거   공  식사"
      ]
     },
     "execution_count": 3,
     "metadata": {},
     "output_type": "execute_result"
    }
   ],
   "source": [
    "user_df = pd.read_csv(rating_file_path, header = None, index_col = None)\n",
    "user_df.columns = ['userId','Menu','Rating','hot','kcjw','hc','csa', 'md']\n",
    "user_df.head()"
   ]
  },
  {
   "cell_type": "code",
   "execution_count": 4,
   "metadata": {},
   "outputs": [
    {
     "data": {
      "text/plain": [
       "60"
      ]
     },
     "execution_count": 4,
     "metadata": {},
     "output_type": "execute_result"
    }
   ],
   "source": [
    "user_df[\"userId\"].nunique()"
   ]
  },
  {
   "cell_type": "markdown",
   "metadata": {},
   "source": [
    "# 인기 많은 음식들 (top 30)"
   ]
  },
  {
   "cell_type": "code",
   "execution_count": 5,
   "metadata": {},
   "outputs": [
    {
     "data": {
      "text/plain": [
       "Menu\n",
       "치킨      35\n",
       "피자      29\n",
       "떡볶이     23\n",
       "돈까스     19\n",
       "족발      16\n",
       "회       14\n",
       "짬뽕      14\n",
       "파스타     11\n",
       "김밥      11\n",
       "삼겹살     11\n",
       "샐러드     10\n",
       "탕수육     10\n",
       "보쌈      10\n",
       "찜닭      10\n",
       "김치찌개     8\n",
       "샌드위치     8\n",
       "초밥       8\n",
       "햄버거      8\n",
       "스테이크     7\n",
       "볶음밥      7\n",
       "마라탕      7\n",
       "닭도리탕     7\n",
       "해장국      6\n",
       "김치찜      6\n",
       "짜장면      6\n",
       "라멘       5\n",
       "카레       5\n",
       "쌀국수      5\n",
       "와플       5\n",
       "닭갈비      4\n",
       "Name: userId, dtype: int64"
      ]
     },
     "execution_count": 5,
     "metadata": {},
     "output_type": "execute_result"
    }
   ],
   "source": [
    "product_count = user_df.groupby('Menu')['userId'].count()\n",
    "product_count.sort_values(ascending = False).head(30)"
   ]
  },
  {
   "cell_type": "markdown",
   "metadata": {},
   "source": [
    "# 3. 내가 선호하는 식품 7가지 골라서 rating 에 추가"
   ]
  },
  {
   "cell_type": "code",
   "execution_count": 6,
   "metadata": {},
   "outputs": [
    {
     "data": {
      "text/html": [
       "<div>\n",
       "<style scoped>\n",
       "    .dataframe tbody tr th:only-of-type {\n",
       "        vertical-align: middle;\n",
       "    }\n",
       "\n",
       "    .dataframe tbody tr th {\n",
       "        vertical-align: top;\n",
       "    }\n",
       "\n",
       "    .dataframe thead th {\n",
       "        text-align: right;\n",
       "    }\n",
       "</style>\n",
       "<table border=\"1\" class=\"dataframe\">\n",
       "  <thead>\n",
       "    <tr style=\"text-align: right;\">\n",
       "      <th></th>\n",
       "      <th>userId</th>\n",
       "      <th>Menu</th>\n",
       "      <th>Rating</th>\n",
       "      <th>hot</th>\n",
       "      <th>kcjw</th>\n",
       "      <th>hc</th>\n",
       "      <th>csa</th>\n",
       "      <th>md</th>\n",
       "    </tr>\n",
       "  </thead>\n",
       "  <tbody>\n",
       "    <tr>\n",
       "      <th>505</th>\n",
       "      <td>cdou</td>\n",
       "      <td>마파두부밥</td>\n",
       "      <td>3</td>\n",
       "      <td>매운거</td>\n",
       "      <td>중식</td>\n",
       "      <td>뜨거운거</td>\n",
       "      <td>육</td>\n",
       "      <td>식사</td>\n",
       "    </tr>\n",
       "    <tr>\n",
       "      <th>506</th>\n",
       "      <td>cdou</td>\n",
       "      <td>족발</td>\n",
       "      <td>3</td>\n",
       "      <td>안매운거</td>\n",
       "      <td>한식</td>\n",
       "      <td>뜨거운거</td>\n",
       "      <td>육</td>\n",
       "      <td>식사</td>\n",
       "    </tr>\n",
       "    <tr>\n",
       "      <th>507</th>\n",
       "      <td>cdou</td>\n",
       "      <td>된장찌개</td>\n",
       "      <td>4</td>\n",
       "      <td>안매운거</td>\n",
       "      <td>한식</td>\n",
       "      <td>뜨거운거</td>\n",
       "      <td>육</td>\n",
       "      <td>식사</td>\n",
       "    </tr>\n",
       "    <tr>\n",
       "      <th>0</th>\n",
       "      <td>규환</td>\n",
       "      <td>치킨</td>\n",
       "      <td>5</td>\n",
       "      <td>안매운거</td>\n",
       "      <td>양식</td>\n",
       "      <td>뜨거운거</td>\n",
       "      <td>공</td>\n",
       "      <td>식사</td>\n",
       "    </tr>\n",
       "    <tr>\n",
       "      <th>1</th>\n",
       "      <td>규환</td>\n",
       "      <td>햄버거</td>\n",
       "      <td>5</td>\n",
       "      <td>안매운거</td>\n",
       "      <td>양식</td>\n",
       "      <td>뜨거운거</td>\n",
       "      <td>육</td>\n",
       "      <td>식사</td>\n",
       "    </tr>\n",
       "    <tr>\n",
       "      <th>2</th>\n",
       "      <td>규환</td>\n",
       "      <td>족발</td>\n",
       "      <td>5</td>\n",
       "      <td>안매운거</td>\n",
       "      <td>한식</td>\n",
       "      <td>뜨거운거</td>\n",
       "      <td>육</td>\n",
       "      <td>식사</td>\n",
       "    </tr>\n",
       "    <tr>\n",
       "      <th>3</th>\n",
       "      <td>규환</td>\n",
       "      <td>회</td>\n",
       "      <td>5</td>\n",
       "      <td>안매운거</td>\n",
       "      <td>일식</td>\n",
       "      <td>차가운거</td>\n",
       "      <td>해</td>\n",
       "      <td>식사</td>\n",
       "    </tr>\n",
       "    <tr>\n",
       "      <th>4</th>\n",
       "      <td>규환</td>\n",
       "      <td>돼지김치찜</td>\n",
       "      <td>5</td>\n",
       "      <td>매운거</td>\n",
       "      <td>한식</td>\n",
       "      <td>뜨거운거</td>\n",
       "      <td>육</td>\n",
       "      <td>식사</td>\n",
       "    </tr>\n",
       "    <tr>\n",
       "      <th>5</th>\n",
       "      <td>규환</td>\n",
       "      <td>삼겹살</td>\n",
       "      <td>5</td>\n",
       "      <td>안매운거</td>\n",
       "      <td>한식</td>\n",
       "      <td>뜨거운거</td>\n",
       "      <td>육</td>\n",
       "      <td>식사</td>\n",
       "    </tr>\n",
       "    <tr>\n",
       "      <th>6</th>\n",
       "      <td>규환</td>\n",
       "      <td>돈까스</td>\n",
       "      <td>5</td>\n",
       "      <td>안매운거</td>\n",
       "      <td>일식</td>\n",
       "      <td>뜨거운거</td>\n",
       "      <td>육</td>\n",
       "      <td>식사</td>\n",
       "    </tr>\n",
       "  </tbody>\n",
       "</table>\n",
       "</div>"
      ],
      "text/plain": [
       "    userId   Menu  Rating   hot kcjw    hc csa  md\n",
       "505   cdou  마파두부밥       3   매운거   중식  뜨거운거   육  식사\n",
       "506   cdou     족발       3  안매운거   한식  뜨거운거   육  식사\n",
       "507   cdou   된장찌개       4  안매운거   한식  뜨거운거   육  식사\n",
       "0       규환     치킨       5  안매운거   양식  뜨거운거   공  식사\n",
       "1       규환    햄버거       5  안매운거   양식  뜨거운거   육  식사\n",
       "2       규환     족발       5  안매운거   한식  뜨거운거   육  식사\n",
       "3       규환      회       5  안매운거   일식  차가운거   해  식사\n",
       "4       규환  돼지김치찜       5   매운거   한식  뜨거운거   육  식사\n",
       "5       규환    삼겹살       5  안매운거   한식  뜨거운거   육  식사\n",
       "6       규환    돈까스       5  안매운거   일식  뜨거운거   육  식사"
      ]
     },
     "execution_count": 6,
     "metadata": {},
     "output_type": "execute_result"
    }
   ],
   "source": [
    "\n",
    "my_favorite = ['치킨', '햄버거', '족발','회', '돼지김치찜', '삼겹살', '돈까스']\n",
    "\n",
    "my_foodlist = pd.DataFrame({'userId': ['규환']*7,  'Rating':[5]*7,\n",
    "                           'Menu': ['치킨', '햄버거', '족발','회', '돼지김치찜', '삼겹살', '돈까스'],\n",
    "                          'hot' : ['안매운거', '안매운거', '안매운거', '안매운거', '매운거', '안매운거', '안매운거'],\n",
    "                            'kcjw' : ['양식', '양식', '한식', '일식', '한식', '한식', '일식'],\n",
    "                            'hc' : ['뜨거운거', '뜨거운거', '뜨거운거', '차가운거', '뜨거운거', '뜨거운거', '뜨거운거'],\n",
    "                            'csa' : ['공', '육', '육', '해', '육', '육', '육'],\n",
    "                            'md' : ['식사', '식사', '식사', '식사', '식사', '식사', '식사']})\n",
    "\n",
    "if not user_df.isin({'userId': ['규환']})['userId'].any():\n",
    "    user_df = user_df.append(my_foodlist)\n",
    "user_df.tail(10)"
   ]
  },
  {
   "cell_type": "code",
   "execution_count": 7,
   "metadata": {},
   "outputs": [
    {
     "name": "stdout",
     "output_type": "stream",
     "text": [
      "60\n"
     ]
    }
   ],
   "source": [
    "# 고유한 유저, 메뉴, 등등 찾기\n",
    "user_unique = user_df['userId'].unique()\n",
    "menu_unique = user_df['Menu'].unique()\n",
    "hot_unique = user_df['hot'].unique()\n",
    "kcpw_unique = user_df['kcjw'].unique()\n",
    "hc_unique = user_df['hc'].unique()\n",
    "csa_unique = user_df['csa'].unique()\n",
    "md_unique = user_df['md'].unique()\n",
    "\n",
    "\n",
    "# 유저, 메뉴와 다른 컬럼들을 indexing 하는 코드 idx는 index의 약자입니다.\n",
    "\n",
    "user_to_idx = {v:k for k,v in enumerate(user_unique)}\n",
    "menu_to_idx = {v:k for k,v in enumerate(menu_unique)}\n",
    "hot_to_idx = {v:k for k,v in enumerate(hot_unique)}\n",
    "kcjw_to_idx = {v:k for k,v in enumerate(kcpw_unique)}\n",
    "hc_to_idx = {v:k for k,v in enumerate(hc_unique)}\n",
    "csa_to_idx = {v:k for k,v in enumerate(csa_unique )}\n",
    "md_to_idx = {v:k for k,v in enumerate(md_unique)}\n",
    "\n",
    "\n",
    "print(user_to_idx['규환'])"
   ]
  },
  {
   "cell_type": "code",
   "execution_count": 8,
   "metadata": {},
   "outputs": [
    {
     "name": "stdout",
     "output_type": "stream",
     "text": [
      "유저 ID 컬럼 인덱싱 완료!!\n",
      "메뉴 컬럼 인덱싱 완료!!\n",
      "매운안매운 컬럼 인덱싱 완료!!\n",
      "한중일양 컬럼 인덱싱 완료!!\n",
      "뜨거운/차가운 컬럼 인덱싱 완료!!\n",
      "육해공 컬럼 인덱싱 완료!!\n",
      "식사/디저트 컬럼 인덱싱 완료!!\n"
     ]
    },
    {
     "data": {
      "text/html": [
       "<div>\n",
       "<style scoped>\n",
       "    .dataframe tbody tr th:only-of-type {\n",
       "        vertical-align: middle;\n",
       "    }\n",
       "\n",
       "    .dataframe tbody tr th {\n",
       "        vertical-align: top;\n",
       "    }\n",
       "\n",
       "    .dataframe thead th {\n",
       "        text-align: right;\n",
       "    }\n",
       "</style>\n",
       "<table border=\"1\" class=\"dataframe\">\n",
       "  <thead>\n",
       "    <tr style=\"text-align: right;\">\n",
       "      <th></th>\n",
       "      <th>userId</th>\n",
       "      <th>Menu</th>\n",
       "      <th>Rating</th>\n",
       "      <th>hot</th>\n",
       "      <th>kcjw</th>\n",
       "      <th>hc</th>\n",
       "      <th>csa</th>\n",
       "      <th>md</th>\n",
       "    </tr>\n",
       "  </thead>\n",
       "  <tbody>\n",
       "    <tr>\n",
       "      <th>0</th>\n",
       "      <td>0</td>\n",
       "      <td>0</td>\n",
       "      <td>4</td>\n",
       "      <td>0</td>\n",
       "      <td>0</td>\n",
       "      <td>0</td>\n",
       "      <td>0</td>\n",
       "      <td>0</td>\n",
       "    </tr>\n",
       "    <tr>\n",
       "      <th>1</th>\n",
       "      <td>0</td>\n",
       "      <td>1</td>\n",
       "      <td>5</td>\n",
       "      <td>1</td>\n",
       "      <td>1</td>\n",
       "      <td>0</td>\n",
       "      <td>1</td>\n",
       "      <td>0</td>\n",
       "    </tr>\n",
       "    <tr>\n",
       "      <th>2</th>\n",
       "      <td>0</td>\n",
       "      <td>2</td>\n",
       "      <td>5</td>\n",
       "      <td>1</td>\n",
       "      <td>0</td>\n",
       "      <td>0</td>\n",
       "      <td>1</td>\n",
       "      <td>0</td>\n",
       "    </tr>\n",
       "    <tr>\n",
       "      <th>3</th>\n",
       "      <td>0</td>\n",
       "      <td>3</td>\n",
       "      <td>5</td>\n",
       "      <td>0</td>\n",
       "      <td>2</td>\n",
       "      <td>0</td>\n",
       "      <td>1</td>\n",
       "      <td>0</td>\n",
       "    </tr>\n",
       "    <tr>\n",
       "      <th>4</th>\n",
       "      <td>0</td>\n",
       "      <td>4</td>\n",
       "      <td>5</td>\n",
       "      <td>0</td>\n",
       "      <td>0</td>\n",
       "      <td>0</td>\n",
       "      <td>0</td>\n",
       "      <td>0</td>\n",
       "    </tr>\n",
       "    <tr>\n",
       "      <th>...</th>\n",
       "      <td>...</td>\n",
       "      <td>...</td>\n",
       "      <td>...</td>\n",
       "      <td>...</td>\n",
       "      <td>...</td>\n",
       "      <td>...</td>\n",
       "      <td>...</td>\n",
       "      <td>...</td>\n",
       "    </tr>\n",
       "    <tr>\n",
       "      <th>2</th>\n",
       "      <td>60</td>\n",
       "      <td>29</td>\n",
       "      <td>5</td>\n",
       "      <td>0</td>\n",
       "      <td>0</td>\n",
       "      <td>0</td>\n",
       "      <td>1</td>\n",
       "      <td>0</td>\n",
       "    </tr>\n",
       "    <tr>\n",
       "      <th>3</th>\n",
       "      <td>60</td>\n",
       "      <td>16</td>\n",
       "      <td>5</td>\n",
       "      <td>0</td>\n",
       "      <td>3</td>\n",
       "      <td>1</td>\n",
       "      <td>2</td>\n",
       "      <td>0</td>\n",
       "    </tr>\n",
       "    <tr>\n",
       "      <th>4</th>\n",
       "      <td>60</td>\n",
       "      <td>140</td>\n",
       "      <td>5</td>\n",
       "      <td>1</td>\n",
       "      <td>0</td>\n",
       "      <td>0</td>\n",
       "      <td>1</td>\n",
       "      <td>0</td>\n",
       "    </tr>\n",
       "    <tr>\n",
       "      <th>5</th>\n",
       "      <td>60</td>\n",
       "      <td>25</td>\n",
       "      <td>5</td>\n",
       "      <td>0</td>\n",
       "      <td>0</td>\n",
       "      <td>0</td>\n",
       "      <td>1</td>\n",
       "      <td>0</td>\n",
       "    </tr>\n",
       "    <tr>\n",
       "      <th>6</th>\n",
       "      <td>60</td>\n",
       "      <td>6</td>\n",
       "      <td>5</td>\n",
       "      <td>0</td>\n",
       "      <td>3</td>\n",
       "      <td>0</td>\n",
       "      <td>1</td>\n",
       "      <td>0</td>\n",
       "    </tr>\n",
       "  </tbody>\n",
       "</table>\n",
       "<p>515 rows × 8 columns</p>\n",
       "</div>"
      ],
      "text/plain": [
       "    userId  Menu  Rating  hot  kcjw  hc  csa  md\n",
       "0        0     0       4    0     0   0    0   0\n",
       "1        0     1       5    1     1   0    1   0\n",
       "2        0     2       5    1     0   0    1   0\n",
       "3        0     3       5    0     2   0    1   0\n",
       "4        0     4       5    0     0   0    0   0\n",
       "..     ...   ...     ...  ...   ...  ..  ...  ..\n",
       "2       60    29       5    0     0   0    1   0\n",
       "3       60    16       5    0     3   1    2   0\n",
       "4       60   140       5    1     0   0    1   0\n",
       "5       60    25       5    0     0   0    1   0\n",
       "6       60     6       5    0     3   0    1   0\n",
       "\n",
       "[515 rows x 8 columns]"
      ]
     },
     "execution_count": 8,
     "metadata": {},
     "output_type": "execute_result"
    }
   ],
   "source": [
    "# CSR Matrix 를 직접 만들어 보기\n",
    "\n",
    "\n",
    "# indexing을 통해 데이터 컬럼 내 값을 바꾸는 코드\n",
    "# user_to_idx.get을 통해 UserId 컬럼의 모든 값을 인덱싱한 Series를 구해 봅시다. \n",
    "\n",
    "temp_user_data = user_df['userId'].map(user_to_idx.get).dropna()\n",
    "if len(temp_user_data) == len(user_df):   # 모든 row가 정상적으로 인덱싱되었다면\n",
    "    print('유저 ID 컬럼 인덱싱 완료!!')\n",
    "    user_df['userId'] = temp_user_data   # data['UserId']을 인덱싱된 Series로 교체해 줍니다. \n",
    "else:\n",
    "    print('유저 ID 컬럼 인덱싱 실패')\n",
    "\n",
    "# Menu 컬럼도 동일한 방식으로 인덱싱해 줍니다.\n",
    "\n",
    "temp_menu_data = user_df['Menu'].map(menu_to_idx.get).dropna()\n",
    "if len(temp_menu_data) == len(user_df):\n",
    "    print('메뉴 컬럼 인덱싱 완료!!')\n",
    "    user_df['Menu'] = temp_menu_data\n",
    "else:\n",
    "    print('메뉴 컬럼 인덱싱 실패!!')\n",
    "    \n",
    "# 매운/안매운 컬럼도 동일한 방식으로 인덱싱해 줍니다.\n",
    "\n",
    "temp_hot_data = user_df['hot'].map(hot_to_idx.get).dropna()\n",
    "if len(temp_hot_data) == len(user_df):\n",
    "    print('매운안매운 컬럼 인덱싱 완료!!')\n",
    "    user_df['hot'] = temp_hot_data\n",
    "else:\n",
    "    print('매운/안매운 컬럼 인덱싱 실패!!')\n",
    "    \n",
    "# 한중일양 컬럼도 동일한 방식으로 인덱싱해 줍니다.\n",
    "\n",
    "temp_kcjw_data = user_df['kcjw'].map(kcjw_to_idx.get).dropna()\n",
    "if len(temp_kcjw_data) == len(user_df):\n",
    "    print('한중일양 컬럼 인덱싱 완료!!')\n",
    "    user_df['kcjw'] = temp_kcjw_data\n",
    "else:\n",
    "    print('한중일양 컬럼 인덱싱 실패!!')\n",
    "    \n",
    "# 뜨거운/차가운 컬럼도 동일한 방식으로 인덱싱해 줍니다.\n",
    "\n",
    "temp_hc_data = user_df['hc'].map(hc_to_idx.get).dropna()\n",
    "if len(temp_hc_data) == len(user_df):\n",
    "    print('뜨거운/차가운 컬럼 인덱싱 완료!!')\n",
    "    user_df['hc'] = temp_hc_data\n",
    "else:\n",
    "    print('뜨거운/차가운 컬럼 인덱싱 실패!!')\n",
    "    \n",
    "# 육해공 컬럼도 동일한 방식으로 인덱싱해 줍니다.    \n",
    "\n",
    "temp_csa_data = user_df['csa'].map(csa_to_idx.get).dropna()\n",
    "if len(temp_csa_data) == len(user_df):\n",
    "    print('육해공 컬럼 인덱싱 완료!!')\n",
    "    user_df['csa'] = temp_csa_data\n",
    "else:\n",
    "    print('육해공 컬럼 인덱싱 실패!!')\n",
    "\n",
    "\n",
    "# 식사/디저트 컬럼도 동일한 방식으로 인덱싱해 줍니다.\n",
    "\n",
    "temp_md_data = user_df['md'].map(md_to_idx.get).dropna()\n",
    "if len(temp_md_data) == len(user_df):\n",
    "    print('식사/디저트 컬럼 인덱싱 완료!!')\n",
    "    user_df['md'] = temp_md_data\n",
    "else:\n",
    "    print('식사/디저트 컬럼 인덱싱 실패!!')\n",
    "\n",
    "user_df"
   ]
  },
  {
   "cell_type": "markdown",
   "metadata": {},
   "source": [
    "# Compressed Sparse Row Matrix\n",
    "\n",
    "유저 x 아이템 평가행렬 -> 어림잡아도 엄청난 메모리가 필요하다 (600GB 이상)\n",
    "\n",
    "유저가 좋아하지 않는 아이템에 대한 정보까지 모두 행렬에 포함되어 계산되기 때문.\n",
    "\n",
    "평가행렬 내의 대부분의 공간은 0으로 채워짐. 이를 Sparse Matrix 라고 부름.\n",
    "\n",
    "이런 메모리 낭비를 최소화 하기 위해 유저가 좋아하는 아이템에 대해서만 정보만을 저장하면서\n",
    "\n",
    "전체 행렬 형태를 유추할 수있는 데이터 구조가 필요"
   ]
  },
  {
   "cell_type": "markdown",
   "metadata": {},
   "source": [
    "# Sparse Matrix 에 관한 URL :\n",
    "\n",
    "1) https://stackoverflow.com/questions/53254104/cant-understand-scipy-sparse-csr-matrix-example/62118005#62118005\n",
    "\n",
    "2)https://lovit.github.io/nlp/machine%20learning/2018/04/09/sparse_mtarix_handling/#csr-matrix"
   ]
  },
  {
   "cell_type": "code",
   "execution_count": 9,
   "metadata": {},
   "outputs": [
    {
     "data": {
      "text/plain": [
       "<61x141 sparse matrix of type '<class 'numpy.longlong'>'\n",
       "\twith 511 stored elements in Compressed Sparse Row format>"
      ]
     },
     "execution_count": 9,
     "metadata": {},
     "output_type": "execute_result"
    }
   ],
   "source": [
    "#CSR MATRIX 만들기\n",
    "from scipy.sparse import csr_matrix\n",
    "\n",
    "num_user = user_df['userId'].nunique()\n",
    "num_product = user_df['Menu'].nunique()\n",
    "\n",
    "csr_data = csr_matrix((user_df['Rating'], (user_df.userId, user_df.Menu)), shape= (num_user, num_product))\n",
    "csr_data"
   ]
  },
  {
   "cell_type": "markdown",
   "metadata": {},
   "source": [
    "# Matrix Factorization 모델 학습\n",
    "\n",
    "implict 라는 패키지를 이용\n",
    "\n",
    "als(AlternatingLeastSqaures) 모델을 사용. Matrix Factorization 에서 쪼개진 두 Feature Matrix 를 한꺼번에 훈련하는것은 잘 수렴하지 않기 때문에,\n",
    "한쪽을 고정시키고 다른 쪽을 학습하는 방식을 번갈아 수행하는 ALS 방식이 효과적임"
   ]
  },
  {
   "cell_type": "code",
   "execution_count": 10,
   "metadata": {},
   "outputs": [
    {
     "name": "stderr",
     "output_type": "stream",
     "text": [
      "WARNING:root:OpenBLAS detected. Its highly recommend to set the environment variable 'export OPENBLAS_NUM_THREADS=1' to disable its internal multithreading\n"
     ]
    },
    {
     "data": {
      "text/plain": [
       "<141x61 sparse matrix of type '<class 'numpy.longlong'>'\n",
       "\twith 511 stored elements in Compressed Sparse Column format>"
      ]
     },
     "execution_count": 10,
     "metadata": {},
     "output_type": "execute_result"
    }
   ],
   "source": [
    "from implicit.als import AlternatingLeastSquares\n",
    "import os\n",
    "import numpy as np\n",
    "\n",
    "#implict 에서 권장하고 있는 부분\n",
    "os.environ['OPENBLAS_NUM_THREAD'] = '1'\n",
    "os.environ['KMP_DUPLICATE_LIB_OK'] = 'True'\n",
    "os.environ['MKL_NUM_THREADS'] = '1'\n",
    "\n",
    "#implict AlternatingLeastSquares 모델의 선언\n",
    "\n",
    "\n",
    "#ALS 클래스의 __init__ 파라미터 살펴보기\n",
    "# 1. factors : 유저와 아이템의 벡터를 몇 차원으로 할것인지\n",
    "# 2. regularization : 과적합 방지하기 위해 정규화 값을 얼마나 사용할 것인지\n",
    "# 3. use_gpu : GPU 를 사용할 것잉ㄴ지\n",
    "# 4. iterations : epoch 과 같은 의미. 데이터를 몇 번 반복해서 학습할 것인지\n",
    "als_model = AlternatingLeastSquares(factors = 100, regularization = 0.01, use_gpu = False, iterations = 50,\n",
    "                                   dtype = np.float32)\n",
    "\n",
    "#als 모델은 input 으로 (item X user 꼴의 matrix 를 받기 때문에 Transpose 해줍니다.)\n",
    "\n",
    "csr_data_transpose = csr_data.T\n",
    "csr_data_transpose"
   ]
  },
  {
   "cell_type": "code",
   "execution_count": 11,
   "metadata": {},
   "outputs": [
    {
     "data": {
      "application/vnd.jupyter.widget-view+json": {
       "model_id": "9ec9fbbe01424658a59997b6595775ed",
       "version_major": 2,
       "version_minor": 0
      },
      "text/plain": [
       "HBox(children=(FloatProgress(value=0.0, max=50.0), HTML(value='')))"
      ]
     },
     "metadata": {},
     "output_type": "display_data"
    },
    {
     "name": "stdout",
     "output_type": "stream",
     "text": [
      "\n"
     ]
    }
   ],
   "source": [
    "als_model.fit(csr_data_transpose)"
   ]
  },
  {
   "cell_type": "code",
   "execution_count": 12,
   "metadata": {},
   "outputs": [
    {
     "name": "stdout",
     "output_type": "stream",
     "text": [
      "60\n"
     ]
    }
   ],
   "source": [
    "print(user_to_idx['규환'])"
   ]
  },
  {
   "cell_type": "markdown",
   "metadata": {},
   "source": [
    "# 4.  내가 선호하는 7가지 음식 중 하나와 그 외의 음식 하나를 골라 훈련된 모델이 예측한 나의 선호도를 파악해보기"
   ]
  },
  {
   "cell_type": "code",
   "execution_count": 13,
   "metadata": {},
   "outputs": [],
   "source": [
    "규환, 족발 = user_to_idx['규환'], menu_to_idx['족발']\n",
    "규환_vector, 족발_vector = als_model.user_factors[규환], als_model.item_factors[족발]"
   ]
  },
  {
   "cell_type": "code",
   "execution_count": 14,
   "metadata": {},
   "outputs": [
    {
     "data": {
      "text/plain": [
       "array([-0.04988303, -0.97294784,  0.7417746 , -0.06597493, -0.8480485 ,\n",
       "        0.2770032 , -0.65834415,  0.05350488,  0.7896784 , -0.5491745 ,\n",
       "        0.21918438,  0.45673203,  1.0041324 , -0.00427986,  0.6144158 ,\n",
       "        0.7416637 , -0.89973533,  0.11885598,  0.59156084, -0.59356916,\n",
       "        0.22760814, -0.35349783, -0.2749667 ,  0.47743607,  0.07238533,\n",
       "        0.24162053, -0.69553715,  0.85889524, -0.13126951, -0.24931765,\n",
       "       -0.06408739,  0.32867214, -0.4000444 ,  1.021529  ,  0.45371735,\n",
       "        0.6678331 ,  0.6217678 ,  0.3040627 ,  0.8245889 ,  0.21717633,\n",
       "        0.4781295 ,  0.02025321,  0.58938533,  0.75591964, -0.02870671,\n",
       "       -0.10562222,  0.25432846,  0.26305985,  0.32819518,  0.30601114,\n",
       "        0.6301064 ,  0.11109436,  0.44301718, -0.541905  ,  0.5674946 ,\n",
       "       -0.0437074 ,  0.28147632,  0.27773294,  1.0840454 ,  0.11436753,\n",
       "        0.39293608,  1.2677531 ,  1.2854066 ,  0.87004566,  0.44689286,\n",
       "        0.47234207, -0.08998771, -0.05562425, -0.45236447,  0.04506674,\n",
       "        0.7502215 ,  0.40045518,  0.28256434,  0.33223692,  0.0600454 ,\n",
       "       -0.3560757 ,  0.25650722, -0.3086128 , -0.7188978 , -0.23570389,\n",
       "        0.7038554 ,  1.0165172 ,  0.06749895,  0.43871793,  0.78375953,\n",
       "        0.51604795,  0.25207293,  1.1187286 , -0.49917728, -0.90800756,\n",
       "       -0.25299   ,  1.5498469 , -0.05906463,  0.5870702 ,  1.1615161 ,\n",
       "       -0.00666517,  0.06887566,  0.32698658, -0.25671303, -0.0957688 ],\n",
       "      dtype=float32)"
      ]
     },
     "execution_count": 14,
     "metadata": {},
     "output_type": "execute_result"
    }
   ],
   "source": [
    "규환_vector"
   ]
  },
  {
   "cell_type": "code",
   "execution_count": null,
   "metadata": {},
   "outputs": [],
   "source": []
  },
  {
   "cell_type": "code",
   "execution_count": 15,
   "metadata": {},
   "outputs": [
    {
     "data": {
      "text/plain": [
       "array([-0.03463773, -0.06024525, -0.01148889, -0.05532179, -0.08133009,\n",
       "        0.03682017,  0.03511563, -0.02877827,  0.03860339,  0.03483708,\n",
       "       -0.00287245, -0.03064307,  0.10322655,  0.07325795,  0.00287348,\n",
       "       -0.01106869, -0.00648437,  0.01810774,  0.02920954,  0.00630822,\n",
       "       -0.01299893, -0.02074266, -0.0579687 , -0.03651355, -0.01690398,\n",
       "        0.05822389, -0.0098803 ,  0.02535563, -0.0525874 ,  0.0506843 ,\n",
       "        0.00801479,  0.00538572,  0.01974047,  0.09875428,  0.00670617,\n",
       "        0.0632026 ,  0.01377836, -0.03172817,  0.02121178, -0.00153258,\n",
       "       -0.06032758, -0.03768677,  0.03596446,  0.05042633,  0.04913162,\n",
       "       -0.05344287, -0.08576252,  0.04779577,  0.06852905, -0.03039498,\n",
       "       -0.0182733 ,  0.06375173,  0.04739819, -0.01992701,  0.00187084,\n",
       "        0.05462245,  0.09558015, -0.03992235,  0.0307112 , -0.06405053,\n",
       "       -0.00491135, -0.0299236 ,  0.09217157,  0.03496151, -0.01989432,\n",
       "        0.0496227 , -0.00203549, -0.03404492,  0.04969214,  0.03556706,\n",
       "        0.02188451,  0.00609432, -0.02252015,  0.0249665 , -0.03554462,\n",
       "       -0.04253802,  0.02151219, -0.05652943, -0.01545695, -0.03536198,\n",
       "       -0.06063217,  0.11502895, -0.0282    , -0.00362867,  0.04649938,\n",
       "       -0.00485684, -0.01546935,  0.07233413, -0.06342611,  0.0132517 ,\n",
       "       -0.0686829 ,  0.02263246, -0.02033479,  0.00489675,  0.0266522 ,\n",
       "        0.03640752,  0.01968555,  0.0387526 ,  0.00978781,  0.07215875],\n",
       "      dtype=float32)"
      ]
     },
     "execution_count": 15,
     "metadata": {},
     "output_type": "execute_result"
    }
   ],
   "source": [
    "족발_vector"
   ]
  },
  {
   "cell_type": "code",
   "execution_count": 16,
   "metadata": {},
   "outputs": [
    {
     "data": {
      "text/plain": [
       "0.9992406"
      ]
     },
     "execution_count": 16,
     "metadata": {},
     "output_type": "execute_result"
    }
   ],
   "source": [
    "# 규환과 족발이 내적하는 코드\n",
    "\n",
    "np.dot(규환_vector, 족발_vector)"
   ]
  },
  {
   "cell_type": "code",
   "execution_count": 17,
   "metadata": {},
   "outputs": [
    {
     "data": {
      "text/plain": [
       "0.006596901"
      ]
     },
     "execution_count": 17,
     "metadata": {},
     "output_type": "execute_result"
    }
   ],
   "source": [
    "# 나의 보쌈에 대한 선호도는 어떻게 예측할지\n",
    "\n",
    "보쌈 = menu_to_idx['보쌈']\n",
    "보쌈_vector = als_model.item_factors[보쌈]\n",
    "np.dot(규환_vector, 보쌈_vector)"
   ]
  },
  {
   "cell_type": "markdown",
   "metadata": {},
   "source": [
    "# 5. 내가 좋아하는 음식과 비슷한 음식을 추천받아 봅시다."
   ]
  },
  {
   "cell_type": "code",
   "execution_count": 18,
   "metadata": {},
   "outputs": [
    {
     "data": {
      "text/plain": [
       "[(25, 0.99999994),\n",
       " (65, 0.18490104),\n",
       " (24, 0.15046541),\n",
       " (49, 0.13174212),\n",
       " (91, 0.12910792),\n",
       " (93, 0.12871039),\n",
       " (92, 0.1285811),\n",
       " (129, 0.122039445),\n",
       " (128, 0.121951796),\n",
       " (30, 0.11438712),\n",
       " (140, 0.1138959),\n",
       " (19, 0.108399354),\n",
       " (20, 0.10837809),\n",
       " (113, 0.106520325),\n",
       " (15, 0.1030626)]"
      ]
     },
     "execution_count": 18,
     "metadata": {},
     "output_type": "execute_result"
    }
   ],
   "source": [
    "# 삼결살과 비슷한 음식 추천받기\n",
    "\n",
    "favorite_food = '삼겹살'\n",
    "menu_id = menu_to_idx[favorite_food]\n",
    "\n",
    "similar_food = als_model.similar_items(menu_id, N=15)\n",
    "similar_food"
   ]
  },
  {
   "cell_type": "code",
   "execution_count": 19,
   "metadata": {},
   "outputs": [
    {
     "data": {
      "text/plain": [
       "['삼겹살',\n",
       " '순대국밥',\n",
       " '탕수육',\n",
       " '술국',\n",
       " '설렁탕',\n",
       " '소고기',\n",
       " '온모밀',\n",
       " '곱창',\n",
       " '불고기덮밥',\n",
       " '쌀국수',\n",
       " '돼지김치찜',\n",
       " '꽈배기',\n",
       " '순대',\n",
       " '커피',\n",
       " '라멘']"
      ]
     },
     "execution_count": 19,
     "metadata": {},
     "output_type": "execute_result"
    }
   ],
   "source": [
    "#음식 이름으로 변경해주기\n",
    "\n",
    "idx_to_menu = {v:k for k,v in menu_to_idx.items()}\n",
    "[idx_to_menu[i[0]]for i in similar_food]"
   ]
  },
  {
   "cell_type": "markdown",
   "metadata": {},
   "source": [
    "# 6. 내가 좋아할만한 음식들을 추천받아보기"
   ]
  },
  {
   "cell_type": "code",
   "execution_count": 20,
   "metadata": {},
   "outputs": [
    {
     "data": {
      "text/plain": [
       "[(27, 0.0065968707),\n",
       " (3, 0.005114034),\n",
       " (64, 0.0043675154),\n",
       " (7, 0.0039099045),\n",
       " (46, 0.003688354),\n",
       " (48, 0.0032781586),\n",
       " (30, 0.0030823797),\n",
       " (15, 0.0029973462),\n",
       " (22, 0.002934534),\n",
       " (51, 0.0027536303),\n",
       " (77, 0.0024116188),\n",
       " (36, 0.0023891777),\n",
       " (24, 0.0023376346),\n",
       " (39, 0.0022463202),\n",
       " (123, 0.0022410713),\n",
       " (66, 0.0020771138),\n",
       " (119, 0.0020565987),\n",
       " (83, 0.0020416863),\n",
       " (50, 0.0018189624),\n",
       " (56, 0.0017285943)]"
      ]
     },
     "execution_count": 20,
     "metadata": {},
     "output_type": "execute_result"
    }
   ],
   "source": [
    "# 음식 추천받기\n",
    "\n",
    "user = user_to_idx['규환']\n",
    "\n",
    "#recommend 에서는 user * item CSR Matrix 를 받습니다.\n",
    "\n",
    "food_recommended = als_model.recommend(user, csr_data, N=20, filter_already_liked_items = True)\n",
    "food_recommended"
   ]
  },
  {
   "cell_type": "code",
   "execution_count": 21,
   "metadata": {},
   "outputs": [
    {
     "data": {
      "text/plain": [
       "['보쌈',\n",
       " '피자',\n",
       " '초밥',\n",
       " '김치찌개',\n",
       " '부대찌개',\n",
       " '순대국',\n",
       " '쌀국수',\n",
       " '라멘',\n",
       " '팥빙수',\n",
       " '치킨마요덥밥',\n",
       " '육회',\n",
       " '김밥',\n",
       " '탕수육',\n",
       " '와플',\n",
       " '롤',\n",
       " '비빕밥',\n",
       " '칼국수',\n",
       " '비빔냉면',\n",
       " '리조또',\n",
       " '김치찜']"
      ]
     },
     "execution_count": 21,
     "metadata": {},
     "output_type": "execute_result"
    }
   ],
   "source": [
    "[idx_to_menu[i[0]]for i in food_recommended]"
   ]
  },
  {
   "cell_type": "code",
   "execution_count": 22,
   "metadata": {},
   "outputs": [
    {
     "data": {
      "text/plain": [
       "[('돈까스', 0.9661983567394195),\n",
       " ('돼지김치찜', 0.02021657580770362),\n",
       " ('치킨', 0.0041820584557017045),\n",
       " ('족발', 0.003949567434646764),\n",
       " ('삼겹살', 0.0018769458136590521),\n",
       " ('회', -0.0023612825813514107),\n",
       " ('햄버거', -0.00387488025413899)]"
      ]
     },
     "execution_count": 22,
     "metadata": {},
     "output_type": "execute_result"
    }
   ],
   "source": [
    "#이 추천에 기여한 정도 (돈까스의 경우)\n",
    "\n",
    "돈까스 = menu_to_idx['돈까스']\n",
    "explain = als_model.explain(user, csr_data, itemid = 돈까스)\n",
    "\n",
    "[(idx_to_menu[i[0]], i[1]) for i in explain [1]]"
   ]
  },
  {
   "cell_type": "code",
   "execution_count": null,
   "metadata": {},
   "outputs": [],
   "source": []
  },
  {
   "cell_type": "code",
   "execution_count": null,
   "metadata": {},
   "outputs": [],
   "source": []
  }
 ],
 "metadata": {
  "kernelspec": {
   "display_name": "Python 3",
   "language": "python",
   "name": "python3"
  },
  "language_info": {
   "codemirror_mode": {
    "name": "ipython",
    "version": 3
   },
   "file_extension": ".py",
   "mimetype": "text/x-python",
   "name": "python",
   "nbconvert_exporter": "python",
   "pygments_lexer": "ipython3",
   "version": "3.7.6"
  }
 },
 "nbformat": 4,
 "nbformat_minor": 4
}
