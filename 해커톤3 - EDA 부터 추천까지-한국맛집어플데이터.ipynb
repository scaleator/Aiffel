{
 "cells": [
  {
   "cell_type": "markdown",
   "metadata": {},
   "source": [
    "# 한국 맛집 어플 데이터를 크롤링 후 학습"
   ]
  },
  {
   "cell_type": "code",
   "execution_count": 1,
   "metadata": {},
   "outputs": [
    {
     "data": {
      "text/html": [
       "<div>\n",
       "<style scoped>\n",
       "    .dataframe tbody tr th:only-of-type {\n",
       "        vertical-align: middle;\n",
       "    }\n",
       "\n",
       "    .dataframe tbody tr th {\n",
       "        vertical-align: top;\n",
       "    }\n",
       "\n",
       "    .dataframe thead th {\n",
       "        text-align: right;\n",
       "    }\n",
       "</style>\n",
       "<table border=\"1\" class=\"dataframe\">\n",
       "  <thead>\n",
       "    <tr style=\"text-align: right;\">\n",
       "      <th></th>\n",
       "      <th>userId</th>\n",
       "      <th>Menu</th>\n",
       "      <th>Rating</th>\n",
       "    </tr>\n",
       "  </thead>\n",
       "  <tbody>\n",
       "    <tr>\n",
       "      <th>0</th>\n",
       "      <td>수염시</td>\n",
       "      <td>알밥</td>\n",
       "      <td>5</td>\n",
       "    </tr>\n",
       "    <tr>\n",
       "      <th>1</th>\n",
       "      <td>수염시</td>\n",
       "      <td>회</td>\n",
       "      <td>5</td>\n",
       "    </tr>\n",
       "    <tr>\n",
       "      <th>2</th>\n",
       "      <td>수염시</td>\n",
       "      <td>치킨</td>\n",
       "      <td>5</td>\n",
       "    </tr>\n",
       "    <tr>\n",
       "      <th>3</th>\n",
       "      <td>수염시</td>\n",
       "      <td>닭발</td>\n",
       "      <td>5</td>\n",
       "    </tr>\n",
       "    <tr>\n",
       "      <th>4</th>\n",
       "      <td>수염시</td>\n",
       "      <td>물냉면</td>\n",
       "      <td>5</td>\n",
       "    </tr>\n",
       "  </tbody>\n",
       "</table>\n",
       "</div>"
      ],
      "text/plain": [
       "  userId Menu  Rating\n",
       "0    수염시   알밥       5\n",
       "1    수염시    회       5\n",
       "2    수염시   치킨       5\n",
       "3    수염시   닭발       5\n",
       "4    수염시  물냉면       5"
      ]
     },
     "execution_count": 1,
     "metadata": {},
     "output_type": "execute_result"
    }
   ],
   "source": [
    "import matplotlib.pyplot as plt\n",
    "import seaborn as sns\n",
    "import pandas as pd\n",
    "import numpy as np\n",
    "import warnings\n",
    "import os\n",
    "\n",
    "\n",
    "rating_file_path = os.getenv('HOME') +'/aiffel/H3/foodrating/app_db.csv'\n",
    "#ratings_cols = ['ProductId', 'ProfileName', 'Score', 'Summary']\n",
    "data1 = pd.read_csv(rating_file_path, header = None, index_col = None)\n",
    "data1.columns = ['userId','Menu','Rating']\n",
    "data1.head()\n",
    "#data1.tail()"
   ]
  },
  {
   "cell_type": "code",
   "execution_count": 2,
   "metadata": {},
   "outputs": [
    {
     "data": {
      "text/plain": [
       "40"
      ]
     },
     "execution_count": 2,
     "metadata": {},
     "output_type": "execute_result"
    }
   ],
   "source": [
    "data1[\"userId\"].nunique()"
   ]
  },
  {
   "cell_type": "markdown",
   "metadata": {},
   "source": [
    "# 크게 두가지 모델로 나눌수 있습니다 : \n",
    "# 1) 아이템 기반 추천시스템 2) 유저 기반 추천시스템"
   ]
  },
  {
   "cell_type": "markdown",
   "metadata": {},
   "source": [
    "# 유저기반 추천시스템"
   ]
  },
  {
   "cell_type": "code",
   "execution_count": 3,
   "metadata": {},
   "outputs": [
    {
     "data": {
      "text/html": [
       "<div>\n",
       "<style scoped>\n",
       "    .dataframe tbody tr th:only-of-type {\n",
       "        vertical-align: middle;\n",
       "    }\n",
       "\n",
       "    .dataframe tbody tr th {\n",
       "        vertical-align: top;\n",
       "    }\n",
       "\n",
       "    .dataframe thead th {\n",
       "        text-align: right;\n",
       "    }\n",
       "</style>\n",
       "<table border=\"1\" class=\"dataframe\">\n",
       "  <thead>\n",
       "    <tr style=\"text-align: right;\">\n",
       "      <th></th>\n",
       "      <th>userId</th>\n",
       "      <th>Menu</th>\n",
       "      <th>Rating</th>\n",
       "    </tr>\n",
       "  </thead>\n",
       "  <tbody>\n",
       "    <tr>\n",
       "      <th>0</th>\n",
       "      <td>수염시</td>\n",
       "      <td>알밥</td>\n",
       "      <td>5</td>\n",
       "    </tr>\n",
       "    <tr>\n",
       "      <th>1</th>\n",
       "      <td>수염시</td>\n",
       "      <td>회</td>\n",
       "      <td>5</td>\n",
       "    </tr>\n",
       "    <tr>\n",
       "      <th>2</th>\n",
       "      <td>수염시</td>\n",
       "      <td>치킨</td>\n",
       "      <td>5</td>\n",
       "    </tr>\n",
       "    <tr>\n",
       "      <th>3</th>\n",
       "      <td>수염시</td>\n",
       "      <td>닭발</td>\n",
       "      <td>5</td>\n",
       "    </tr>\n",
       "    <tr>\n",
       "      <th>4</th>\n",
       "      <td>수염시</td>\n",
       "      <td>물냉면</td>\n",
       "      <td>5</td>\n",
       "    </tr>\n",
       "  </tbody>\n",
       "</table>\n",
       "</div>"
      ],
      "text/plain": [
       "  userId Menu  Rating\n",
       "0    수염시   알밥       5\n",
       "1    수염시    회       5\n",
       "2    수염시   치킨       5\n",
       "3    수염시   닭발       5\n",
       "4    수염시  물냉면       5"
      ]
     },
     "execution_count": 3,
     "metadata": {},
     "output_type": "execute_result"
    }
   ],
   "source": [
    "user_df = pd.read_csv(rating_file_path, header = None, index_col = None)\n",
    "user_df.columns = ['userId','Menu','Rating']\n",
    "user_df.head()"
   ]
  },
  {
   "cell_type": "code",
   "execution_count": 4,
   "metadata": {},
   "outputs": [
    {
     "data": {
      "text/plain": [
       "40"
      ]
     },
     "execution_count": 4,
     "metadata": {},
     "output_type": "execute_result"
    }
   ],
   "source": [
    "user_df[\"userId\"].nunique()"
   ]
  },
  {
   "cell_type": "markdown",
   "metadata": {},
   "source": [
    "# 인기 많은 음식들 (top 30)"
   ]
  },
  {
   "cell_type": "code",
   "execution_count": 5,
   "metadata": {},
   "outputs": [
    {
     "data": {
      "text/plain": [
       "Menu\n",
       "치킨       28\n",
       "떡볶이      20\n",
       "피자       20\n",
       "족발       17\n",
       "삼겹살      14\n",
       "탕수육      13\n",
       "짬뽕       12\n",
       "닭발       11\n",
       "회        10\n",
       "돈까스      10\n",
       "김치찌개      8\n",
       "찜닭        8\n",
       "닭도리탕      8\n",
       "햄버거       7\n",
       "보쌈        7\n",
       "마라탕       7\n",
       "야채곱창      6\n",
       "샌드위치      5\n",
       "라멘        5\n",
       "파스타       5\n",
       "초밥        4\n",
       "육회        4\n",
       "짜장면       4\n",
       "김밥        4\n",
       "돼지김치찜     4\n",
       "물냉면       4\n",
       "막창구이      4\n",
       "닭강정       3\n",
       "와플        3\n",
       "곱창구이      3\n",
       "Name: userId, dtype: int64"
      ]
     },
     "execution_count": 5,
     "metadata": {},
     "output_type": "execute_result"
    }
   ],
   "source": [
    "product_count = user_df.groupby('Menu')['userId'].count()\n",
    "product_count.sort_values(ascending = False).head(30)"
   ]
  },
  {
   "cell_type": "markdown",
   "metadata": {},
   "source": [
    "# 3. 내가 선호하는 식품 7가지 골라서 rating 에 추가"
   ]
  },
  {
   "cell_type": "code",
   "execution_count": 6,
   "metadata": {},
   "outputs": [
    {
     "data": {
      "text/html": [
       "<div>\n",
       "<style scoped>\n",
       "    .dataframe tbody tr th:only-of-type {\n",
       "        vertical-align: middle;\n",
       "    }\n",
       "\n",
       "    .dataframe tbody tr th {\n",
       "        vertical-align: top;\n",
       "    }\n",
       "\n",
       "    .dataframe thead th {\n",
       "        text-align: right;\n",
       "    }\n",
       "</style>\n",
       "<table border=\"1\" class=\"dataframe\">\n",
       "  <thead>\n",
       "    <tr style=\"text-align: right;\">\n",
       "      <th></th>\n",
       "      <th>userId</th>\n",
       "      <th>Menu</th>\n",
       "      <th>Rating</th>\n",
       "    </tr>\n",
       "  </thead>\n",
       "  <tbody>\n",
       "    <tr>\n",
       "      <th>354</th>\n",
       "      <td>손님</td>\n",
       "      <td>막창구이</td>\n",
       "      <td>5</td>\n",
       "    </tr>\n",
       "    <tr>\n",
       "      <th>355</th>\n",
       "      <td>손님</td>\n",
       "      <td>닭발</td>\n",
       "      <td>5</td>\n",
       "    </tr>\n",
       "    <tr>\n",
       "      <th>356</th>\n",
       "      <td>손님</td>\n",
       "      <td>피자</td>\n",
       "      <td>5</td>\n",
       "    </tr>\n",
       "    <tr>\n",
       "      <th>0</th>\n",
       "      <td>규환</td>\n",
       "      <td>치킨</td>\n",
       "      <td>5</td>\n",
       "    </tr>\n",
       "    <tr>\n",
       "      <th>1</th>\n",
       "      <td>규환</td>\n",
       "      <td>햄버거</td>\n",
       "      <td>5</td>\n",
       "    </tr>\n",
       "    <tr>\n",
       "      <th>2</th>\n",
       "      <td>규환</td>\n",
       "      <td>족발</td>\n",
       "      <td>5</td>\n",
       "    </tr>\n",
       "    <tr>\n",
       "      <th>3</th>\n",
       "      <td>규환</td>\n",
       "      <td>회</td>\n",
       "      <td>5</td>\n",
       "    </tr>\n",
       "    <tr>\n",
       "      <th>4</th>\n",
       "      <td>규환</td>\n",
       "      <td>돼지김치찜</td>\n",
       "      <td>5</td>\n",
       "    </tr>\n",
       "    <tr>\n",
       "      <th>5</th>\n",
       "      <td>규환</td>\n",
       "      <td>삼겹살</td>\n",
       "      <td>5</td>\n",
       "    </tr>\n",
       "    <tr>\n",
       "      <th>6</th>\n",
       "      <td>규환</td>\n",
       "      <td>돈까스</td>\n",
       "      <td>5</td>\n",
       "    </tr>\n",
       "  </tbody>\n",
       "</table>\n",
       "</div>"
      ],
      "text/plain": [
       "    userId   Menu  Rating\n",
       "354     손님   막창구이       5\n",
       "355     손님     닭발       5\n",
       "356     손님     피자       5\n",
       "0       규환     치킨       5\n",
       "1       규환    햄버거       5\n",
       "2       규환     족발       5\n",
       "3       규환      회       5\n",
       "4       규환  돼지김치찜       5\n",
       "5       규환    삼겹살       5\n",
       "6       규환    돈까스       5"
      ]
     },
     "execution_count": 6,
     "metadata": {},
     "output_type": "execute_result"
    }
   ],
   "source": [
    "\n",
    "my_favorite = ['치킨', '햄버거', '족발','회', '돼지김치찜', '삼겹살', '돈까스']\n",
    "\n",
    "my_foodlist = pd.DataFrame({'userId': ['규환']*7,  'Rating':[5]*7,\n",
    "                           'Menu': ['치킨', '햄버거', '족발','회', '돼지김치찜', '삼겹살', '돈까스']})\n",
    "\n",
    "if not user_df.isin({'userId': ['규환']})['userId'].any():\n",
    "    user_df = user_df.append(my_foodlist)\n",
    "user_df.tail(10)"
   ]
  },
  {
   "cell_type": "code",
   "execution_count": 7,
   "metadata": {},
   "outputs": [
    {
     "name": "stdout",
     "output_type": "stream",
     "text": [
      "40\n"
     ]
    }
   ],
   "source": [
    "# 고유한 유저, 프로덕트 찾기\n",
    "user_unique = user_df['userId'].unique()\n",
    "product_unique = user_df['Menu'].unique()\n",
    "\n",
    "# 유저, 프로덕트를 indexing 하는 코드 idx는 index의 약자입니다.\n",
    "user_to_idx = {v:k for k,v in enumerate(user_unique)}\n",
    "product_to_idx = {v:k for k,v in enumerate(product_unique)}\n",
    "\n",
    "print(user_to_idx['규환'])"
   ]
  },
  {
   "cell_type": "code",
   "execution_count": 8,
   "metadata": {},
   "outputs": [
    {
     "name": "stdout",
     "output_type": "stream",
     "text": [
      "유저 ID 컬럼 인덱싱 완료!!\n",
      "메뉴 컬럼 인덱싱 완료!!\n"
     ]
    },
    {
     "data": {
      "text/html": [
       "<div>\n",
       "<style scoped>\n",
       "    .dataframe tbody tr th:only-of-type {\n",
       "        vertical-align: middle;\n",
       "    }\n",
       "\n",
       "    .dataframe tbody tr th {\n",
       "        vertical-align: top;\n",
       "    }\n",
       "\n",
       "    .dataframe thead th {\n",
       "        text-align: right;\n",
       "    }\n",
       "</style>\n",
       "<table border=\"1\" class=\"dataframe\">\n",
       "  <thead>\n",
       "    <tr style=\"text-align: right;\">\n",
       "      <th></th>\n",
       "      <th>userId</th>\n",
       "      <th>Menu</th>\n",
       "      <th>Rating</th>\n",
       "    </tr>\n",
       "  </thead>\n",
       "  <tbody>\n",
       "    <tr>\n",
       "      <th>0</th>\n",
       "      <td>0</td>\n",
       "      <td>0</td>\n",
       "      <td>5</td>\n",
       "    </tr>\n",
       "    <tr>\n",
       "      <th>1</th>\n",
       "      <td>0</td>\n",
       "      <td>1</td>\n",
       "      <td>5</td>\n",
       "    </tr>\n",
       "    <tr>\n",
       "      <th>2</th>\n",
       "      <td>0</td>\n",
       "      <td>2</td>\n",
       "      <td>5</td>\n",
       "    </tr>\n",
       "    <tr>\n",
       "      <th>3</th>\n",
       "      <td>0</td>\n",
       "      <td>3</td>\n",
       "      <td>5</td>\n",
       "    </tr>\n",
       "    <tr>\n",
       "      <th>4</th>\n",
       "      <td>0</td>\n",
       "      <td>4</td>\n",
       "      <td>5</td>\n",
       "    </tr>\n",
       "    <tr>\n",
       "      <th>...</th>\n",
       "      <td>...</td>\n",
       "      <td>...</td>\n",
       "      <td>...</td>\n",
       "    </tr>\n",
       "    <tr>\n",
       "      <th>2</th>\n",
       "      <td>40</td>\n",
       "      <td>5</td>\n",
       "      <td>5</td>\n",
       "    </tr>\n",
       "    <tr>\n",
       "      <th>3</th>\n",
       "      <td>40</td>\n",
       "      <td>1</td>\n",
       "      <td>5</td>\n",
       "    </tr>\n",
       "    <tr>\n",
       "      <th>4</th>\n",
       "      <td>40</td>\n",
       "      <td>19</td>\n",
       "      <td>5</td>\n",
       "    </tr>\n",
       "    <tr>\n",
       "      <th>5</th>\n",
       "      <td>40</td>\n",
       "      <td>10</td>\n",
       "      <td>5</td>\n",
       "    </tr>\n",
       "    <tr>\n",
       "      <th>6</th>\n",
       "      <td>40</td>\n",
       "      <td>28</td>\n",
       "      <td>5</td>\n",
       "    </tr>\n",
       "  </tbody>\n",
       "</table>\n",
       "<p>364 rows × 3 columns</p>\n",
       "</div>"
      ],
      "text/plain": [
       "    userId  Menu  Rating\n",
       "0        0     0       5\n",
       "1        0     1       5\n",
       "2        0     2       5\n",
       "3        0     3       5\n",
       "4        0     4       5\n",
       "..     ...   ...     ...\n",
       "2       40     5       5\n",
       "3       40     1       5\n",
       "4       40    19       5\n",
       "5       40    10       5\n",
       "6       40    28       5\n",
       "\n",
       "[364 rows x 3 columns]"
      ]
     },
     "execution_count": 8,
     "metadata": {},
     "output_type": "execute_result"
    }
   ],
   "source": [
    "# CSR Matrix 를 직접 만들어 보기\n",
    "\n",
    "\n",
    "# indexing을 통해 데이터 컬럼 내 값을 바꾸는 코드\n",
    "# user_to_idx.get을 통해 UserId 컬럼의 모든 값을 인덱싱한 Series를 구해 봅시다. \n",
    "\n",
    "temp_user_data = user_df['userId'].map(user_to_idx.get).dropna()\n",
    "if len(temp_user_data) == len(user_df):   # 모든 row가 정상적으로 인덱싱되었다면\n",
    "    print('유저 ID 컬럼 인덱싱 완료!!')\n",
    "    user_df['userId'] = temp_user_data   # data['UserId']을 인덱싱된 Series로 교체해 줍니다. \n",
    "else:\n",
    "    print('유저 ID 컬럼 인덱싱 실패')\n",
    "\n",
    "# product_to_idx을 통해 product 컬럼도 동일한 방식으로 인덱싱해 줍니다.\n",
    "\n",
    "temp_product_data = user_df['Menu'].map(product_to_idx.get).dropna()\n",
    "if len(temp_product_data) == len(user_df):\n",
    "    print('메뉴 컬럼 인덱싱 완료!!')\n",
    "    user_df['Menu'] = temp_product_data\n",
    "else:\n",
    "    print('메뉴 컬럼 인덱싱 실패!!')\n",
    "    \n",
    "\n",
    "user_df"
   ]
  },
  {
   "cell_type": "markdown",
   "metadata": {},
   "source": [
    "# Compressed Sparse Row Matrix\n",
    "\n",
    "유저 x 아이템 평가행렬 -> 어림잡아도 엄청난 메모리가 필요하다 (600GB 이상)\n",
    "\n",
    "유저가 좋아하지 않는 아이템에 대한 정보까지 모두 행렬에 포함되어 계산되기 때문.\n",
    "\n",
    "평가행렬 내의 대부분의 공간은 0으로 채워짐. 이를 Sparse Matrix 라고 부름.\n",
    "\n",
    "이런 메모리 낭비를 최소화 하기 위해 유저가 좋아하는 아이템에 대해서만 정보만을 저장하면서\n",
    "\n",
    "전체 행렬 형태를 유추할 수있는 데이터 구조가 필요"
   ]
  },
  {
   "cell_type": "markdown",
   "metadata": {},
   "source": [
    "# Sparse Matrix 에 관한 URL :\n",
    "\n",
    "1) https://stackoverflow.com/questions/53254104/cant-understand-scipy-sparse-csr-matrix-example/62118005#62118005\n",
    "\n",
    "2)https://lovit.github.io/nlp/machine%20learning/2018/04/09/sparse_mtarix_handling/#csr-matrix"
   ]
  },
  {
   "cell_type": "code",
   "execution_count": 9,
   "metadata": {},
   "outputs": [
    {
     "data": {
      "text/plain": [
       "<41x107 sparse matrix of type '<class 'numpy.longlong'>'\n",
       "\twith 364 stored elements in Compressed Sparse Row format>"
      ]
     },
     "execution_count": 9,
     "metadata": {},
     "output_type": "execute_result"
    }
   ],
   "source": [
    "#CSR MATRIX 만들기\n",
    "from scipy.sparse import csr_matrix\n",
    "\n",
    "num_user = user_df['userId'].nunique()\n",
    "num_product = user_df['Menu'].nunique()\n",
    "\n",
    "csr_data = csr_matrix((user_df['Rating'], (user_df.userId, user_df.Menu)), shape= (num_user, num_product))\n",
    "csr_data"
   ]
  },
  {
   "cell_type": "markdown",
   "metadata": {},
   "source": [
    "# Matrix Factorization 모델 학습\n",
    "\n",
    "implict 라는 패키지를 이용\n",
    "\n",
    "als(AlternatingLeastSqaures) 모델을 사용. Matrix Factorization 에서 쪼개진 두 Feature Matrix 를 한꺼번에 훈련하는것은 잘 수렴하지 않기 때문에,\n",
    "한쪽을 고정시키고 다른 쪽을 학습하는 방식을 번갈아 수행하는 ALS 방식이 효과적임"
   ]
  },
  {
   "cell_type": "code",
   "execution_count": 10,
   "metadata": {},
   "outputs": [
    {
     "name": "stderr",
     "output_type": "stream",
     "text": [
      "WARNING:root:OpenBLAS detected. Its highly recommend to set the environment variable 'export OPENBLAS_NUM_THREADS=1' to disable its internal multithreading\n"
     ]
    },
    {
     "data": {
      "text/plain": [
       "<107x41 sparse matrix of type '<class 'numpy.longlong'>'\n",
       "\twith 364 stored elements in Compressed Sparse Column format>"
      ]
     },
     "execution_count": 10,
     "metadata": {},
     "output_type": "execute_result"
    }
   ],
   "source": [
    "from implicit.als import AlternatingLeastSquares\n",
    "import os\n",
    "import numpy as np\n",
    "\n",
    "#implict 에서 권장하고 있는 부분\n",
    "os.environ['OPENBLAS_NUM_THREAD'] = '1'\n",
    "os.environ['KMP_DUPLICATE_LIB_OK'] = 'True'\n",
    "os.environ['MKL_NUM_THREADS'] = '1'\n",
    "\n",
    "#implict AlternatingLeastSquares 모델의 선언\n",
    "\n",
    "\n",
    "#ALS 클래스의 __init__ 파라미터 살펴보기\n",
    "# 1. factors : 유저와 아이템의 벡터를 몇 차원으로 할것인지\n",
    "# 2. regularization : 과적합 방지하기 위해 정규화 값을 얼마나 사용할 것인지\n",
    "# 3. use_gpu : GPU 를 사용할 것잉ㄴ지\n",
    "# 4. iterations : epoch 과 같은 의미. 데이터를 몇 번 반복해서 학습할 것인지\n",
    "als_model = AlternatingLeastSquares(factors = 100, regularization = 0.01, use_gpu = False, iterations = 15,\n",
    "                                   dtype = np.float32)\n",
    "\n",
    "#als 모델은 input 으로 (item X user 꼴의 matrix 를 받기 때문에 Transpose 해줍니다.)\n",
    "\n",
    "csr_data_transpose = csr_data.T\n",
    "csr_data_transpose"
   ]
  },
  {
   "cell_type": "code",
   "execution_count": 11,
   "metadata": {},
   "outputs": [
    {
     "data": {
      "application/vnd.jupyter.widget-view+json": {
       "model_id": "c6617cce3802476dab4434165377b271",
       "version_major": 2,
       "version_minor": 0
      },
      "text/plain": [
       "HBox(children=(FloatProgress(value=0.0, max=15.0), HTML(value='')))"
      ]
     },
     "metadata": {},
     "output_type": "display_data"
    },
    {
     "name": "stdout",
     "output_type": "stream",
     "text": [
      "\n"
     ]
    }
   ],
   "source": [
    "als_model.fit(csr_data_transpose)"
   ]
  },
  {
   "cell_type": "code",
   "execution_count": 12,
   "metadata": {},
   "outputs": [
    {
     "name": "stdout",
     "output_type": "stream",
     "text": [
      "40\n"
     ]
    }
   ],
   "source": [
    "print(user_to_idx['규환'])"
   ]
  },
  {
   "cell_type": "markdown",
   "metadata": {},
   "source": [
    "# 4.  내가 선호하는 7가지 음식 중 하나와 그 외의 음식 하나를 골라 훈련된 모델이 예측한 나의 선호도를 파악해보기"
   ]
  },
  {
   "cell_type": "code",
   "execution_count": 13,
   "metadata": {},
   "outputs": [],
   "source": [
    "규환, 족발 = user_to_idx['규환'], product_to_idx['족발']\n",
    "규환_vector, 족발_vector = als_model.user_factors[규환], als_model.item_factors[족발]"
   ]
  },
  {
   "cell_type": "code",
   "execution_count": 14,
   "metadata": {},
   "outputs": [
    {
     "data": {
      "text/plain": [
       "array([ 0.69995874,  0.738884  , -1.3741947 , -0.26483878,  2.07991   ,\n",
       "        0.7183035 ,  0.54025245,  0.94908947,  1.049285  ,  0.34145996,\n",
       "        0.93235445,  0.7154961 ,  1.0814351 ,  1.0539453 ,  1.5912566 ,\n",
       "        0.41928175,  0.980873  ,  1.069271  ,  2.081347  ,  0.5199263 ,\n",
       "        0.24170259,  0.24863797, -0.48982242, -0.51139295,  1.4662756 ,\n",
       "        0.25783893,  1.2389318 , -1.5528257 ,  0.5626008 ,  0.20349845,\n",
       "       -0.05996896,  1.138958  , -0.5395856 ,  0.5764024 ,  0.3445158 ,\n",
       "        1.0366554 , -0.22900985,  0.36845917,  1.6440117 ,  2.1554594 ,\n",
       "        0.26593056,  1.0556773 , -0.33711204, -0.74362123,  0.1796091 ,\n",
       "       -0.9657275 ,  1.4584912 ,  1.7142336 ,  0.08038958,  0.34740552,\n",
       "        0.30779564, -0.37768018,  0.1076901 , -0.40854853, -0.98308337,\n",
       "       -0.24585418,  0.93128973, -0.28908008, -1.1502423 ,  0.6840869 ,\n",
       "        1.1249542 ,  1.0177773 , -0.56783015,  0.9124722 ,  0.6230983 ,\n",
       "        0.13071334,  1.4557842 ,  0.04785869,  0.48292047,  0.02247814,\n",
       "       -0.6181475 ,  0.8321571 , -0.2001026 ,  0.17730604,  0.14855713,\n",
       "        0.16463937,  1.3072467 , -2.2842293 ,  0.35093078, -0.35393545,\n",
       "        1.5734243 ,  0.07396587, -1.1851177 ,  1.0523671 ,  1.0772337 ,\n",
       "       -1.0440755 ,  0.45042592, -0.9435954 ,  0.38129896,  1.0592717 ,\n",
       "        1.1113055 , -0.32278737,  1.4143692 ,  0.37118584, -0.02800847,\n",
       "        0.5502946 ,  1.4693278 ,  1.1017191 , -0.27173087,  1.4955603 ],\n",
       "      dtype=float32)"
      ]
     },
     "execution_count": 14,
     "metadata": {},
     "output_type": "execute_result"
    }
   ],
   "source": [
    "규환_vector"
   ]
  },
  {
   "cell_type": "code",
   "execution_count": 15,
   "metadata": {},
   "outputs": [
    {
     "data": {
      "text/plain": [
       "array([ 0.02280351,  0.04081863, -0.01353618, -0.03109088, -0.01255145,\n",
       "        0.00488367,  0.03052302,  0.03265673,  0.0508211 , -0.01532242,\n",
       "        0.01295061,  0.02676212, -0.00191345,  0.02118581, -0.00641235,\n",
       "        0.00103157, -0.00733556, -0.00299384,  0.00465611,  0.00925324,\n",
       "       -0.01592219, -0.04736574, -0.02042919, -0.01820992, -0.01558553,\n",
       "       -0.02609957,  0.04779591, -0.04637858, -0.00804448,  0.00783718,\n",
       "       -0.01639334,  0.05905644, -0.01942983,  0.01203618, -0.01072067,\n",
       "        0.02205144,  0.02243058, -0.00407049,  0.04632495,  0.0434833 ,\n",
       "       -0.00592416,  0.04069965, -0.01781283, -0.00950384,  0.02230106,\n",
       "        0.00933353,  0.00033016,  0.00809464,  0.04744013, -0.02617015,\n",
       "        0.00544009,  0.05123416,  0.00423148, -0.01850438, -0.01274553,\n",
       "        0.01751447, -0.00507137, -0.01483055,  0.00887226,  0.01020309,\n",
       "        0.01782646, -0.04401979, -0.01635353,  0.0506948 ,  0.0068062 ,\n",
       "        0.04107188,  0.05613685, -0.00806735, -0.0075924 ,  0.00284928,\n",
       "       -0.00022233, -0.01215439,  0.06271186, -0.00284916, -0.00514808,\n",
       "        0.03006533,  0.03512071, -0.00630989, -0.01489372,  0.00327075,\n",
       "        0.00683882,  0.01533667,  0.0014164 ,  0.06090138,  0.00445389,\n",
       "       -0.04715221, -0.04118034, -0.00396114, -0.01245039,  0.02522447,\n",
       "        0.00850098, -0.00857208,  0.03325599, -0.02413886, -0.02419606,\n",
       "        0.03411825,  0.02971878, -0.00114154, -0.01295875, -0.01207029],\n",
       "      dtype=float32)"
      ]
     },
     "execution_count": 15,
     "metadata": {},
     "output_type": "execute_result"
    }
   ],
   "source": [
    "족발_vector"
   ]
  },
  {
   "cell_type": "code",
   "execution_count": 16,
   "metadata": {},
   "outputs": [
    {
     "data": {
      "text/plain": [
       "1.0020393"
      ]
     },
     "execution_count": 16,
     "metadata": {},
     "output_type": "execute_result"
    }
   ],
   "source": [
    "# 규환과 족발이 내적하는 코드\n",
    "\n",
    "np.dot(규환_vector, 족발_vector)"
   ]
  },
  {
   "cell_type": "code",
   "execution_count": 17,
   "metadata": {},
   "outputs": [
    {
     "data": {
      "text/plain": [
       "0.9949883"
      ]
     },
     "execution_count": 17,
     "metadata": {},
     "output_type": "execute_result"
    }
   ],
   "source": [
    "# 나의 회에 대한 선호도는 어떻게 예측할지\n",
    "\n",
    "회 = product_to_idx['회']\n",
    "회_vector = als_model.item_factors[회]\n",
    "np.dot(규환_vector, 회_vector)"
   ]
  },
  {
   "cell_type": "markdown",
   "metadata": {},
   "source": [
    "# 5. 내가 좋아하는 음식과 비슷한 음식을 추천받아 봅시다."
   ]
  },
  {
   "cell_type": "code",
   "execution_count": 18,
   "metadata": {},
   "outputs": [
    {
     "data": {
      "text/plain": [
       "[(10, 1.0),\n",
       " (17, 0.18438953),\n",
       " (20, 0.18282984),\n",
       " (21, 0.18035649),\n",
       " (22, 0.17982247),\n",
       " (85, 0.1738568),\n",
       " (86, 0.17028402),\n",
       " (53, 0.14748503),\n",
       " (61, 0.14264074),\n",
       " (59, 0.14205591),\n",
       " (80, 0.13368067),\n",
       " (11, 0.1302035),\n",
       " (28, 0.122482546),\n",
       " (74, 0.11932728),\n",
       " (12, 0.11775661)]"
      ]
     },
     "execution_count": 18,
     "metadata": {},
     "output_type": "execute_result"
    }
   ],
   "source": [
    "# 삼결살과 비슷한 음식 추천받기\n",
    "\n",
    "favorite_food = '삼겹살'\n",
    "product_id = product_to_idx[favorite_food]\n",
    "\n",
    "similar_food = als_model.similar_items(product_id, N=15)\n",
    "similar_food"
   ]
  },
  {
   "cell_type": "code",
   "execution_count": 19,
   "metadata": {},
   "outputs": [
    {
     "data": {
      "text/plain": [
       "['삼겹살',\n",
       " '짬뽕',\n",
       " '짜글이',\n",
       " '오징어튀김',\n",
       " '불고기',\n",
       " '술국',\n",
       " '리조또',\n",
       " '갈비찜',\n",
       " '곰탕',\n",
       " '샤브샤브',\n",
       " '와플',\n",
       " '파스타',\n",
       " '돈까스',\n",
       " '팥빙수',\n",
       " '콩나물불고기']"
      ]
     },
     "execution_count": 19,
     "metadata": {},
     "output_type": "execute_result"
    }
   ],
   "source": [
    "#음식 이름으로 변경해주기\n",
    "\n",
    "idx_to_product = {v:k for k,v in product_to_idx.items()}\n",
    "[idx_to_product[i[0]]for i in similar_food]"
   ]
  },
  {
   "cell_type": "markdown",
   "metadata": {},
   "source": [
    "# 6. 내가 좋아할만한 음식들을 추천받아보기"
   ]
  },
  {
   "cell_type": "code",
   "execution_count": 20,
   "metadata": {},
   "outputs": [
    {
     "data": {
      "text/plain": [
       "[(29, 0.021629795),\n",
       " (35, 0.017073952),\n",
       " (36, 0.016226284),\n",
       " (6, 0.01520206),\n",
       " (15, 0.01329278),\n",
       " (4, 0.012837097),\n",
       " (84, 0.011978179),\n",
       " (31, 0.01139693),\n",
       " (37, 0.0113159865),\n",
       " (95, 0.010678738),\n",
       " (60, 0.007741615),\n",
       " (59, 0.006372839),\n",
       " (24, 0.0063656867),\n",
       " (61, 0.0061508715),\n",
       " (83, 0.005716637),\n",
       " (74, 0.0055408664),\n",
       " (82, 0.00501699),\n",
       " (12, 0.0050051827),\n",
       " (27, 0.0047495477),\n",
       " (45, 0.0047326162)]"
      ]
     },
     "execution_count": 20,
     "metadata": {},
     "output_type": "execute_result"
    }
   ],
   "source": [
    "# 음식 추천받기\n",
    "\n",
    "user = user_to_idx['규환']\n",
    "\n",
    "#recommend 에서는 user * item CSR Matrix 를 받습니다.\n",
    "\n",
    "food_recommended = als_model.recommend(user, csr_data, N=20, filter_already_liked_items = True)\n",
    "food_recommended"
   ]
  },
  {
   "cell_type": "code",
   "execution_count": 21,
   "metadata": {},
   "outputs": [
    {
     "data": {
      "text/plain": [
       "['보쌈',\n",
       " '라멘',\n",
       " '쭈삼볶음',\n",
       " '피자',\n",
       " '곱창구이',\n",
       " '물냉면',\n",
       " '순대국',\n",
       " '초밥',\n",
       " '마라상궈',\n",
       " '비빕밥',\n",
       " '쌈밥',\n",
       " '샤브샤브',\n",
       " '김밥',\n",
       " '곰탕',\n",
       " '고로케',\n",
       " '팥빙수',\n",
       " '소라무침',\n",
       " '콩나물불고기',\n",
       " '육회',\n",
       " '감자탕']"
      ]
     },
     "execution_count": 21,
     "metadata": {},
     "output_type": "execute_result"
    }
   ],
   "source": [
    "[idx_to_product[i[0]]for i in food_recommended]"
   ]
  },
  {
   "cell_type": "code",
   "execution_count": 22,
   "metadata": {},
   "outputs": [
    {
     "data": {
      "text/plain": [
       "[('돈까스', 0.9120330259276284),\n",
       " ('돼지김치찜', 0.039507316587005153),\n",
       " ('삼겹살', 0.02285229967886593),\n",
       " ('햄버거', 0.015973619658981038),\n",
       " ('회', 0.008634504746996317),\n",
       " ('족발', -0.00954454685730343),\n",
       " ('치킨', -0.012980513261401753)]"
      ]
     },
     "execution_count": 22,
     "metadata": {},
     "output_type": "execute_result"
    }
   ],
   "source": [
    "#이 추천에 기여한 정도 (돈까스의 경우)\n",
    "\n",
    "돈까스 = product_to_idx['돈까스']\n",
    "explain = als_model.explain(user, csr_data, itemid = 돈까스)\n",
    "\n",
    "[(idx_to_product[i[0]], i[1]) for i in explain [1]]"
   ]
  },
  {
   "cell_type": "code",
   "execution_count": null,
   "metadata": {},
   "outputs": [],
   "source": []
  }
 ],
 "metadata": {
  "kernelspec": {
   "display_name": "Python 3",
   "language": "python",
   "name": "python3"
  },
  "language_info": {
   "codemirror_mode": {
    "name": "ipython",
    "version": 3
   },
   "file_extension": ".py",
   "mimetype": "text/x-python",
   "name": "python",
   "nbconvert_exporter": "python",
   "pygments_lexer": "ipython3",
   "version": "3.7.6"
  }
 },
 "nbformat": 4,
 "nbformat_minor": 4
}
