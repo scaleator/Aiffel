{
 "cells": [
  {
   "cell_type": "markdown",
   "metadata": {},
   "source": [
    "# 한국 맛집 어플 데이터를 크롤링 후 학습"
   ]
  },
  {
   "cell_type": "code",
   "execution_count": 1,
   "metadata": {},
   "outputs": [
    {
     "data": {
      "text/html": [
       "<div>\n",
       "<style scoped>\n",
       "    .dataframe tbody tr th:only-of-type {\n",
       "        vertical-align: middle;\n",
       "    }\n",
       "\n",
       "    .dataframe tbody tr th {\n",
       "        vertical-align: top;\n",
       "    }\n",
       "\n",
       "    .dataframe thead th {\n",
       "        text-align: right;\n",
       "    }\n",
       "</style>\n",
       "<table border=\"1\" class=\"dataframe\">\n",
       "  <thead>\n",
       "    <tr style=\"text-align: right;\">\n",
       "      <th></th>\n",
       "      <th>userId</th>\n",
       "      <th>Menu</th>\n",
       "      <th>Rating</th>\n",
       "      <th>매운/안매운</th>\n",
       "      <th>한중일양</th>\n",
       "      <th>뜨거운/차가운</th>\n",
       "      <th>육해공</th>\n",
       "      <th>식사/디저트</th>\n",
       "    </tr>\n",
       "  </thead>\n",
       "  <tbody>\n",
       "    <tr>\n",
       "      <th>0</th>\n",
       "      <td>배고파</td>\n",
       "      <td>치킨</td>\n",
       "      <td>4</td>\n",
       "      <td>안매운거</td>\n",
       "      <td>한식</td>\n",
       "      <td>뜨거운거</td>\n",
       "      <td>공</td>\n",
       "      <td>식사</td>\n",
       "    </tr>\n",
       "    <tr>\n",
       "      <th>1</th>\n",
       "      <td>배고파</td>\n",
       "      <td>마라탕</td>\n",
       "      <td>5</td>\n",
       "      <td>매운거</td>\n",
       "      <td>중식</td>\n",
       "      <td>뜨거운거</td>\n",
       "      <td>육</td>\n",
       "      <td>식사</td>\n",
       "    </tr>\n",
       "    <tr>\n",
       "      <th>2</th>\n",
       "      <td>배고파</td>\n",
       "      <td>떡볶이</td>\n",
       "      <td>5</td>\n",
       "      <td>매운거</td>\n",
       "      <td>한식</td>\n",
       "      <td>뜨거운거</td>\n",
       "      <td>육</td>\n",
       "      <td>식사</td>\n",
       "    </tr>\n",
       "    <tr>\n",
       "      <th>3</th>\n",
       "      <td>배고파</td>\n",
       "      <td>피자</td>\n",
       "      <td>5</td>\n",
       "      <td>안매운거</td>\n",
       "      <td>양식</td>\n",
       "      <td>뜨거운거</td>\n",
       "      <td>육</td>\n",
       "      <td>식사</td>\n",
       "    </tr>\n",
       "    <tr>\n",
       "      <th>4</th>\n",
       "      <td>배고파</td>\n",
       "      <td>찜닭</td>\n",
       "      <td>5</td>\n",
       "      <td>안매운거</td>\n",
       "      <td>한식</td>\n",
       "      <td>뜨거운거</td>\n",
       "      <td>공</td>\n",
       "      <td>식사</td>\n",
       "    </tr>\n",
       "  </tbody>\n",
       "</table>\n",
       "</div>"
      ],
      "text/plain": [
       "  userId Menu  Rating 매운/안매운 한중일양 뜨거운/차가운 육해공 식사/디저트\n",
       "0    배고파   치킨       4   안매운거   한식    뜨거운거   공     식사\n",
       "1    배고파  마라탕       5    매운거   중식    뜨거운거   육     식사\n",
       "2    배고파  떡볶이       5    매운거   한식    뜨거운거   육     식사\n",
       "3    배고파   피자       5   안매운거   양식    뜨거운거   육     식사\n",
       "4    배고파   찜닭       5   안매운거   한식    뜨거운거   공     식사"
      ]
     },
     "execution_count": 1,
     "metadata": {},
     "output_type": "execute_result"
    }
   ],
   "source": [
    "import matplotlib.pyplot as plt\n",
    "import seaborn as sns\n",
    "import pandas as pd\n",
    "import numpy as np\n",
    "import warnings\n",
    "import os\n",
    "\n",
    "\n",
    "rating_file_path = os.getenv('HOME') +'/aiffel/H3/foodrating/app_db2.csv'\n",
    "#ratings_cols = ['ProductId', 'ProfileName', 'Score', 'Summary']\n",
    "data1 = pd.read_csv(rating_file_path, header = None, index_col = None)\n",
    "data1.columns = ['userId','Menu','Rating','매운/안매운','한중일양','뜨거운/차가운','육해공', '식사/디저트']\n",
    "data1.head()\n",
    "#data1.tail()"
   ]
  },
  {
   "cell_type": "code",
   "execution_count": 2,
   "metadata": {},
   "outputs": [
    {
     "data": {
      "text/plain": [
       "60"
      ]
     },
     "execution_count": 2,
     "metadata": {},
     "output_type": "execute_result"
    }
   ],
   "source": [
    "data1[\"userId\"].nunique()"
   ]
  },
  {
   "cell_type": "markdown",
   "metadata": {},
   "source": [
    "# 크게 두가지 모델로 나눌수 있습니다 : \n",
    "# 1) 아이템 기반 추천시스템 2) 유저 기반 추천시스템"
   ]
  },
  {
   "cell_type": "markdown",
   "metadata": {},
   "source": [
    "# 유저기반 추천시스템"
   ]
  },
  {
   "cell_type": "code",
   "execution_count": 3,
   "metadata": {},
   "outputs": [
    {
     "data": {
      "text/html": [
       "<div>\n",
       "<style scoped>\n",
       "    .dataframe tbody tr th:only-of-type {\n",
       "        vertical-align: middle;\n",
       "    }\n",
       "\n",
       "    .dataframe tbody tr th {\n",
       "        vertical-align: top;\n",
       "    }\n",
       "\n",
       "    .dataframe thead th {\n",
       "        text-align: right;\n",
       "    }\n",
       "</style>\n",
       "<table border=\"1\" class=\"dataframe\">\n",
       "  <thead>\n",
       "    <tr style=\"text-align: right;\">\n",
       "      <th></th>\n",
       "      <th>userId</th>\n",
       "      <th>Menu</th>\n",
       "      <th>Rating</th>\n",
       "      <th>매운/안매운</th>\n",
       "      <th>한중일양</th>\n",
       "      <th>뜨거운/차가운</th>\n",
       "      <th>육해공</th>\n",
       "      <th>식사/디저트</th>\n",
       "    </tr>\n",
       "  </thead>\n",
       "  <tbody>\n",
       "    <tr>\n",
       "      <th>0</th>\n",
       "      <td>배고파</td>\n",
       "      <td>치킨</td>\n",
       "      <td>4</td>\n",
       "      <td>안매운거</td>\n",
       "      <td>한식</td>\n",
       "      <td>뜨거운거</td>\n",
       "      <td>공</td>\n",
       "      <td>식사</td>\n",
       "    </tr>\n",
       "    <tr>\n",
       "      <th>1</th>\n",
       "      <td>배고파</td>\n",
       "      <td>마라탕</td>\n",
       "      <td>5</td>\n",
       "      <td>매운거</td>\n",
       "      <td>중식</td>\n",
       "      <td>뜨거운거</td>\n",
       "      <td>육</td>\n",
       "      <td>식사</td>\n",
       "    </tr>\n",
       "    <tr>\n",
       "      <th>2</th>\n",
       "      <td>배고파</td>\n",
       "      <td>떡볶이</td>\n",
       "      <td>5</td>\n",
       "      <td>매운거</td>\n",
       "      <td>한식</td>\n",
       "      <td>뜨거운거</td>\n",
       "      <td>육</td>\n",
       "      <td>식사</td>\n",
       "    </tr>\n",
       "    <tr>\n",
       "      <th>3</th>\n",
       "      <td>배고파</td>\n",
       "      <td>피자</td>\n",
       "      <td>5</td>\n",
       "      <td>안매운거</td>\n",
       "      <td>양식</td>\n",
       "      <td>뜨거운거</td>\n",
       "      <td>육</td>\n",
       "      <td>식사</td>\n",
       "    </tr>\n",
       "    <tr>\n",
       "      <th>4</th>\n",
       "      <td>배고파</td>\n",
       "      <td>찜닭</td>\n",
       "      <td>5</td>\n",
       "      <td>안매운거</td>\n",
       "      <td>한식</td>\n",
       "      <td>뜨거운거</td>\n",
       "      <td>공</td>\n",
       "      <td>식사</td>\n",
       "    </tr>\n",
       "  </tbody>\n",
       "</table>\n",
       "</div>"
      ],
      "text/plain": [
       "  userId Menu  Rating 매운/안매운 한중일양 뜨거운/차가운 육해공 식사/디저트\n",
       "0    배고파   치킨       4   안매운거   한식    뜨거운거   공     식사\n",
       "1    배고파  마라탕       5    매운거   중식    뜨거운거   육     식사\n",
       "2    배고파  떡볶이       5    매운거   한식    뜨거운거   육     식사\n",
       "3    배고파   피자       5   안매운거   양식    뜨거운거   육     식사\n",
       "4    배고파   찜닭       5   안매운거   한식    뜨거운거   공     식사"
      ]
     },
     "execution_count": 3,
     "metadata": {},
     "output_type": "execute_result"
    }
   ],
   "source": [
    "user_df = pd.read_csv(rating_file_path, header = None, index_col = None)\n",
    "user_df.columns = ['userId','Menu','Rating','매운/안매운','한중일양','뜨거운/차가운','육해공', '식사/디저트']\n",
    "user_df.head()"
   ]
  },
  {
   "cell_type": "code",
   "execution_count": 4,
   "metadata": {},
   "outputs": [
    {
     "data": {
      "text/plain": [
       "60"
      ]
     },
     "execution_count": 4,
     "metadata": {},
     "output_type": "execute_result"
    }
   ],
   "source": [
    "user_df[\"userId\"].nunique()"
   ]
  },
  {
   "cell_type": "markdown",
   "metadata": {},
   "source": [
    "# 인기 많은 음식들 (top 30)"
   ]
  },
  {
   "cell_type": "code",
   "execution_count": 5,
   "metadata": {},
   "outputs": [
    {
     "data": {
      "text/plain": [
       "Menu\n",
       "치킨      35\n",
       "피자      29\n",
       "떡볶이     23\n",
       "돈까스     19\n",
       "족발      16\n",
       "회       14\n",
       "짬뽕      14\n",
       "파스타     11\n",
       "김밥      11\n",
       "삼겹살     11\n",
       "샐러드     10\n",
       "탕수육     10\n",
       "보쌈      10\n",
       "찜닭      10\n",
       "김치찌개     8\n",
       "샌드위치     8\n",
       "초밥       8\n",
       "햄버거      8\n",
       "스테이크     7\n",
       "볶음밥      7\n",
       "마라탕      7\n",
       "닭도리탕     7\n",
       "해장국      6\n",
       "김치찜      6\n",
       "짜장면      6\n",
       "라멘       5\n",
       "카레       5\n",
       "쌀국수      5\n",
       "와플       5\n",
       "닭갈비      4\n",
       "Name: userId, dtype: int64"
      ]
     },
     "execution_count": 5,
     "metadata": {},
     "output_type": "execute_result"
    }
   ],
   "source": [
    "product_count = user_df.groupby('Menu')['userId'].count()\n",
    "product_count.sort_values(ascending = False).head(30)"
   ]
  },
  {
   "cell_type": "markdown",
   "metadata": {},
   "source": [
    "# 3. 내가 선호하는 식품 7가지 골라서 rating 에 추가"
   ]
  },
  {
   "cell_type": "code",
   "execution_count": 6,
   "metadata": {},
   "outputs": [
    {
     "data": {
      "text/html": [
       "<div>\n",
       "<style scoped>\n",
       "    .dataframe tbody tr th:only-of-type {\n",
       "        vertical-align: middle;\n",
       "    }\n",
       "\n",
       "    .dataframe tbody tr th {\n",
       "        vertical-align: top;\n",
       "    }\n",
       "\n",
       "    .dataframe thead th {\n",
       "        text-align: right;\n",
       "    }\n",
       "</style>\n",
       "<table border=\"1\" class=\"dataframe\">\n",
       "  <thead>\n",
       "    <tr style=\"text-align: right;\">\n",
       "      <th></th>\n",
       "      <th>userId</th>\n",
       "      <th>Menu</th>\n",
       "      <th>Rating</th>\n",
       "      <th>매운/안매운</th>\n",
       "      <th>한중일양</th>\n",
       "      <th>뜨거운/차가운</th>\n",
       "      <th>육해공</th>\n",
       "      <th>식사/디저트</th>\n",
       "    </tr>\n",
       "  </thead>\n",
       "  <tbody>\n",
       "    <tr>\n",
       "      <th>505</th>\n",
       "      <td>cdou</td>\n",
       "      <td>마파두부밥</td>\n",
       "      <td>3</td>\n",
       "      <td>매운거</td>\n",
       "      <td>중식</td>\n",
       "      <td>뜨거운거</td>\n",
       "      <td>육</td>\n",
       "      <td>식사</td>\n",
       "    </tr>\n",
       "    <tr>\n",
       "      <th>506</th>\n",
       "      <td>cdou</td>\n",
       "      <td>족발</td>\n",
       "      <td>3</td>\n",
       "      <td>안매운거</td>\n",
       "      <td>한식</td>\n",
       "      <td>뜨거운거</td>\n",
       "      <td>육</td>\n",
       "      <td>식사</td>\n",
       "    </tr>\n",
       "    <tr>\n",
       "      <th>507</th>\n",
       "      <td>cdou</td>\n",
       "      <td>된장찌개</td>\n",
       "      <td>4</td>\n",
       "      <td>안매운거</td>\n",
       "      <td>한식</td>\n",
       "      <td>뜨거운거</td>\n",
       "      <td>육</td>\n",
       "      <td>식사</td>\n",
       "    </tr>\n",
       "    <tr>\n",
       "      <th>0</th>\n",
       "      <td>규환</td>\n",
       "      <td>치킨</td>\n",
       "      <td>5</td>\n",
       "      <td>안매운거</td>\n",
       "      <td>양식</td>\n",
       "      <td>뜨거운거</td>\n",
       "      <td>공</td>\n",
       "      <td>식사</td>\n",
       "    </tr>\n",
       "    <tr>\n",
       "      <th>1</th>\n",
       "      <td>규환</td>\n",
       "      <td>햄버거</td>\n",
       "      <td>5</td>\n",
       "      <td>안매운거</td>\n",
       "      <td>양식</td>\n",
       "      <td>뜨거운거</td>\n",
       "      <td>육</td>\n",
       "      <td>식사</td>\n",
       "    </tr>\n",
       "    <tr>\n",
       "      <th>2</th>\n",
       "      <td>규환</td>\n",
       "      <td>족발</td>\n",
       "      <td>5</td>\n",
       "      <td>안매운거</td>\n",
       "      <td>한식</td>\n",
       "      <td>뜨거운거</td>\n",
       "      <td>육</td>\n",
       "      <td>식사</td>\n",
       "    </tr>\n",
       "    <tr>\n",
       "      <th>3</th>\n",
       "      <td>규환</td>\n",
       "      <td>회</td>\n",
       "      <td>5</td>\n",
       "      <td>안매운거</td>\n",
       "      <td>일식</td>\n",
       "      <td>차가운거</td>\n",
       "      <td>해</td>\n",
       "      <td>식사</td>\n",
       "    </tr>\n",
       "    <tr>\n",
       "      <th>4</th>\n",
       "      <td>규환</td>\n",
       "      <td>돼지김치찜</td>\n",
       "      <td>5</td>\n",
       "      <td>매운거</td>\n",
       "      <td>한식</td>\n",
       "      <td>뜨거운거</td>\n",
       "      <td>육</td>\n",
       "      <td>식사</td>\n",
       "    </tr>\n",
       "    <tr>\n",
       "      <th>5</th>\n",
       "      <td>규환</td>\n",
       "      <td>삼겹살</td>\n",
       "      <td>5</td>\n",
       "      <td>안매운거</td>\n",
       "      <td>한식</td>\n",
       "      <td>뜨거운거</td>\n",
       "      <td>육</td>\n",
       "      <td>식사</td>\n",
       "    </tr>\n",
       "    <tr>\n",
       "      <th>6</th>\n",
       "      <td>규환</td>\n",
       "      <td>돈까스</td>\n",
       "      <td>5</td>\n",
       "      <td>안매운거</td>\n",
       "      <td>일식</td>\n",
       "      <td>뜨거운거</td>\n",
       "      <td>육</td>\n",
       "      <td>식사</td>\n",
       "    </tr>\n",
       "  </tbody>\n",
       "</table>\n",
       "</div>"
      ],
      "text/plain": [
       "    userId   Menu  Rating 매운/안매운 한중일양 뜨거운/차가운 육해공 식사/디저트\n",
       "505   cdou  마파두부밥       3    매운거   중식    뜨거운거   육     식사\n",
       "506   cdou     족발       3   안매운거   한식    뜨거운거   육     식사\n",
       "507   cdou   된장찌개       4   안매운거   한식    뜨거운거   육     식사\n",
       "0       규환     치킨       5   안매운거   양식    뜨거운거   공     식사\n",
       "1       규환    햄버거       5   안매운거   양식    뜨거운거   육     식사\n",
       "2       규환     족발       5   안매운거   한식    뜨거운거   육     식사\n",
       "3       규환      회       5   안매운거   일식    차가운거   해     식사\n",
       "4       규환  돼지김치찜       5    매운거   한식    뜨거운거   육     식사\n",
       "5       규환    삼겹살       5   안매운거   한식    뜨거운거   육     식사\n",
       "6       규환    돈까스       5   안매운거   일식    뜨거운거   육     식사"
      ]
     },
     "execution_count": 6,
     "metadata": {},
     "output_type": "execute_result"
    }
   ],
   "source": [
    "\n",
    "my_favorite = ['치킨', '햄버거', '족발','회', '돼지김치찜', '삼겹살', '돈까스']\n",
    "\n",
    "my_foodlist = pd.DataFrame({'userId': ['규환']*7,  'Rating':[5]*7,\n",
    "                           'Menu': ['치킨', '햄버거', '족발','회', '돼지김치찜', '삼겹살', '돈까스'],\n",
    "                          '매운/안매운' : ['안매운거', '안매운거', '안매운거', '안매운거', '매운거', '안매운거', '안매운거'],\n",
    "                            '한중일양' : ['양식', '양식', '한식', '일식', '한식', '한식', '일식'],\n",
    "                            '뜨거운/차가운' : ['뜨거운거', '뜨거운거', '뜨거운거', '차가운거', '뜨거운거', '뜨거운거', '뜨거운거'],\n",
    "                            '육해공' : ['공', '육', '육', '해', '육', '육', '육'],\n",
    "                            '식사/디저트' : ['식사', '식사', '식사', '식사', '식사', '식사', '식사']})\n",
    "\n",
    "if not user_df.isin({'userId': ['규환']})['userId'].any():\n",
    "    user_df = user_df.append(my_foodlist)\n",
    "user_df.tail(10)"
   ]
  },
  {
   "cell_type": "code",
   "execution_count": 7,
   "metadata": {},
   "outputs": [
    {
     "name": "stdout",
     "output_type": "stream",
     "text": [
      "60\n"
     ]
    }
   ],
   "source": [
    "# 고유한 유저, 프로덕트 찾기\n",
    "user_unique = user_df['userId'].unique()\n",
    "product_unique = user_df['Menu'].unique()\n",
    "\n",
    "# 유저, 프로덕트를 indexing 하는 코드 idx는 index의 약자입니다.\n",
    "user_to_idx = {v:k for k,v in enumerate(user_unique)}\n",
    "product_to_idx = {v:k for k,v in enumerate(product_unique)}\n",
    "\n",
    "print(user_to_idx['규환'])"
   ]
  },
  {
   "cell_type": "code",
   "execution_count": 8,
   "metadata": {},
   "outputs": [
    {
     "name": "stdout",
     "output_type": "stream",
     "text": [
      "유저 ID 컬럼 인덱싱 완료!!\n",
      "메뉴 컬럼 인덱싱 완료!!\n"
     ]
    },
    {
     "data": {
      "text/html": [
       "<div>\n",
       "<style scoped>\n",
       "    .dataframe tbody tr th:only-of-type {\n",
       "        vertical-align: middle;\n",
       "    }\n",
       "\n",
       "    .dataframe tbody tr th {\n",
       "        vertical-align: top;\n",
       "    }\n",
       "\n",
       "    .dataframe thead th {\n",
       "        text-align: right;\n",
       "    }\n",
       "</style>\n",
       "<table border=\"1\" class=\"dataframe\">\n",
       "  <thead>\n",
       "    <tr style=\"text-align: right;\">\n",
       "      <th></th>\n",
       "      <th>userId</th>\n",
       "      <th>Menu</th>\n",
       "      <th>Rating</th>\n",
       "      <th>매운/안매운</th>\n",
       "      <th>한중일양</th>\n",
       "      <th>뜨거운/차가운</th>\n",
       "      <th>육해공</th>\n",
       "      <th>식사/디저트</th>\n",
       "    </tr>\n",
       "  </thead>\n",
       "  <tbody>\n",
       "    <tr>\n",
       "      <th>0</th>\n",
       "      <td>0</td>\n",
       "      <td>0</td>\n",
       "      <td>4</td>\n",
       "      <td>안매운거</td>\n",
       "      <td>한식</td>\n",
       "      <td>뜨거운거</td>\n",
       "      <td>공</td>\n",
       "      <td>식사</td>\n",
       "    </tr>\n",
       "    <tr>\n",
       "      <th>1</th>\n",
       "      <td>0</td>\n",
       "      <td>1</td>\n",
       "      <td>5</td>\n",
       "      <td>매운거</td>\n",
       "      <td>중식</td>\n",
       "      <td>뜨거운거</td>\n",
       "      <td>육</td>\n",
       "      <td>식사</td>\n",
       "    </tr>\n",
       "    <tr>\n",
       "      <th>2</th>\n",
       "      <td>0</td>\n",
       "      <td>2</td>\n",
       "      <td>5</td>\n",
       "      <td>매운거</td>\n",
       "      <td>한식</td>\n",
       "      <td>뜨거운거</td>\n",
       "      <td>육</td>\n",
       "      <td>식사</td>\n",
       "    </tr>\n",
       "    <tr>\n",
       "      <th>3</th>\n",
       "      <td>0</td>\n",
       "      <td>3</td>\n",
       "      <td>5</td>\n",
       "      <td>안매운거</td>\n",
       "      <td>양식</td>\n",
       "      <td>뜨거운거</td>\n",
       "      <td>육</td>\n",
       "      <td>식사</td>\n",
       "    </tr>\n",
       "    <tr>\n",
       "      <th>4</th>\n",
       "      <td>0</td>\n",
       "      <td>4</td>\n",
       "      <td>5</td>\n",
       "      <td>안매운거</td>\n",
       "      <td>한식</td>\n",
       "      <td>뜨거운거</td>\n",
       "      <td>공</td>\n",
       "      <td>식사</td>\n",
       "    </tr>\n",
       "    <tr>\n",
       "      <th>...</th>\n",
       "      <td>...</td>\n",
       "      <td>...</td>\n",
       "      <td>...</td>\n",
       "      <td>...</td>\n",
       "      <td>...</td>\n",
       "      <td>...</td>\n",
       "      <td>...</td>\n",
       "      <td>...</td>\n",
       "    </tr>\n",
       "    <tr>\n",
       "      <th>2</th>\n",
       "      <td>60</td>\n",
       "      <td>29</td>\n",
       "      <td>5</td>\n",
       "      <td>안매운거</td>\n",
       "      <td>한식</td>\n",
       "      <td>뜨거운거</td>\n",
       "      <td>육</td>\n",
       "      <td>식사</td>\n",
       "    </tr>\n",
       "    <tr>\n",
       "      <th>3</th>\n",
       "      <td>60</td>\n",
       "      <td>16</td>\n",
       "      <td>5</td>\n",
       "      <td>안매운거</td>\n",
       "      <td>일식</td>\n",
       "      <td>차가운거</td>\n",
       "      <td>해</td>\n",
       "      <td>식사</td>\n",
       "    </tr>\n",
       "    <tr>\n",
       "      <th>4</th>\n",
       "      <td>60</td>\n",
       "      <td>140</td>\n",
       "      <td>5</td>\n",
       "      <td>매운거</td>\n",
       "      <td>한식</td>\n",
       "      <td>뜨거운거</td>\n",
       "      <td>육</td>\n",
       "      <td>식사</td>\n",
       "    </tr>\n",
       "    <tr>\n",
       "      <th>5</th>\n",
       "      <td>60</td>\n",
       "      <td>25</td>\n",
       "      <td>5</td>\n",
       "      <td>안매운거</td>\n",
       "      <td>한식</td>\n",
       "      <td>뜨거운거</td>\n",
       "      <td>육</td>\n",
       "      <td>식사</td>\n",
       "    </tr>\n",
       "    <tr>\n",
       "      <th>6</th>\n",
       "      <td>60</td>\n",
       "      <td>6</td>\n",
       "      <td>5</td>\n",
       "      <td>안매운거</td>\n",
       "      <td>일식</td>\n",
       "      <td>뜨거운거</td>\n",
       "      <td>육</td>\n",
       "      <td>식사</td>\n",
       "    </tr>\n",
       "  </tbody>\n",
       "</table>\n",
       "<p>515 rows × 8 columns</p>\n",
       "</div>"
      ],
      "text/plain": [
       "    userId  Menu  Rating 매운/안매운 한중일양 뜨거운/차가운 육해공 식사/디저트\n",
       "0        0     0       4   안매운거   한식    뜨거운거   공     식사\n",
       "1        0     1       5    매운거   중식    뜨거운거   육     식사\n",
       "2        0     2       5    매운거   한식    뜨거운거   육     식사\n",
       "3        0     3       5   안매운거   양식    뜨거운거   육     식사\n",
       "4        0     4       5   안매운거   한식    뜨거운거   공     식사\n",
       "..     ...   ...     ...    ...  ...     ...  ..    ...\n",
       "2       60    29       5   안매운거   한식    뜨거운거   육     식사\n",
       "3       60    16       5   안매운거   일식    차가운거   해     식사\n",
       "4       60   140       5    매운거   한식    뜨거운거   육     식사\n",
       "5       60    25       5   안매운거   한식    뜨거운거   육     식사\n",
       "6       60     6       5   안매운거   일식    뜨거운거   육     식사\n",
       "\n",
       "[515 rows x 8 columns]"
      ]
     },
     "execution_count": 8,
     "metadata": {},
     "output_type": "execute_result"
    }
   ],
   "source": [
    "# CSR Matrix 를 직접 만들어 보기\n",
    "\n",
    "\n",
    "# indexing을 통해 데이터 컬럼 내 값을 바꾸는 코드\n",
    "# user_to_idx.get을 통해 UserId 컬럼의 모든 값을 인덱싱한 Series를 구해 봅시다. \n",
    "\n",
    "temp_user_data = user_df['userId'].map(user_to_idx.get).dropna()\n",
    "if len(temp_user_data) == len(user_df):   # 모든 row가 정상적으로 인덱싱되었다면\n",
    "    print('유저 ID 컬럼 인덱싱 완료!!')\n",
    "    user_df['userId'] = temp_user_data   # data['UserId']을 인덱싱된 Series로 교체해 줍니다. \n",
    "else:\n",
    "    print('유저 ID 컬럼 인덱싱 실패')\n",
    "\n",
    "# product_to_idx을 통해 product 컬럼도 동일한 방식으로 인덱싱해 줍니다.\n",
    "\n",
    "temp_product_data = user_df['Menu'].map(product_to_idx.get).dropna()\n",
    "if len(temp_product_data) == len(user_df):\n",
    "    print('메뉴 컬럼 인덱싱 완료!!')\n",
    "    user_df['Menu'] = temp_product_data\n",
    "else:\n",
    "    print('메뉴 컬럼 인덱싱 실패!!')\n",
    "    \n",
    "\n",
    "user_df"
   ]
  },
  {
   "cell_type": "markdown",
   "metadata": {},
   "source": [
    "# Compressed Sparse Row Matrix\n",
    "\n",
    "유저 x 아이템 평가행렬 -> 어림잡아도 엄청난 메모리가 필요하다 (600GB 이상)\n",
    "\n",
    "유저가 좋아하지 않는 아이템에 대한 정보까지 모두 행렬에 포함되어 계산되기 때문.\n",
    "\n",
    "평가행렬 내의 대부분의 공간은 0으로 채워짐. 이를 Sparse Matrix 라고 부름.\n",
    "\n",
    "이런 메모리 낭비를 최소화 하기 위해 유저가 좋아하는 아이템에 대해서만 정보만을 저장하면서\n",
    "\n",
    "전체 행렬 형태를 유추할 수있는 데이터 구조가 필요"
   ]
  },
  {
   "cell_type": "markdown",
   "metadata": {},
   "source": [
    "# Sparse Matrix 에 관한 URL :\n",
    "\n",
    "1) https://stackoverflow.com/questions/53254104/cant-understand-scipy-sparse-csr-matrix-example/62118005#62118005\n",
    "\n",
    "2)https://lovit.github.io/nlp/machine%20learning/2018/04/09/sparse_mtarix_handling/#csr-matrix"
   ]
  },
  {
   "cell_type": "code",
   "execution_count": 9,
   "metadata": {},
   "outputs": [
    {
     "data": {
      "text/plain": [
       "<61x141 sparse matrix of type '<class 'numpy.longlong'>'\n",
       "\twith 511 stored elements in Compressed Sparse Row format>"
      ]
     },
     "execution_count": 9,
     "metadata": {},
     "output_type": "execute_result"
    }
   ],
   "source": [
    "#CSR MATRIX 만들기\n",
    "from scipy.sparse import csr_matrix\n",
    "\n",
    "num_user = user_df['userId'].nunique()\n",
    "num_product = user_df['Menu'].nunique()\n",
    "\n",
    "csr_data = csr_matrix((user_df['Rating'], (user_df.userId, user_df.Menu)), shape= (num_user, num_product))\n",
    "csr_data"
   ]
  },
  {
   "cell_type": "markdown",
   "metadata": {},
   "source": [
    "# Matrix Factorization 모델 학습\n",
    "\n",
    "implict 라는 패키지를 이용\n",
    "\n",
    "als(AlternatingLeastSqaures) 모델을 사용. Matrix Factorization 에서 쪼개진 두 Feature Matrix 를 한꺼번에 훈련하는것은 잘 수렴하지 않기 때문에,\n",
    "한쪽을 고정시키고 다른 쪽을 학습하는 방식을 번갈아 수행하는 ALS 방식이 효과적임"
   ]
  },
  {
   "cell_type": "code",
   "execution_count": 10,
   "metadata": {},
   "outputs": [
    {
     "name": "stderr",
     "output_type": "stream",
     "text": [
      "WARNING:root:OpenBLAS detected. Its highly recommend to set the environment variable 'export OPENBLAS_NUM_THREADS=1' to disable its internal multithreading\n"
     ]
    },
    {
     "data": {
      "text/plain": [
       "<141x61 sparse matrix of type '<class 'numpy.longlong'>'\n",
       "\twith 511 stored elements in Compressed Sparse Column format>"
      ]
     },
     "execution_count": 10,
     "metadata": {},
     "output_type": "execute_result"
    }
   ],
   "source": [
    "from implicit.als import AlternatingLeastSquares\n",
    "import os\n",
    "import numpy as np\n",
    "\n",
    "#implict 에서 권장하고 있는 부분\n",
    "os.environ['OPENBLAS_NUM_THREAD'] = '1'\n",
    "os.environ['KMP_DUPLICATE_LIB_OK'] = 'True'\n",
    "os.environ['MKL_NUM_THREADS'] = '1'\n",
    "\n",
    "#implict AlternatingLeastSquares 모델의 선언\n",
    "\n",
    "\n",
    "#ALS 클래스의 __init__ 파라미터 살펴보기\n",
    "# 1. factors : 유저와 아이템의 벡터를 몇 차원으로 할것인지\n",
    "# 2. regularization : 과적합 방지하기 위해 정규화 값을 얼마나 사용할 것인지\n",
    "# 3. use_gpu : GPU 를 사용할 것잉ㄴ지\n",
    "# 4. iterations : epoch 과 같은 의미. 데이터를 몇 번 반복해서 학습할 것인지\n",
    "als_model = AlternatingLeastSquares(factors = 100, regularization = 0.01, use_gpu = False, iterations = 50,\n",
    "                                   dtype = np.float32)\n",
    "\n",
    "#als 모델은 input 으로 (item X user 꼴의 matrix 를 받기 때문에 Transpose 해줍니다.)\n",
    "\n",
    "csr_data_transpose = csr_data.T\n",
    "csr_data_transpose"
   ]
  },
  {
   "cell_type": "code",
   "execution_count": 11,
   "metadata": {},
   "outputs": [
    {
     "data": {
      "application/vnd.jupyter.widget-view+json": {
       "model_id": "53cc68bbad184ce5beb0b95d4868bb41",
       "version_major": 2,
       "version_minor": 0
      },
      "text/plain": [
       "HBox(children=(FloatProgress(value=0.0, max=50.0), HTML(value='')))"
      ]
     },
     "metadata": {},
     "output_type": "display_data"
    },
    {
     "name": "stdout",
     "output_type": "stream",
     "text": [
      "\n"
     ]
    }
   ],
   "source": [
    "als_model.fit(csr_data_transpose)"
   ]
  },
  {
   "cell_type": "code",
   "execution_count": 12,
   "metadata": {},
   "outputs": [
    {
     "name": "stdout",
     "output_type": "stream",
     "text": [
      "60\n"
     ]
    }
   ],
   "source": [
    "print(user_to_idx['규환'])"
   ]
  },
  {
   "cell_type": "markdown",
   "metadata": {},
   "source": [
    "# 4.  내가 선호하는 7가지 음식 중 하나와 그 외의 음식 하나를 골라 훈련된 모델이 예측한 나의 선호도를 파악해보기"
   ]
  },
  {
   "cell_type": "code",
   "execution_count": 13,
   "metadata": {},
   "outputs": [],
   "source": [
    "규환, 족발 = user_to_idx['규환'], product_to_idx['족발']\n",
    "규환_vector, 족발_vector = als_model.user_factors[규환], als_model.item_factors[족발]"
   ]
  },
  {
   "cell_type": "code",
   "execution_count": 14,
   "metadata": {},
   "outputs": [
    {
     "data": {
      "text/plain": [
       "array([-0.39254013,  0.03754465,  0.10457709,  0.12615867,  0.18231773,\n",
       "       -0.11979407,  0.31994224, -0.09855053, -0.12258232,  1.4234871 ,\n",
       "        0.38207522, -1.1038677 , -0.43757042, -0.7501931 ,  0.3196335 ,\n",
       "       -0.4530207 , -0.42994675,  0.51213795, -0.39420998,  0.36771673,\n",
       "        0.39787653,  0.8471198 ,  0.02845231, -0.28080785, -0.08182983,\n",
       "        0.22063409,  0.04219574,  0.43071088,  0.5114772 , -0.22437507,\n",
       "        0.2154294 ,  0.8655186 , -0.10817263,  0.16384535,  0.08867316,\n",
       "       -0.48026508,  0.57241535, -0.66843134, -0.18457702,  0.7278705 ,\n",
       "        0.19669189,  0.7777618 ,  0.5385894 , -0.0497095 , -0.40826812,\n",
       "       -0.5514145 , -0.23793823,  0.45533127,  0.08685569,  0.61406165,\n",
       "        0.23816097, -0.02871154,  0.1729564 ,  0.45507812,  0.88273394,\n",
       "        0.9756832 ,  0.49181718, -0.3690904 , -0.0350242 , -0.2254468 ,\n",
       "        0.12127703,  0.75534016,  1.3467788 ,  0.12033105,  0.29322094,\n",
       "        0.9974865 ,  0.21786043, -0.11395597,  1.0194671 ,  1.1013311 ,\n",
       "        0.30830953,  0.16046265, -0.4200872 ,  1.039877  ,  0.6409038 ,\n",
       "        0.6727195 , -0.56397   ,  0.15659618,  0.6547802 ,  1.1222914 ,\n",
       "        0.6459251 ,  0.54534185, -0.62080866,  1.7558441 ,  0.05855593,\n",
       "        0.27232057, -0.61152005,  0.7058404 ,  0.3309648 ,  0.26051664,\n",
       "       -0.1973564 ,  0.44155148,  1.2180967 ,  0.40785858,  0.26731008,\n",
       "        0.01078885,  0.39201814,  0.2999488 ,  0.75209814, -0.01553686],\n",
       "      dtype=float32)"
      ]
     },
     "execution_count": 14,
     "metadata": {},
     "output_type": "execute_result"
    }
   ],
   "source": [
    "규환_vector"
   ]
  },
  {
   "cell_type": "code",
   "execution_count": 15,
   "metadata": {},
   "outputs": [
    {
     "data": {
      "text/plain": [
       "array([-1.67977102e-02,  3.42479646e-02,  4.11087126e-02,  4.77966294e-03,\n",
       "        6.79742023e-02, -1.27192559e-02,  1.08859185e-02, -1.55143533e-02,\n",
       "        3.23244594e-02,  3.79926972e-02,  4.03870158e-02, -8.30965415e-02,\n",
       "       -3.78320948e-03, -2.74093244e-02, -3.41985822e-02, -9.51649994e-03,\n",
       "        7.42349997e-02, -3.79071757e-02,  1.28804576e-02, -7.47519732e-02,\n",
       "        3.37661952e-02, -1.06396284e-02,  4.99107353e-02, -2.04061139e-02,\n",
       "        1.70392804e-02, -2.26385444e-02, -4.69057914e-03, -5.08348718e-02,\n",
       "        5.72592078e-04, -8.58625025e-02,  4.97793779e-02, -6.84110040e-04,\n",
       "       -5.75930141e-02,  2.63143145e-02, -3.30002792e-02, -5.91170527e-02,\n",
       "        9.84084545e-05, -8.16266164e-02,  9.66950879e-03,  8.24039578e-02,\n",
       "        9.38205328e-03,  2.36038845e-02, -3.66892852e-02,  3.82453017e-03,\n",
       "        1.82068590e-02, -1.12918191e-01,  8.36408697e-03, -3.85115370e-02,\n",
       "        2.40427833e-02,  7.39089772e-02,  2.75610294e-02, -8.09741691e-02,\n",
       "       -2.86957044e-02, -8.43975507e-03,  3.39443609e-02, -1.53814889e-02,\n",
       "       -2.62125526e-02, -1.43598681e-02, -8.24983716e-02,  2.56128348e-02,\n",
       "       -9.32081882e-03,  8.05503801e-02,  1.33994566e-02,  6.91990107e-02,\n",
       "        3.79679054e-02,  8.23909533e-04,  3.42290290e-02, -9.61296782e-02,\n",
       "        1.09584620e-02,  2.59366981e-03,  6.89254180e-02, -1.23333419e-02,\n",
       "       -3.03654559e-02,  3.58557254e-02,  2.48248577e-02, -1.14628188e-02,\n",
       "       -1.11588044e-03,  3.23621556e-02, -3.33521180e-02,  4.66353483e-02,\n",
       "        4.36174385e-02,  1.51823892e-03,  5.51273488e-03,  5.17629087e-02,\n",
       "        4.40049842e-02,  8.80481005e-02,  5.83266094e-03,  6.57042712e-02,\n",
       "        8.82809982e-02, -3.18614990e-02,  4.93509844e-02,  7.34162480e-02,\n",
       "        1.01329371e-01, -1.36362370e-02, -1.47298714e-02,  3.57773826e-02,\n",
       "        2.01793406e-02,  1.37849900e-04,  4.33368348e-02, -5.67599498e-02],\n",
       "      dtype=float32)"
      ]
     },
     "execution_count": 15,
     "metadata": {},
     "output_type": "execute_result"
    }
   ],
   "source": [
    "족발_vector"
   ]
  },
  {
   "cell_type": "code",
   "execution_count": 16,
   "metadata": {},
   "outputs": [
    {
     "data": {
      "text/plain": [
       "0.99924487"
      ]
     },
     "execution_count": 16,
     "metadata": {},
     "output_type": "execute_result"
    }
   ],
   "source": [
    "# 규환과 족발이 내적하는 코드\n",
    "\n",
    "np.dot(규환_vector, 족발_vector)"
   ]
  },
  {
   "cell_type": "code",
   "execution_count": 17,
   "metadata": {},
   "outputs": [
    {
     "data": {
      "text/plain": [
       "0.99932724"
      ]
     },
     "execution_count": 17,
     "metadata": {},
     "output_type": "execute_result"
    }
   ],
   "source": [
    "# 나의 회에 대한 선호도는 어떻게 예측할지\n",
    "\n",
    "회 = product_to_idx['회']\n",
    "회_vector = als_model.item_factors[회]\n",
    "np.dot(규환_vector, 회_vector)"
   ]
  },
  {
   "cell_type": "markdown",
   "metadata": {},
   "source": [
    "# 5. 내가 좋아하는 음식과 비슷한 음식을 추천받아 봅시다."
   ]
  },
  {
   "cell_type": "code",
   "execution_count": 18,
   "metadata": {},
   "outputs": [
    {
     "data": {
      "text/plain": [
       "[(25, 0.99999994),\n",
       " (65, 0.18757454),\n",
       " (24, 0.15855215),\n",
       " (49, 0.1384345),\n",
       " (92, 0.13226402),\n",
       " (93, 0.13197361),\n",
       " (91, 0.13192062),\n",
       " (129, 0.12240002),\n",
       " (128, 0.122131996),\n",
       " (140, 0.1162725),\n",
       " (30, 0.114852324),\n",
       " (19, 0.11351698),\n",
       " (20, 0.11313028),\n",
       " (15, 0.10721416),\n",
       " (113, 0.106885195)]"
      ]
     },
     "execution_count": 18,
     "metadata": {},
     "output_type": "execute_result"
    }
   ],
   "source": [
    "# 삼결살과 비슷한 음식 추천받기\n",
    "\n",
    "favorite_food = '삼겹살'\n",
    "product_id = product_to_idx[favorite_food]\n",
    "\n",
    "similar_food = als_model.similar_items(product_id, N=15)\n",
    "similar_food"
   ]
  },
  {
   "cell_type": "code",
   "execution_count": 19,
   "metadata": {},
   "outputs": [
    {
     "data": {
      "text/plain": [
       "['삼겹살',\n",
       " '순대국밥',\n",
       " '탕수육',\n",
       " '술국',\n",
       " '온모밀',\n",
       " '소고기',\n",
       " '설렁탕',\n",
       " '곱창',\n",
       " '불고기덮밥',\n",
       " '돼지김치찜',\n",
       " '쌀국수',\n",
       " '꽈배기',\n",
       " '순대',\n",
       " '라멘',\n",
       " '커피']"
      ]
     },
     "execution_count": 19,
     "metadata": {},
     "output_type": "execute_result"
    }
   ],
   "source": [
    "#음식 이름으로 변경해주기\n",
    "\n",
    "idx_to_product = {v:k for k,v in product_to_idx.items()}\n",
    "[idx_to_product[i[0]]for i in similar_food]"
   ]
  },
  {
   "cell_type": "markdown",
   "metadata": {},
   "source": [
    "# 6. 내가 좋아할만한 음식들을 추천받아보기"
   ]
  },
  {
   "cell_type": "code",
   "execution_count": 20,
   "metadata": {},
   "outputs": [
    {
     "data": {
      "text/plain": [
       "[(27, 0.0066654384),\n",
       " (3, 0.005053878),\n",
       " (64, 0.0043384805),\n",
       " (7, 0.0039267447),\n",
       " (46, 0.003692314),\n",
       " (48, 0.0033395737),\n",
       " (22, 0.0030803978),\n",
       " (30, 0.0030350313),\n",
       " (15, 0.0029757172),\n",
       " (51, 0.0028266609),\n",
       " (36, 0.002375558),\n",
       " (24, 0.0023688227),\n",
       " (77, 0.0023590177),\n",
       " (39, 0.0023426712),\n",
       " (123, 0.002138665),\n",
       " (66, 0.0020238087),\n",
       " (83, 0.00200703),\n",
       " (56, 0.0019135177),\n",
       " (50, 0.0017788801),\n",
       " (67, 0.0017538592)]"
      ]
     },
     "execution_count": 20,
     "metadata": {},
     "output_type": "execute_result"
    }
   ],
   "source": [
    "# 음식 추천받기\n",
    "\n",
    "user = user_to_idx['규환']\n",
    "\n",
    "#recommend 에서는 user * item CSR Matrix 를 받습니다.\n",
    "\n",
    "food_recommended = als_model.recommend(user, csr_data, N=20, filter_already_liked_items = True)\n",
    "food_recommended"
   ]
  },
  {
   "cell_type": "code",
   "execution_count": 21,
   "metadata": {},
   "outputs": [
    {
     "data": {
      "text/plain": [
       "['보쌈',\n",
       " '피자',\n",
       " '초밥',\n",
       " '김치찌개',\n",
       " '부대찌개',\n",
       " '순대국',\n",
       " '팥빙수',\n",
       " '쌀국수',\n",
       " '라멘',\n",
       " '치킨마요덥밥',\n",
       " '김밥',\n",
       " '탕수육',\n",
       " '육회',\n",
       " '와플',\n",
       " '롤',\n",
       " '비빕밥',\n",
       " '비빔냉면',\n",
       " '김치찜',\n",
       " '리조또',\n",
       " '닭곰탕']"
      ]
     },
     "execution_count": 21,
     "metadata": {},
     "output_type": "execute_result"
    }
   ],
   "source": [
    "[idx_to_product[i[0]]for i in food_recommended]"
   ]
  },
  {
   "cell_type": "code",
   "execution_count": 22,
   "metadata": {},
   "outputs": [
    {
     "data": {
      "text/plain": [
       "[('돈까스', 0.9659348274675017),\n",
       " ('돼지김치찜', 0.021248054215206733),\n",
       " ('치킨', 0.004205245883904505),\n",
       " ('족발', 0.003765751763085228),\n",
       " ('삼겹살', 0.0019953929345972927),\n",
       " ('회', -0.00266152606106941),\n",
       " ('햄버거', -0.004274612364646784)]"
      ]
     },
     "execution_count": 22,
     "metadata": {},
     "output_type": "execute_result"
    }
   ],
   "source": [
    "#이 추천에 기여한 정도 (돈까스의 경우)\n",
    "\n",
    "돈까스 = product_to_idx['돈까스']\n",
    "explain = als_model.explain(user, csr_data, itemid = 돈까스)\n",
    "\n",
    "[(idx_to_product[i[0]], i[1]) for i in explain [1]]"
   ]
  },
  {
   "cell_type": "code",
   "execution_count": null,
   "metadata": {},
   "outputs": [],
   "source": []
  },
  {
   "cell_type": "code",
   "execution_count": null,
   "metadata": {},
   "outputs": [],
   "source": []
  }
 ],
 "metadata": {
  "kernelspec": {
   "display_name": "Python 3",
   "language": "python",
   "name": "python3"
  },
  "language_info": {
   "codemirror_mode": {
    "name": "ipython",
    "version": 3
   },
   "file_extension": ".py",
   "mimetype": "text/x-python",
   "name": "python",
   "nbconvert_exporter": "python",
   "pygments_lexer": "ipython3",
   "version": "3.7.6"
  }
 },
 "nbformat": 4,
 "nbformat_minor": 4
}
